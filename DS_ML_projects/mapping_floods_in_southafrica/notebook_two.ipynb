{
 "cells": [
  {
   "cell_type": "code",
   "execution_count": 2,
   "metadata": {},
   "outputs": [],
   "source": [
    "import numpy as np\n",
    "import pandas as pd\n",
    "import matplotlib.pyplot as plt\n",
    "import seaborn as sns\n",
    "import tensorflow as tf\n",
    "from tensorflow.keras.models import Sequential # type: ignore\n",
    "from tensorflow.keras.layers import Dense, LSTM, Dropout # type: ignore\n",
    "from sklearn.model_selection import train_test_split\n",
    "from sklearn.preprocessing import MinMaxScaler\n",
    "from sklearn.metrics import log_loss\n"
   ]
  },
  {
   "cell_type": "code",
   "execution_count": 3,
   "metadata": {},
   "outputs": [],
   "source": [
    "train_data = pd.read_csv(\"Train.csv\")  # Contains event_id, precipitation, and labels\n",
    "test_data = pd.read_csv(\"Test.csv\")   # Contains event_id and precipitation\n",
    "composite_images = np.load(\"composite_images.npz\")  # Composite images"
   ]
  },
  {
   "cell_type": "code",
   "execution_count": 4,
   "metadata": {},
   "outputs": [],
   "source": [
    "scaler = MinMaxScaler()\n",
    "train_data[\"precipitation\"] = scaler.fit_transform(train_data[[\"precipitation\"]])\n",
    "test_data[\"precipitation\"] = scaler.transform(test_data[[\"precipitation\"]])"
   ]
  },
  {
   "cell_type": "code",
   "execution_count": 5,
   "metadata": {},
   "outputs": [],
   "source": [
    "# Prepare training data\n",
    "X = train_data[[\"precipitation\"]].values\n",
    "y = train_data[\"label\"].values"
   ]
  },
  {
   "cell_type": "code",
   "execution_count": 6,
   "metadata": {},
   "outputs": [],
   "source": [
    "# Prepare test data\n",
    "X_test = test_data[[\"precipitation\"]].values"
   ]
  },
  {
   "cell_type": "code",
   "execution_count": 7,
   "metadata": {},
   "outputs": [],
   "source": [
    "# Reshape data for LSTM input\n",
    "sequence_length = 1  # Since only precipitation is used as sequential input\n",
    "X = X.reshape(X.shape[0], sequence_length, -1)\n",
    "X_test = X_test.reshape(X_test.shape[0], sequence_length, -1)"
   ]
  },
  {
   "cell_type": "code",
   "execution_count": 8,
   "metadata": {},
   "outputs": [],
   "source": [
    "# Train-test split\n",
    "X_train, X_val, y_train, y_val = train_test_split(X, y, test_size=0.2, random_state=42)"
   ]
  },
  {
   "cell_type": "code",
   "execution_count": 9,
   "metadata": {},
   "outputs": [
    {
     "name": "stderr",
     "output_type": "stream",
     "text": [
      "c:\\Users\\Reinhard\\anaconda3\\envs\\Datascience\\Lib\\site-packages\\keras\\src\\layers\\rnn\\rnn.py:204: UserWarning: Do not pass an `input_shape`/`input_dim` argument to a layer. When using Sequential models, prefer using an `Input(shape)` object as the first layer in the model instead.\n",
      "  super().__init__(**kwargs)\n"
     ]
    }
   ],
   "source": [
    "# Build LSTM model\n",
    "model = Sequential([\n",
    "    LSTM(64, activation='selu', return_sequences=True, input_shape=(sequence_length, X.shape[2])),\n",
    "    Dropout(0.2),\n",
    "    LSTM(32, activation='selu', return_sequences=False),\n",
    "    Dropout(0.2),\n",
    "    Dense(16, activation='selu'),\n",
    "    Dense(1, activation='sigmoid')\n",
    "])\n",
    "\n",
    "model.compile(optimizer='adam', loss='binary_crossentropy', metrics=['accuracy'])\n"
   ]
  },
  {
   "cell_type": "code",
   "execution_count": 10,
   "metadata": {},
   "outputs": [
    {
     "name": "stdout",
     "output_type": "stream",
     "text": [
      "Epoch 1/20\n",
      "\u001b[1m12301/12301\u001b[0m \u001b[32m━━━━━━━━━━━━━━━━━━━━\u001b[0m\u001b[37m\u001b[0m \u001b[1m67s\u001b[0m 5ms/step - accuracy: 0.9993 - loss: 0.0191 - val_accuracy: 0.9993 - val_loss: 0.0051\n",
      "Epoch 2/20\n",
      "\u001b[1m12301/12301\u001b[0m \u001b[32m━━━━━━━━━━━━━━━━━━━━\u001b[0m\u001b[37m\u001b[0m \u001b[1m60s\u001b[0m 5ms/step - accuracy: 0.9994 - loss: 0.0051 - val_accuracy: 0.9993 - val_loss: 0.0055\n",
      "Epoch 3/20\n",
      "\u001b[1m12301/12301\u001b[0m \u001b[32m━━━━━━━━━━━━━━━━━━━━\u001b[0m\u001b[37m\u001b[0m \u001b[1m63s\u001b[0m 5ms/step - accuracy: 0.9993 - loss: 0.0052 - val_accuracy: 0.9993 - val_loss: 0.0049\n",
      "Epoch 4/20\n",
      "\u001b[1m12301/12301\u001b[0m \u001b[32m━━━━━━━━━━━━━━━━━━━━\u001b[0m\u001b[37m\u001b[0m \u001b[1m71s\u001b[0m 6ms/step - accuracy: 0.9993 - loss: 0.0054 - val_accuracy: 0.9993 - val_loss: 0.0050\n",
      "Epoch 5/20\n",
      "\u001b[1m12301/12301\u001b[0m \u001b[32m━━━━━━━━━━━━━━━━━━━━\u001b[0m\u001b[37m\u001b[0m \u001b[1m65s\u001b[0m 5ms/step - accuracy: 0.9993 - loss: 0.0052 - val_accuracy: 0.9993 - val_loss: 0.0049\n",
      "Epoch 6/20\n",
      "\u001b[1m12301/12301\u001b[0m \u001b[32m━━━━━━━━━━━━━━━━━━━━\u001b[0m\u001b[37m\u001b[0m \u001b[1m79s\u001b[0m 6ms/step - accuracy: 0.9994 - loss: 0.0045 - val_accuracy: 0.9993 - val_loss: 0.0050\n",
      "Epoch 7/20\n",
      "\u001b[1m12301/12301\u001b[0m \u001b[32m━━━━━━━━━━━━━━━━━━━━\u001b[0m\u001b[37m\u001b[0m \u001b[1m91s\u001b[0m 7ms/step - accuracy: 0.9994 - loss: 0.0047 - val_accuracy: 0.9993 - val_loss: 0.0049\n",
      "Epoch 8/20\n",
      "\u001b[1m12301/12301\u001b[0m \u001b[32m━━━━━━━━━━━━━━━━━━━━\u001b[0m\u001b[37m\u001b[0m \u001b[1m97s\u001b[0m 8ms/step - accuracy: 0.9993 - loss: 0.0053 - val_accuracy: 0.9993 - val_loss: 0.0050\n",
      "Epoch 9/20\n",
      "\u001b[1m12301/12301\u001b[0m \u001b[32m━━━━━━━━━━━━━━━━━━━━\u001b[0m\u001b[37m\u001b[0m \u001b[1m59s\u001b[0m 5ms/step - accuracy: 0.9992 - loss: 0.0059 - val_accuracy: 0.9993 - val_loss: 0.0052\n",
      "Epoch 10/20\n",
      "\u001b[1m12301/12301\u001b[0m \u001b[32m━━━━━━━━━━━━━━━━━━━━\u001b[0m\u001b[37m\u001b[0m \u001b[1m58s\u001b[0m 5ms/step - accuracy: 0.9993 - loss: 0.0052 - val_accuracy: 0.9993 - val_loss: 0.0049\n",
      "Epoch 11/20\n",
      "\u001b[1m12301/12301\u001b[0m \u001b[32m━━━━━━━━━━━━━━━━━━━━\u001b[0m\u001b[37m\u001b[0m \u001b[1m59s\u001b[0m 5ms/step - accuracy: 0.9993 - loss: 0.0053 - val_accuracy: 0.9993 - val_loss: 0.0050\n",
      "Epoch 12/20\n",
      "\u001b[1m12301/12301\u001b[0m \u001b[32m━━━━━━━━━━━━━━━━━━━━\u001b[0m\u001b[37m\u001b[0m \u001b[1m75s\u001b[0m 6ms/step - accuracy: 0.9993 - loss: 0.0051 - val_accuracy: 0.9993 - val_loss: 0.0049\n",
      "Epoch 13/20\n",
      "\u001b[1m12301/12301\u001b[0m \u001b[32m━━━━━━━━━━━━━━━━━━━━\u001b[0m\u001b[37m\u001b[0m \u001b[1m70s\u001b[0m 6ms/step - accuracy: 0.9994 - loss: 0.0044 - val_accuracy: 0.9993 - val_loss: 0.0051\n",
      "Epoch 14/20\n",
      "\u001b[1m12301/12301\u001b[0m \u001b[32m━━━━━━━━━━━━━━━━━━━━\u001b[0m\u001b[37m\u001b[0m \u001b[1m122s\u001b[0m 10ms/step - accuracy: 0.9993 - loss: 0.0054 - val_accuracy: 0.9993 - val_loss: 0.0050\n",
      "Epoch 15/20\n",
      "\u001b[1m12301/12301\u001b[0m \u001b[32m━━━━━━━━━━━━━━━━━━━━\u001b[0m\u001b[37m\u001b[0m \u001b[1m129s\u001b[0m 10ms/step - accuracy: 0.9994 - loss: 0.0046 - val_accuracy: 0.9993 - val_loss: 0.0050\n",
      "Epoch 16/20\n",
      "\u001b[1m12301/12301\u001b[0m \u001b[32m━━━━━━━━━━━━━━━━━━━━\u001b[0m\u001b[37m\u001b[0m \u001b[1m94s\u001b[0m 8ms/step - accuracy: 0.9993 - loss: 0.0052 - val_accuracy: 0.9993 - val_loss: 0.0050\n",
      "Epoch 17/20\n",
      "\u001b[1m12301/12301\u001b[0m \u001b[32m━━━━━━━━━━━━━━━━━━━━\u001b[0m\u001b[37m\u001b[0m \u001b[1m153s\u001b[0m 8ms/step - accuracy: 0.9993 - loss: 0.0050 - val_accuracy: 0.9993 - val_loss: 0.0049\n",
      "Epoch 18/20\n",
      "\u001b[1m12301/12301\u001b[0m \u001b[32m━━━━━━━━━━━━━━━━━━━━\u001b[0m\u001b[37m\u001b[0m \u001b[1m64s\u001b[0m 5ms/step - accuracy: 0.9993 - loss: 0.0050 - val_accuracy: 0.9993 - val_loss: 0.0050\n",
      "Epoch 19/20\n",
      "\u001b[1m12301/12301\u001b[0m \u001b[32m━━━━━━━━━━━━━━━━━━━━\u001b[0m\u001b[37m\u001b[0m \u001b[1m87s\u001b[0m 7ms/step - accuracy: 0.9993 - loss: 0.0053 - val_accuracy: 0.9993 - val_loss: 0.0049\n",
      "Epoch 20/20\n",
      "\u001b[1m12301/12301\u001b[0m \u001b[32m━━━━━━━━━━━━━━━━━━━━\u001b[0m\u001b[37m\u001b[0m \u001b[1m124s\u001b[0m 6ms/step - accuracy: 0.9994 - loss: 0.0048 - val_accuracy: 0.9993 - val_loss: 0.0050\n"
     ]
    }
   ],
   "source": [
    "# Train model\n",
    "history = model.fit(\n",
    "    X_train, y_train,\n",
    "    validation_data=(X_val, y_val),\n",
    "    epochs=20,\n",
    "    batch_size=32\n",
    ")"
   ]
  },
  {
   "cell_type": "code",
   "execution_count": 14,
   "metadata": {},
   "outputs": [
    {
     "name": "stdout",
     "output_type": "stream",
     "text": [
      "\u001b[1m3076/3076\u001b[0m \u001b[32m━━━━━━━━━━━━━━━━━━━━\u001b[0m\u001b[37m\u001b[0m \u001b[1m9s\u001b[0m 3ms/step\n",
      "Log Loss: 0.004999877517975564\n"
     ]
    }
   ],
   "source": [
    "# Evaluate model\n",
    "y_val_pred = model.predict(X_val)\n",
    "print(f\"Log Loss: {log_loss(y_val, y_val_pred)}\")"
   ]
  },
  {
   "cell_type": "code",
   "execution_count": 15,
   "metadata": {},
   "outputs": [
    {
     "name": "stdout",
     "output_type": "stream",
     "text": [
      "\u001b[1m5110/5110\u001b[0m \u001b[32m━━━━━━━━━━━━━━━━━━━━\u001b[0m\u001b[37m\u001b[0m \u001b[1m11s\u001b[0m 2ms/step\n"
     ]
    }
   ],
   "source": [
    "# Predict on test data\n",
    "y_test_pred = model.predict(X_test)"
   ]
  },
  {
   "cell_type": "code",
   "execution_count": 16,
   "metadata": {},
   "outputs": [],
   "source": [
    "# Save predictions for submission\n",
    "submission = pd.DataFrame({\n",
    "    \"ID\": test_data[\"event_id\"],\n",
    "    \"Target\": y_test_pred.flatten()\n",
    "})"
   ]
  },
  {
   "cell_type": "code",
   "execution_count": 18,
   "metadata": {},
   "outputs": [
    {
     "data": {
      "text/html": [
       "<div>\n",
       "<style scoped>\n",
       "    .dataframe tbody tr th:only-of-type {\n",
       "        vertical-align: middle;\n",
       "    }\n",
       "\n",
       "    .dataframe tbody tr th {\n",
       "        vertical-align: top;\n",
       "    }\n",
       "\n",
       "    .dataframe thead th {\n",
       "        text-align: right;\n",
       "    }\n",
       "</style>\n",
       "<table border=\"1\" class=\"dataframe\">\n",
       "  <thead>\n",
       "    <tr style=\"text-align: right;\">\n",
       "      <th></th>\n",
       "      <th>ID</th>\n",
       "      <th>Target</th>\n",
       "    </tr>\n",
       "  </thead>\n",
       "  <tbody>\n",
       "    <tr>\n",
       "      <th>0</th>\n",
       "      <td>id_j7b6sokflo4k_X_0</td>\n",
       "      <td>0.000156</td>\n",
       "    </tr>\n",
       "    <tr>\n",
       "      <th>1</th>\n",
       "      <td>id_j7b6sokflo4k_X_1</td>\n",
       "      <td>0.000328</td>\n",
       "    </tr>\n",
       "    <tr>\n",
       "      <th>2</th>\n",
       "      <td>id_j7b6sokflo4k_X_2</td>\n",
       "      <td>0.000156</td>\n",
       "    </tr>\n",
       "    <tr>\n",
       "      <th>3</th>\n",
       "      <td>id_j7b6sokflo4k_X_3</td>\n",
       "      <td>0.003241</td>\n",
       "    </tr>\n",
       "    <tr>\n",
       "      <th>4</th>\n",
       "      <td>id_j7b6sokflo4k_X_4</td>\n",
       "      <td>0.000295</td>\n",
       "    </tr>\n",
       "  </tbody>\n",
       "</table>\n",
       "</div>"
      ],
      "text/plain": [
       "                    ID    Target\n",
       "0  id_j7b6sokflo4k_X_0  0.000156\n",
       "1  id_j7b6sokflo4k_X_1  0.000328\n",
       "2  id_j7b6sokflo4k_X_2  0.000156\n",
       "3  id_j7b6sokflo4k_X_3  0.003241\n",
       "4  id_j7b6sokflo4k_X_4  0.000295"
      ]
     },
     "execution_count": 18,
     "metadata": {},
     "output_type": "execute_result"
    }
   ],
   "source": [
    "submission.head()"
   ]
  },
  {
   "cell_type": "code",
   "execution_count": 17,
   "metadata": {},
   "outputs": [],
   "source": [
    "submission.to_csv(\"submission_one.csv\", index=False)\n"
   ]
  },
  {
   "cell_type": "code",
   "execution_count": null,
   "metadata": {},
   "outputs": [],
   "source": []
  }
 ],
 "metadata": {
  "kernelspec": {
   "display_name": "Datascience",
   "language": "python",
   "name": "python3"
  },
  "language_info": {
   "codemirror_mode": {
    "name": "ipython",
    "version": 3
   },
   "file_extension": ".py",
   "mimetype": "text/x-python",
   "name": "python",
   "nbconvert_exporter": "python",
   "pygments_lexer": "ipython3",
   "version": "3.12.4"
  }
 },
 "nbformat": 4,
 "nbformat_minor": 2
}
