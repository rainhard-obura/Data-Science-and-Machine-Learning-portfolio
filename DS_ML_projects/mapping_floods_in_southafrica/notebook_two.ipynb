{
 "cells": [
  {
   "cell_type": "markdown",
   "metadata": {},
   "source": [
    "## Loading the necessary libraries and packages"
   ]
  },
  {
   "cell_type": "code",
   "execution_count": 2,
   "metadata": {},
   "outputs": [],
   "source": [
    "import tensorflow as tf\n",
    "from tensorflow.keras import layers, Model #type: ignore\n",
    "import numpy as np\n",
    "import pandas as pd\n",
    "from sklearn.model_selection import train_test_split\n",
    "from sklearn.preprocessing import StandardScaler\n",
    "from functools import partial\n",
    "from tqdm import tqdm\n",
    "from sklearn.utils.class_weight import compute_class_weight\n",
    "import math"
   ]
  },
  {
   "cell_type": "code",
   "execution_count": 3,
   "metadata": {},
   "outputs": [],
   "source": [
    "composite_images = np.load('composite_images.npz')\n",
    "images_path = 'composite_images.npz'\n",
    "# Load precipitation data\n",
    "train_df = pd.read_csv('train.csv')\n",
    "test_df = pd.read_csv('test.csv')"
   ]
  },
  {
   "cell_type": "code",
   "execution_count": 4,
   "metadata": {},
   "outputs": [
    {
     "name": "stdout",
     "output_type": "stream",
     "text": [
      "          event_id  precipitation  label  event_idx  event_t\n",
      "0  id_spictby0jfsb       0.000000      0          0        0\n",
      "1  id_spictby0jfsb       0.095438      0          0        1\n",
      "2  id_spictby0jfsb       1.949560      0          0        2\n",
      "3  id_spictby0jfsb       3.232160      0          0        3\n",
      "4  id_spictby0jfsb       0.000000      0          0        4\n",
      "          event_id  precipitation  event_idx  event_t\n",
      "0  id_j7b6sokflo4k        0.00000          0        0\n",
      "1  id_j7b6sokflo4k        3.01864          0        1\n",
      "2  id_j7b6sokflo4k        0.00000          0        2\n",
      "3  id_j7b6sokflo4k       16.61520          0        3\n",
      "4  id_j7b6sokflo4k        2.56706          0        4\n"
     ]
    }
   ],
   "source": [
    "\n",
    "train_df['event_id'] = train_df['event_id'].apply(lambda x: '_'.join(x.split('_')[0:2]))\n",
    "train_df['event_idx'] = train_df.groupby('event_id', sort=False).ngroup()\n",
    "test_df['event_id'] = test_df['event_id'].apply(lambda x: '_'.join(x.split('_')[0:2]))\n",
    "test_df['event_idx'] = test_df.groupby('event_id', sort=False).ngroup()\n",
    "\n",
    "train_df['event_t'] = train_df.groupby('event_id').cumcount()\n",
    "test_df['event_t'] = test_df.groupby('event_id').cumcount()\n",
    "\n",
    "print(train_df.head())\n",
    "print(test_df.head())"
   ]
  },
  {
   "cell_type": "code",
   "execution_count": 5,
   "metadata": {},
   "outputs": [],
   "source": [
    "# Constants for image preprocessing\n",
    "BAND_NAMES = ('B2', 'B3', 'B4', 'B8', 'B11', 'slope')\n",
    "H, W, NUM_CHANNELS = IMG_DIM = (128, 128, len(BAND_NAMES))\n",
    "_MAX_INT = np.iinfo(np.uint16).max\n",
    "\n",
    "def decode_slope(x: np.ndarray) -> np.ndarray:\n",
    "    # Convert 16-bit discretized slope to float32 radians\n",
    "    return (x / _MAX_INT * (math.pi / 2.0)).astype(np.float32)\n",
    "\n",
    "def normalize(x: np.ndarray, mean: int, std: int) -> np.ndarray:\n",
    "    return (x - mean) / std\n",
    "\n",
    "rough_S2_normalize = partial(normalize, mean=1250, std=500)\n",
    "\n",
    "def preprocess_image(x: np.ndarray) -> np.ndarray:\n",
    "    return np.concatenate([\n",
    "        rough_S2_normalize(x[..., :-1].astype(np.float32)),\n",
    "        decode_slope(x[..., -1:]),\n",
    "    ], axis=-1, dtype=np.float32)\n"
   ]
  },
  {
   "cell_type": "code",
   "execution_count": 6,
   "metadata": {},
   "outputs": [
    {
     "name": "stdout",
     "output_type": "stream",
     "text": [
      "Available event IDs in composite_images.npz: KeysView(NpzFile 'composite_images.npz' with keys: id_rhg5w8vmv3ny, id_rua8ey2jczl0, id_073l04ir88sn, id_wmkfqw7iwjmu, id_heri806er7xw...)\n"
     ]
    }
   ],
   "source": [
    "# Load composite images\n",
    "with np.load('composite_images.npz') as data:\n",
    "    print(\"Available event IDs in composite_images.npz:\", data.keys())\n",
    "    composite_images = {event_id: data[event_id] for event_id in data.keys()}  # Dictionary mapping event_ids to image arrays\n",
    "\n",
    "# Preprocess data and images\n",
    "def preprocess_data_and_images(data_df, composite_images):\n",
    "    event_ids = data_df['event_id'].unique()\n",
    "    timeseries = []\n",
    "    labels = []\n",
    "    images = []\n",
    "\n",
    "    for event_id in tqdm(event_ids, desc=\"Processing data\"):\n",
    "        event_data = data_df[data_df['event_id'] == event_id]\n",
    "        timeseries.append(event_data['precipitation'].values)  # Shape: (730,)\n",
    "        if 'label' in event_data.columns:\n",
    "            labels.append(event_data['label'].values)  # Shape: (730,)\n",
    "        images.append(preprocess_image(composite_images[event_id]))  # Shape: (128, 128, 6)\n",
    "\n",
    "    timeseries = np.array(timeseries)\n",
    "    labels = np.array(labels) if labels else None\n",
    "    images = np.stack(images, axis=0)\n",
    "\n",
    "    return timeseries, labels, images\n"
   ]
  },
  {
   "cell_type": "code",
   "execution_count": 7,
   "metadata": {},
   "outputs": [],
   "source": [
    "def create_image_encoder(input_shape=(128, 128, 6)):\n",
    "    \"\"\"\"\n",
    "    Creates and improved CNN based image encoder for processing satellite images\n",
    "    \"\"\"\n",
    "    inputs = layers.Input(shape=input_shape)\n",
    "\n",
    "    # add batch normalization at input\n",
    "    x = layers.BatchNormalization()(inputs)\n",
    "\n",
    "    # CNN blocks with residual connections\n",
    "    def conv_block(x, filters, kernel_size = 3):\n",
    "        skip=x\n",
    "        x = layers.Conv2D(filters, kernel_size, padding='same')(x)\n",
    "        x = layers.BatchNormalization()(x)\n",
    "        x = layers.Activation('relu')(x)\n",
    "        x = layers.Conv2D(filters, kernel_size, padding='same')(x)\n",
    "        x = layers.BatchNormalization()(x)\n",
    "\n",
    "        # add residual connection if shapes are the same\n",
    "\n",
    "        if skip.shape[-1] == filters:\n",
    "            x = layers.add([x, skip])\n",
    "        x = layers.Activation('relu')(x)\n",
    "        return x\n",
    "    # CNN architecture with residual blocks\n",
    "\n",
    "    x = conv_block(x, 32)\n",
    "    x = layers.MaxPooling2D((2,2))(x)\n",
    "    x = conv_block(x, 64)\n",
    "    x = layers.MaxPooling2D((2,2))(x)\n",
    "    x = conv_block(x, 128)\n",
    "    x = layers.MaxPooling2D((2,2))(x)\n",
    "\n",
    "    return Model(inputs=inputs, outputs = x, name = 'image_encoder')\n",
    "\n",
    "\n"
   ]
  },
  {
   "cell_type": "code",
   "execution_count": 8,
   "metadata": {},
   "outputs": [],
   "source": [
    "def create_flood_prediction_model():\n",
    "    \"\"\"\n",
    "    Creates an enhanced model with attention mechanisms and a better handling of temporaral data\n",
    "    \"\"\"\n",
    "    image_input = layers.Input(shape=(128, 128, 6), name='image_input')\n",
    "    image_encoder = create_image_encoder()\n",
    "    image_features = image_encoder(image_input)\n",
    "    image_features = layers.Flatten()(image_features)\n",
    "\n",
    "    # Precititation input with batch normalization\n",
    "    precip_input = layers.Input(shape=(730, 1), name = 'precip_input')\n",
    "    precip_normalized = layers.BatchNormalization()(precip_input)\n",
    "\n",
    "    # Repeat image_features for each timestep\n",
    "    image_features_repeated = layers.RepeatVector(730)(image_features)\n",
    "\n",
    "    #combine features with attention mechanism\n",
    "    combined = layers.Concatenate(axis=-1)([precip_normalized, image_features_repeated])\n",
    "\n",
    "    # Attention mechanism\n",
    "    attention = layers.Dense(1, activation='tanh')(combined)\n",
    "    attention_weights = layers.Softmax(axis=1)(attention)\n",
    "    combined = layers.Multiply()([combined, attention_weights])\n",
    "\n",
    "    #Bidirectional LSTM layers with skip connectins\n",
    "    lstm1 = layers.Bidirectional(layers.LSTM(64, return_sequences=True))(combined)\n",
    "    lstm1 = layers.Dropout(0.3)(lstm1)\n",
    "\n",
    "    lstm2 = layers.Bidirectional(layers.LSTM(32, return_sequences=True))(lstm1)\n",
    "    lstm2 = layers.Dropout(0.3)(lstm2)\n",
    "\n",
    "    # combine lstm outputs\n",
    "    lstm_combined = layers.Concatenate()([lstm1, lstm2])\n",
    "\n",
    "    # output layer with focal consideration\n",
    "    outputs = layers.TimeDistributed(layers.Dense(1, activation='sigmoid'))(lstm_combined)\n",
    "\n",
    "    return Model(inputs=[image_input, precip_input], outputs=outputs)\n"
   ]
  },
  {
   "cell_type": "code",
   "execution_count": 9,
   "metadata": {},
   "outputs": [],
   "source": [
    "def focal_loss(gamma=2., alpha=.25):\n",
    "    \"\"\"\n",
    "    Focal loss for handling class imbalance\n",
    "    \"\"\"\n",
    "    def focal_loss_fixed(y_true, y_pred):\n",
    "        pt_1 = tf.where(tf.equal(y_true, 1), y_pred, tf.ones_like(y_pred))\n",
    "        pt_0 = tf.where(tf.equal(y_true, 0), y_pred, tf.zeros_like(y_pred))\n",
    "        return -tf.reduce_mean(alpha * tf.pow(1. - pt_1, gamma) * tf.math.log(pt_1 + 1e-7) +\n",
    "                             (1-alpha) * tf.pow(pt_0, gamma) * tf.math.log(1. - pt_0 + 1e-7))\n",
    "    return focal_loss_fixed\n"
   ]
  },
  {
   "cell_type": "code",
   "execution_count": 10,
   "metadata": {},
   "outputs": [],
   "source": [
    "def train_model(train_df, test_df, composite_images):\n",
    "    \"\"\"\n",
    "    Main training fuction with improved data handling\n",
    "    \"\"\"\n",
    "    # preprocess_data\n",
    "    train_timeseries, train_labels, train_images = preprocess_data_and_images(train_df, composite_images)\n",
    "    test_timeseries, _, test_images = preprocess_data_and_images(test_df, composite_images)\n",
    "\n",
    "    # scale the timeseries data \n",
    "    scaler = StandardScaler()\n",
    "    train_timeseries = scaler.fit_transform(train_timeseries.reshape(-1, 1)).reshape(train_timeseries.shape)\n",
    "    test_timeseries = scaler.transform(test_timeseries.reshape(-1, 1)).reshape(test_timeseries.shape)\n",
    "\n",
    "    # add chanel dimension to thetimeseries data\n",
    "    train_timeseries = np.expand_dims(train_timeseries, axis=-1)\n",
    "    test_timeseries = np.expand_dims(test_timeseries, axis=-1)\n",
    "\n",
    "    # split trainiing data\n",
    "    train_idx, val_idx = train_test_split(np.arange(len(train_images)), test_size = 0.2, random_state = 42, stratify = train_labels.max(axis=1))\n",
    "\n",
    "    # prepare the validation data\n",
    "    # Prepare validation data\n",
    "    val_images = train_images[val_idx]\n",
    "    val_timeseries = train_timeseries[val_idx]\n",
    "    val_labels = train_labels[val_idx]\n",
    "    \n",
    "    # Update training data\n",
    "    train_images = train_images[train_idx]\n",
    "    train_timeseries = train_timeseries[train_idx]\n",
    "    train_labels = train_labels[train_idx]\n",
    "\n",
    "    # Compute class weights\n",
    "    class_weights = compute_class_weight(\n",
    "        'balanced',\n",
    "        classes=np.unique(train_labels.flatten()),\n",
    "        y=train_labels.flatten()\n",
    "    )\n",
    "    class_weight_dict = dict(enumerate(class_weights))\n",
    "\n",
    "     # Create and compile model\n",
    "    model = create_flood_prediction_model()\n",
    "    model.compile(\n",
    "        optimizer=tf.keras.optimizers.Adam(learning_rate=1e-4),\n",
    "        loss=focal_loss(gamma=2.0, alpha=0.25),\n",
    "        metrics=[\n",
    "            tf.keras.metrics.BinaryAccuracy(),\n",
    "            tf.keras.metrics.AUC(),\n",
    "            tf.keras.metrics.Precision(),\n",
    "            tf.keras.metrics.Recall()\n",
    "        ]\n",
    "    )\n",
    "\n",
    "    # Callbacks\n",
    "    callbacks = [\n",
    "        tf.keras.callbacks.EarlyStopping(\n",
    "            monitor='val_auc',\n",
    "            patience=10,\n",
    "            restore_best_weights=True,\n",
    "            mode='max'\n",
    "        ),\n",
    "        tf.keras.callbacks.ReduceLROnPlateau(\n",
    "            monitor='val_auc',\n",
    "            factor=0.5,\n",
    "            patience=5,\n",
    "            mode='max'\n",
    "        ),\n",
    "        tf.keras.callbacks.ModelCheckpoint(\n",
    "            'best_model.keras',\n",
    "            monitor='val_auc',\n",
    "            save_best_only=True,\n",
    "            mode='max'\n",
    "        )\n",
    "    ]\n",
    "\n",
    "     # Train model\n",
    "    history = model.fit(\n",
    "        [train_images, train_timeseries],\n",
    "        train_labels,\n",
    "        validation_data=([val_images, val_timeseries], val_labels),\n",
    "        epochs=100,\n",
    "        batch_size=8,\n",
    "        class_weight=class_weight_dict,\n",
    "        callbacks=callbacks,\n",
    "        shuffle=True\n",
    "    )\n",
    "    \n",
    "    return model, history, scaler"
   ]
  },
  {
   "cell_type": "code",
   "execution_count": 11,
   "metadata": {},
   "outputs": [],
   "source": [
    "def make_predictions(model, test_timeseries, test_images):\n",
    "    \"\"\"\n",
    "    Make predictions on the test data\n",
    "    \"\"\"\n",
    "    predictions = model.predict([test_images, test_timeseries])\n",
    "    return predictions"
   ]
  },
  {
   "cell_type": "code",
   "execution_count": 12,
   "metadata": {},
   "outputs": [
    {
     "name": "stderr",
     "output_type": "stream",
     "text": [
      "Processing data: 100%|██████████| 224/224 [00:07<00:00, 31.47it/s]\n"
     ]
    }
   ],
   "source": [
    "test_timeseries, _, test_images = preprocess_data_and_images(test_df, composite_images)\n"
   ]
  },
  {
   "cell_type": "code",
   "execution_count": null,
   "metadata": {},
   "outputs": [],
   "source": [
    "# Train model\n",
    "model, history, scaler = train_model(train_df, test_df, composite_images)\n",
    "# Make predictions\n",
    "#predictions = make_predictions(model, test_timeseries, test_images)"
   ]
  },
  {
   "cell_type": "code",
   "execution_count": null,
   "metadata": {},
   "outputs": [],
   "source": []
  },
  {
   "cell_type": "code",
   "execution_count": null,
   "metadata": {},
   "outputs": [],
   "source": []
  },
  {
   "cell_type": "code",
   "execution_count": 14,
   "metadata": {},
   "outputs": [
    {
     "data": {
      "text/html": [
       "<div>\n",
       "<style scoped>\n",
       "    .dataframe tbody tr th:only-of-type {\n",
       "        vertical-align: middle;\n",
       "    }\n",
       "\n",
       "    .dataframe tbody tr th {\n",
       "        vertical-align: top;\n",
       "    }\n",
       "\n",
       "    .dataframe thead th {\n",
       "        text-align: right;\n",
       "    }\n",
       "</style>\n",
       "<table border=\"1\" class=\"dataframe\">\n",
       "  <thead>\n",
       "    <tr style=\"text-align: right;\">\n",
       "      <th></th>\n",
       "      <th>event_id</th>\n",
       "      <th>label</th>\n",
       "    </tr>\n",
       "  </thead>\n",
       "  <tbody>\n",
       "    <tr>\n",
       "      <th>0</th>\n",
       "      <td>id_j7b6sokflo4k_X_0</td>\n",
       "      <td>0</td>\n",
       "    </tr>\n",
       "    <tr>\n",
       "      <th>1</th>\n",
       "      <td>id_j7b6sokflo4k_X_1</td>\n",
       "      <td>0</td>\n",
       "    </tr>\n",
       "    <tr>\n",
       "      <th>2</th>\n",
       "      <td>id_j7b6sokflo4k_X_2</td>\n",
       "      <td>0</td>\n",
       "    </tr>\n",
       "    <tr>\n",
       "      <th>3</th>\n",
       "      <td>id_j7b6sokflo4k_X_3</td>\n",
       "      <td>0</td>\n",
       "    </tr>\n",
       "    <tr>\n",
       "      <th>4</th>\n",
       "      <td>id_j7b6sokflo4k_X_4</td>\n",
       "      <td>0</td>\n",
       "    </tr>\n",
       "  </tbody>\n",
       "</table>\n",
       "</div>"
      ],
      "text/plain": [
       "              event_id  label\n",
       "0  id_j7b6sokflo4k_X_0      0\n",
       "1  id_j7b6sokflo4k_X_1      0\n",
       "2  id_j7b6sokflo4k_X_2      0\n",
       "3  id_j7b6sokflo4k_X_3      0\n",
       "4  id_j7b6sokflo4k_X_4      0"
      ]
     },
     "execution_count": 14,
     "metadata": {},
     "output_type": "execute_result"
    }
   ],
   "source": [
    "sample_submission = pd.read_csv('SampleSubmission (2).csv')\n",
    "sample_submission.head()"
   ]
  },
  {
   "cell_type": "code",
   "execution_count": 18,
   "metadata": {},
   "outputs": [
    {
     "data": {
      "text/html": [
       "<div>\n",
       "<style scoped>\n",
       "    .dataframe tbody tr th:only-of-type {\n",
       "        vertical-align: middle;\n",
       "    }\n",
       "\n",
       "    .dataframe tbody tr th {\n",
       "        vertical-align: top;\n",
       "    }\n",
       "\n",
       "    .dataframe thead th {\n",
       "        text-align: right;\n",
       "    }\n",
       "</style>\n",
       "<table border=\"1\" class=\"dataframe\">\n",
       "  <thead>\n",
       "    <tr style=\"text-align: right;\">\n",
       "      <th></th>\n",
       "      <th>ID</th>\n",
       "      <th>Target</th>\n",
       "    </tr>\n",
       "  </thead>\n",
       "  <tbody>\n",
       "    <tr>\n",
       "      <th>0</th>\n",
       "      <td>id_j7b6sokflo4k_X_0</td>\n",
       "      <td>0.000156</td>\n",
       "    </tr>\n",
       "    <tr>\n",
       "      <th>1</th>\n",
       "      <td>id_j7b6sokflo4k_X_1</td>\n",
       "      <td>0.000328</td>\n",
       "    </tr>\n",
       "    <tr>\n",
       "      <th>2</th>\n",
       "      <td>id_j7b6sokflo4k_X_2</td>\n",
       "      <td>0.000156</td>\n",
       "    </tr>\n",
       "    <tr>\n",
       "      <th>3</th>\n",
       "      <td>id_j7b6sokflo4k_X_3</td>\n",
       "      <td>0.003241</td>\n",
       "    </tr>\n",
       "    <tr>\n",
       "      <th>4</th>\n",
       "      <td>id_j7b6sokflo4k_X_4</td>\n",
       "      <td>0.000295</td>\n",
       "    </tr>\n",
       "  </tbody>\n",
       "</table>\n",
       "</div>"
      ],
      "text/plain": [
       "                    ID    Target\n",
       "0  id_j7b6sokflo4k_X_0  0.000156\n",
       "1  id_j7b6sokflo4k_X_1  0.000328\n",
       "2  id_j7b6sokflo4k_X_2  0.000156\n",
       "3  id_j7b6sokflo4k_X_3  0.003241\n",
       "4  id_j7b6sokflo4k_X_4  0.000295"
      ]
     },
     "execution_count": 18,
     "metadata": {},
     "output_type": "execute_result"
    }
   ],
   "source": [
    "sample_submission['label'] = pred.flatten()\n",
    "sample_submission.head()"
   ]
  },
  {
   "cell_type": "code",
   "execution_count": 15,
   "metadata": {},
   "outputs": [],
   "source": [
    "sample_submission.to_csv(\"submission_201.csv\", index=False)\n"
   ]
  },
  {
   "cell_type": "code",
   "execution_count": null,
   "metadata": {},
   "outputs": [],
   "source": []
  }
 ],
 "metadata": {
  "kernelspec": {
   "display_name": "Datascience",
   "language": "python",
   "name": "python3"
  },
  "language_info": {
   "codemirror_mode": {
    "name": "ipython",
    "version": 3
   },
   "file_extension": ".py",
   "mimetype": "text/x-python",
   "name": "python",
   "nbconvert_exporter": "python",
   "pygments_lexer": "ipython3",
   "version": "3.12.4"
  }
 },
 "nbformat": 4,
 "nbformat_minor": 2
}
