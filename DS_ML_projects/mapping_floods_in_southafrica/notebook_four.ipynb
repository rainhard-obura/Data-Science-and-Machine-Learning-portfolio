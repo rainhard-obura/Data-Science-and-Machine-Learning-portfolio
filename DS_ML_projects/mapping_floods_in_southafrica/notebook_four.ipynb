{
 "cells": [
  {
   "cell_type": "code",
   "execution_count": 1,
   "metadata": {},
   "outputs": [],
   "source": [
    "import numpy as np # type: ignore\n",
    "import pandas as pd # type: ignore\n",
    "import matplotlib.pyplot as plt # type: ignore\n",
    "import tensorflow as tf # type: ignore\n",
    "from tensorflow.keras import layers, Model # type: ignore\n",
    "from tensorflow.keras.layers import Conv2D, MaxPooling2D, Flatten, Dropout, Dense, LSTM, Bidirectional, Input, RepeatVector, Concatenate, LeakyReLU # type: ignore\n",
    "from sklearn.model_selection import train_test_split # type: ignore\n",
    "from functools import partial\n",
    "from tqdm import tqdm   # type: ignore\n",
    "import math"
   ]
  },
  {
   "cell_type": "code",
   "execution_count": 2,
   "metadata": {},
   "outputs": [],
   "source": [
    "train_df = pd.read_csv('train.csv')\n",
    "test_df = pd.read_csv('test.csv')"
   ]
  },
  {
   "cell_type": "code",
   "execution_count": 3,
   "metadata": {},
   "outputs": [
    {
     "name": "stdout",
     "output_type": "stream",
     "text": [
      "          event_id  precipitation  label  event_idx  event_t\n",
      "0  id_spictby0jfsb       0.000000      0          0        0\n",
      "1  id_spictby0jfsb       0.095438      0          0        1\n",
      "2  id_spictby0jfsb       1.949560      0          0        2\n",
      "3  id_spictby0jfsb       3.232160      0          0        3\n",
      "4  id_spictby0jfsb       0.000000      0          0        4\n",
      "          event_id  precipitation  event_idx  event_t\n",
      "0  id_j7b6sokflo4k        0.00000          0        0\n",
      "1  id_j7b6sokflo4k        3.01864          0        1\n",
      "2  id_j7b6sokflo4k        0.00000          0        2\n",
      "3  id_j7b6sokflo4k       16.61520          0        3\n",
      "4  id_j7b6sokflo4k        2.56706          0        4\n"
     ]
    }
   ],
   "source": [
    "\n",
    "train_df['event_id'] = train_df['event_id'].apply(lambda x: '_'.join(x.split('_')[0:2]))\n",
    "train_df['event_idx'] = train_df.groupby('event_id', sort=False).ngroup()\n",
    "test_df['event_id'] = test_df['event_id'].apply(lambda x: '_'.join(x.split('_')[0:2]))\n",
    "test_df['event_idx'] = test_df.groupby('event_id', sort=False).ngroup()\n",
    "\n",
    "train_df['event_t'] = train_df.groupby('event_id').cumcount()\n",
    "test_df['event_t'] = test_df.groupby('event_id').cumcount()\n",
    "\n",
    "print(train_df.head())\n",
    "print(test_df.head())"
   ]
  },
  {
   "cell_type": "code",
   "execution_count": 4,
   "metadata": {},
   "outputs": [],
   "source": [
    "BAND_NAMES = ('B2', 'B3','B4', 'B8', 'B11', 'slope')\n",
    "H, W, NUM_CHANNELS = IMG_DIM= (128, 128, len(BAND_NAMES))\n",
    "_MAX_INT = np.iinfo(np.int16).max\n"
   ]
  },
  {
   "cell_type": "code",
   "execution_count": 5,
   "metadata": {},
   "outputs": [],
   "source": [
    "def decode_slope(X: np.ndarray) -> np.ndarray:\n",
    "    return (X / _MAX_INT * (math.pi / 2.0 )).astype(np.float32)"
   ]
  },
  {
   "cell_type": "code",
   "execution_count": 6,
   "metadata": {},
   "outputs": [],
   "source": [
    "def normalize(x: np.ndarray, mean: int, std: int) -> np.ndarray:\n",
    "    return (x - mean) / std\n"
   ]
  },
  {
   "cell_type": "code",
   "execution_count": 7,
   "metadata": {},
   "outputs": [],
   "source": [
    "rough_S2_normalize = partial(normalize, mean=1250, std=500)"
   ]
  },
  {
   "cell_type": "code",
   "execution_count": 8,
   "metadata": {},
   "outputs": [],
   "source": [
    "def preprocess_image(x: np.ndarray) -> np.ndarray:\n",
    "    return np.concatenate([\n",
    "        rough_S2_normalize(x[..., :-1].astype(np.float32)),\n",
    "        decode_slope(x[..., -1:]),\n",
    "    ], axis=-1, dtype=np.float32)\n"
   ]
  },
  {
   "cell_type": "code",
   "execution_count": 9,
   "metadata": {},
   "outputs": [],
   "source": [
    "composite_images = np.load('composite_images.npz')\n",
    "images_path = 'composite_images.npz'"
   ]
  },
  {
   "cell_type": "code",
   "execution_count": 10,
   "metadata": {},
   "outputs": [],
   "source": [
    "def preprocess_data_and_images(data_df, composite_images):\n",
    "    event_ids = data_df['event_id'].unique()\n",
    "    timeseries = []\n",
    "    labels = []\n",
    "    images = []\n",
    "\n",
    "    for event_id in tqdm(event_ids, desc=\"Processing data\"):\n",
    "        event_data = data_df[data_df['event_id'] == event_id]\n",
    "        timeseries.append(event_data['precipitation'].values)  # Shape: (730,)\n",
    "        if 'label' in event_data.columns:\n",
    "            labels.append(event_data['label'].values)  # Shape: (730,)\n",
    "        images.append(preprocess_image(composite_images[event_id]))  # Shape: (128, 128, 6)\n",
    "\n",
    "    timeseries = np.array(timeseries)\n",
    "    labels = np.array(labels) if labels else None\n",
    "    images = np.stack(images, axis=0)\n",
    "\n",
    "    return timeseries, labels, images"
   ]
  },
  {
   "cell_type": "code",
   "execution_count": 11,
   "metadata": {},
   "outputs": [
    {
     "name": "stderr",
     "output_type": "stream",
     "text": [
      "Processing data: 100%|██████████| 674/674 [01:19<00:00,  8.43it/s]\n"
     ]
    }
   ],
   "source": [
    "train_timeseries, train_labels, train_images = preprocess_data_and_images(train_df, composite_images)\n"
   ]
  },
  {
   "cell_type": "code",
   "execution_count": 12,
   "metadata": {},
   "outputs": [],
   "source": [
    "# Split into training and validation sets\n",
    "train_split, val_split = train_test_split(\n",
    "    np.arange(len(train_timeseries)), test_size=0.1, random_state=42\n",
    ")\n",
    "\n",
    "X_precip_train, X_precip_val = train_timeseries[train_split], train_timeseries[val_split]\n",
    "y_train, y_val = train_labels[train_split], train_labels[val_split]\n",
    "X_img_train, X_img_val = train_images[train_split], train_images[val_split]"
   ]
  },
  {
   "cell_type": "code",
   "execution_count": 13,
   "metadata": {},
   "outputs": [],
   "source": [
    "from sklearn.utils.class_weight import compute_class_weight"
   ]
  },
  {
   "cell_type": "code",
   "execution_count": 33,
   "metadata": {},
   "outputs": [],
   "source": [
    "# Build the custom neural network\n",
    "# Image encoder\n",
    "image_input = Input(shape=(128, 128, 6), name='image_input')\n",
    "x = Conv2D(32, (3, 3), activation='relu', padding='same')(image_input)\n",
    "x = MaxPooling2D((2, 2))(x)\n",
    "x = Dropout(0.2)(x)\n",
    "x = Conv2D(64, (3, 3), activation='relu', padding='same')(x)\n",
    "x = MaxPooling2D((2, 2))(x)\n",
    "x = Flatten()(x)\n",
    "encoded_image = Dense(128, activation='relu')(x)"
   ]
  },
  {
   "cell_type": "code",
   "execution_count": 34,
   "metadata": {},
   "outputs": [],
   "source": [
    "# Time-series input\n",
    "precip_input = Input(shape=(730,), name='precip_input')\n",
    "# Custom layer to wrap tf.expand_dims\n",
    "class ExpandDimsLayer(layers.Layer):\n",
    "\tdef call(self, inputs):\n",
    "\t\treturn tf.expand_dims(inputs, axis=-1)\n",
    "\n",
    "# Repeat the image encoding vector 730 times and concatenate with precipitation data\n",
    "repeated_image_vector = RepeatVector(730)(encoded_image)\n",
    "expanded_precip_input = ExpandDimsLayer()(precip_input)\n",
    "concatenated = Concatenate(axis=-1)([repeated_image_vector, expanded_precip_input])\n"
   ]
  },
  {
   "cell_type": "code",
   "execution_count": 36,
   "metadata": {},
   "outputs": [],
   "source": [
    "# Bidirectional LSTM\n",
    "x = Bidirectional(LSTM(64, return_sequences=True))(concatenated)\n",
    "x = Dense(64, activation='relu')(x)\n",
    "day_probabilities = Dense(1, activation='sigmoid')(x)\n"
   ]
  },
  {
   "cell_type": "code",
   "execution_count": 37,
   "metadata": {},
   "outputs": [],
   "source": [
    "# Define the model\n",
    "model = Model(inputs=[image_input, precip_input], outputs=day_probabilities)\n"
   ]
  },
  {
   "cell_type": "code",
   "execution_count": 38,
   "metadata": {},
   "outputs": [],
   "source": [
    "# Early stopping callback\n",
    "early_stopping = tf.keras.callbacks.EarlyStopping(\n",
    "    monitor='val_loss', patience=3, restore_best_weights=True\n",
    ")"
   ]
  },
  {
   "cell_type": "code",
   "execution_count": 39,
   "metadata": {},
   "outputs": [],
   "source": [
    "# Compute class weights\n",
    "class_weights = compute_class_weight(\n",
    "    class_weight='balanced',\n",
    "    classes=np.unique(train_labels.argmax(axis=1)),\n",
    "    y=train_labels.argmax(axis=1)\n",
    ")\n",
    "class_weight_dict = {i: weight for i, weight in enumerate(class_weights)}"
   ]
  },
  {
   "cell_type": "code",
   "execution_count": 40,
   "metadata": {},
   "outputs": [],
   "source": [
    "from tensorflow.keras.losses import binary_crossentropy #type: ignore\n",
    "\n",
    "\n",
    "def focal_loss(gamma=2., alpha=0.25):\n",
    "    def loss(y_true, y_pred):\n",
    "        bce = binary_crossentropy(y_true, y_pred)\n",
    "        pt = tf.exp(-bce)  # Probabilities of predictions\n",
    "        focal = alpha * (1 - pt) ** gamma * bce\n",
    "        return tf.reduce_mean(focal)\n",
    "    return loss\n",
    "\n",
    "# Update model compilation\n",
    "model.compile(optimizer='adam', loss=focal_loss(gamma=2., alpha=0.25), metrics=['accuracy'])\n"
   ]
  },
  {
   "cell_type": "code",
   "execution_count": 41,
   "metadata": {},
   "outputs": [
    {
     "name": "stdout",
     "output_type": "stream",
     "text": [
      "Epoch 1/50\n",
      "\u001b[1m19/19\u001b[0m \u001b[32m━━━━━━━━━━━━━━━━━━━━\u001b[0m\u001b[37m\u001b[0m \u001b[1m128s\u001b[0m 5s/step - accuracy: 0.9002 - loss: 0.0049 - val_accuracy: 0.9994 - val_loss: 2.4701e-06\n",
      "Epoch 2/50\n",
      "\u001b[1m19/19\u001b[0m \u001b[32m━━━━━━━━━━━━━━━━━━━━\u001b[0m\u001b[37m\u001b[0m \u001b[1m86s\u001b[0m 4s/step - accuracy: 0.9993 - loss: 1.1308e-06 - val_accuracy: 0.9994 - val_loss: 1.1541e-06\n",
      "Epoch 3/50\n",
      "\u001b[1m19/19\u001b[0m \u001b[32m━━━━━━━━━━━━━━━━━━━━\u001b[0m\u001b[37m\u001b[0m \u001b[1m62s\u001b[0m 3s/step - accuracy: 0.9994 - loss: 5.0257e-07 - val_accuracy: 0.9994 - val_loss: 8.2543e-07\n",
      "Epoch 4/50\n",
      "\u001b[1m19/19\u001b[0m \u001b[32m━━━━━━━━━━━━━━━━━━━━\u001b[0m\u001b[37m\u001b[0m \u001b[1m58s\u001b[0m 3s/step - accuracy: 0.9993 - loss: 4.1647e-07 - val_accuracy: 0.9994 - val_loss: 7.5034e-07\n",
      "Epoch 5/50\n",
      "\u001b[1m19/19\u001b[0m \u001b[32m━━━━━━━━━━━━━━━━━━━━\u001b[0m\u001b[37m\u001b[0m \u001b[1m32s\u001b[0m 2s/step - accuracy: 0.9994 - loss: 3.5544e-07 - val_accuracy: 0.9994 - val_loss: 7.0835e-07\n",
      "Epoch 6/50\n",
      "\u001b[1m19/19\u001b[0m \u001b[32m━━━━━━━━━━━━━━━━━━━━\u001b[0m\u001b[37m\u001b[0m \u001b[1m37s\u001b[0m 2s/step - accuracy: 0.9993 - loss: 3.7652e-07 - val_accuracy: 0.9994 - val_loss: 6.6806e-07\n",
      "Epoch 7/50\n",
      "\u001b[1m19/19\u001b[0m \u001b[32m━━━━━━━━━━━━━━━━━━━━\u001b[0m\u001b[37m\u001b[0m \u001b[1m31s\u001b[0m 2s/step - accuracy: 0.9993 - loss: 3.7112e-07 - val_accuracy: 0.9994 - val_loss: 6.3064e-07\n",
      "Epoch 8/50\n",
      "\u001b[1m19/19\u001b[0m \u001b[32m━━━━━━━━━━━━━━━━━━━━\u001b[0m\u001b[37m\u001b[0m \u001b[1m46s\u001b[0m 2s/step - accuracy: 0.9994 - loss: 3.1588e-07 - val_accuracy: 0.9994 - val_loss: 5.9606e-07\n",
      "Epoch 9/50\n",
      "\u001b[1m19/19\u001b[0m \u001b[32m━━━━━━━━━━━━━━━━━━━━\u001b[0m\u001b[37m\u001b[0m \u001b[1m40s\u001b[0m 2s/step - accuracy: 0.9994 - loss: 2.8697e-07 - val_accuracy: 0.9994 - val_loss: 5.6527e-07\n",
      "Epoch 10/50\n",
      "\u001b[1m19/19\u001b[0m \u001b[32m━━━━━━━━━━━━━━━━━━━━\u001b[0m\u001b[37m\u001b[0m \u001b[1m41s\u001b[0m 2s/step - accuracy: 0.9993 - loss: 3.0143e-07 - val_accuracy: 0.9994 - val_loss: 5.3504e-07\n",
      "Epoch 11/50\n",
      "\u001b[1m19/19\u001b[0m \u001b[32m━━━━━━━━━━━━━━━━━━━━\u001b[0m\u001b[37m\u001b[0m \u001b[1m31s\u001b[0m 2s/step - accuracy: 0.9994 - loss: 2.7083e-07 - val_accuracy: 0.9994 - val_loss: 5.0844e-07\n",
      "Epoch 12/50\n",
      "\u001b[1m19/19\u001b[0m \u001b[32m━━━━━━━━━━━━━━━━━━━━\u001b[0m\u001b[37m\u001b[0m \u001b[1m35s\u001b[0m 2s/step - accuracy: 0.9993 - loss: 2.8709e-07 - val_accuracy: 0.9994 - val_loss: 4.8390e-07\n",
      "Epoch 13/50\n",
      "\u001b[1m19/19\u001b[0m \u001b[32m━━━━━━━━━━━━━━━━━━━━\u001b[0m\u001b[37m\u001b[0m \u001b[1m34s\u001b[0m 2s/step - accuracy: 0.9993 - loss: 2.5357e-07 - val_accuracy: 0.9994 - val_loss: 4.6169e-07\n",
      "Epoch 14/50\n",
      "\u001b[1m19/19\u001b[0m \u001b[32m━━━━━━━━━━━━━━━━━━━━\u001b[0m\u001b[37m\u001b[0m \u001b[1m35s\u001b[0m 2s/step - accuracy: 0.9993 - loss: 2.5500e-07 - val_accuracy: 0.9994 - val_loss: 4.4058e-07\n",
      "Epoch 15/50\n",
      "\u001b[1m19/19\u001b[0m \u001b[32m━━━━━━━━━━━━━━━━━━━━\u001b[0m\u001b[37m\u001b[0m \u001b[1m37s\u001b[0m 2s/step - accuracy: 0.9993 - loss: 2.5871e-07 - val_accuracy: 0.9994 - val_loss: 4.2162e-07\n",
      "Epoch 16/50\n",
      "\u001b[1m19/19\u001b[0m \u001b[32m━━━━━━━━━━━━━━━━━━━━\u001b[0m\u001b[37m\u001b[0m \u001b[1m48s\u001b[0m 2s/step - accuracy: 0.9994 - loss: 2.1818e-07 - val_accuracy: 0.9994 - val_loss: 4.0427e-07\n",
      "Epoch 17/50\n",
      "\u001b[1m19/19\u001b[0m \u001b[32m━━━━━━━━━━━━━━━━━━━━\u001b[0m\u001b[37m\u001b[0m \u001b[1m53s\u001b[0m 3s/step - accuracy: 0.9993 - loss: 2.2805e-07 - val_accuracy: 0.9994 - val_loss: 3.8781e-07\n",
      "Epoch 18/50\n",
      "\u001b[1m19/19\u001b[0m \u001b[32m━━━━━━━━━━━━━━━━━━━━\u001b[0m\u001b[37m\u001b[0m \u001b[1m39s\u001b[0m 2s/step - accuracy: 0.9993 - loss: 2.2040e-07 - val_accuracy: 0.9994 - val_loss: 3.7294e-07\n",
      "Epoch 19/50\n",
      "\u001b[1m19/19\u001b[0m \u001b[32m━━━━━━━━━━━━━━━━━━━━\u001b[0m\u001b[37m\u001b[0m \u001b[1m45s\u001b[0m 2s/step - accuracy: 0.9993 - loss: 2.1170e-07 - val_accuracy: 0.9994 - val_loss: 3.5924e-07\n",
      "Epoch 20/50\n",
      "\u001b[1m19/19\u001b[0m \u001b[32m━━━━━━━━━━━━━━━━━━━━\u001b[0m\u001b[37m\u001b[0m \u001b[1m37s\u001b[0m 2s/step - accuracy: 0.9993 - loss: 2.1502e-07 - val_accuracy: 0.9994 - val_loss: 3.4624e-07\n",
      "Epoch 21/50\n",
      "\u001b[1m19/19\u001b[0m \u001b[32m━━━━━━━━━━━━━━━━━━━━\u001b[0m\u001b[37m\u001b[0m \u001b[1m40s\u001b[0m 2s/step - accuracy: 0.9993 - loss: 1.8275e-07 - val_accuracy: 0.9994 - val_loss: 3.3465e-07\n",
      "Epoch 22/50\n",
      "\u001b[1m19/19\u001b[0m \u001b[32m━━━━━━━━━━━━━━━━━━━━\u001b[0m\u001b[37m\u001b[0m \u001b[1m58s\u001b[0m 3s/step - accuracy: 0.9994 - loss: 1.6936e-07 - val_accuracy: 0.9994 - val_loss: 3.2397e-07\n",
      "Epoch 23/50\n",
      "\u001b[1m19/19\u001b[0m \u001b[32m━━━━━━━━━━━━━━━━━━━━\u001b[0m\u001b[37m\u001b[0m \u001b[1m58s\u001b[0m 3s/step - accuracy: 0.9994 - loss: 1.4761e-07 - val_accuracy: 0.9994 - val_loss: 3.1376e-07\n",
      "Epoch 24/50\n",
      "\u001b[1m19/19\u001b[0m \u001b[32m━━━━━━━━━━━━━━━━━━━━\u001b[0m\u001b[37m\u001b[0m \u001b[1m55s\u001b[0m 3s/step - accuracy: 0.9993 - loss: 1.8025e-07 - val_accuracy: 0.9994 - val_loss: 3.0321e-07\n",
      "Epoch 25/50\n",
      "\u001b[1m19/19\u001b[0m \u001b[32m━━━━━━━━━━━━━━━━━━━━\u001b[0m\u001b[37m\u001b[0m \u001b[1m35s\u001b[0m 2s/step - accuracy: 0.9993 - loss: 1.6619e-07 - val_accuracy: 0.9994 - val_loss: 2.6662e-07\n",
      "Epoch 26/50\n",
      "\u001b[1m19/19\u001b[0m \u001b[32m━━━━━━━━━━━━━━━━━━━━\u001b[0m\u001b[37m\u001b[0m \u001b[1m35s\u001b[0m 2s/step - accuracy: 0.9993 - loss: 1.4659e-07 - val_accuracy: 0.9994 - val_loss: 2.6015e-07\n",
      "Epoch 27/50\n",
      "\u001b[1m19/19\u001b[0m \u001b[32m━━━━━━━━━━━━━━━━━━━━\u001b[0m\u001b[37m\u001b[0m \u001b[1m25s\u001b[0m 1s/step - accuracy: 0.9994 - loss: 1.2455e-07 - val_accuracy: 0.9994 - val_loss: 2.5428e-07\n",
      "Epoch 28/50\n",
      "\u001b[1m19/19\u001b[0m \u001b[32m━━━━━━━━━━━━━━━━━━━━\u001b[0m\u001b[37m\u001b[0m \u001b[1m31s\u001b[0m 2s/step - accuracy: 0.9994 - loss: 1.2718e-07 - val_accuracy: 0.9994 - val_loss: 2.4843e-07\n",
      "Epoch 29/50\n",
      "\u001b[1m19/19\u001b[0m \u001b[32m━━━━━━━━━━━━━━━━━━━━\u001b[0m\u001b[37m\u001b[0m \u001b[1m32s\u001b[0m 2s/step - accuracy: 0.9993 - loss: 1.4251e-07 - val_accuracy: 0.9994 - val_loss: 2.4284e-07\n",
      "Epoch 30/50\n",
      "\u001b[1m19/19\u001b[0m \u001b[32m━━━━━━━━━━━━━━━━━━━━\u001b[0m\u001b[37m\u001b[0m \u001b[1m31s\u001b[0m 2s/step - accuracy: 0.9993 - loss: 1.3411e-07 - val_accuracy: 0.9994 - val_loss: 2.3774e-07\n",
      "Epoch 31/50\n",
      "\u001b[1m19/19\u001b[0m \u001b[32m━━━━━━━━━━━━━━━━━━━━\u001b[0m\u001b[37m\u001b[0m \u001b[1m45s\u001b[0m 2s/step - accuracy: 0.9993 - loss: 1.4455e-07 - val_accuracy: 0.9994 - val_loss: 2.3293e-07\n",
      "Epoch 32/50\n",
      "\u001b[1m19/19\u001b[0m \u001b[32m━━━━━━━━━━━━━━━━━━━━\u001b[0m\u001b[37m\u001b[0m \u001b[1m65s\u001b[0m 3s/step - accuracy: 0.9993 - loss: 1.2650e-07 - val_accuracy: 0.9994 - val_loss: 2.2835e-07\n",
      "Epoch 33/50\n",
      "\u001b[1m19/19\u001b[0m \u001b[32m━━━━━━━━━━━━━━━━━━━━\u001b[0m\u001b[37m\u001b[0m \u001b[1m59s\u001b[0m 3s/step - accuracy: 0.9993 - loss: 1.2501e-07 - val_accuracy: 0.9994 - val_loss: 2.2406e-07\n",
      "Epoch 34/50\n",
      "\u001b[1m19/19\u001b[0m \u001b[32m━━━━━━━━━━━━━━━━━━━━\u001b[0m\u001b[37m\u001b[0m \u001b[1m78s\u001b[0m 4s/step - accuracy: 0.9993 - loss: 1.2622e-07 - val_accuracy: 0.9994 - val_loss: 2.1997e-07\n",
      "Epoch 35/50\n",
      "\u001b[1m19/19\u001b[0m \u001b[32m━━━━━━━━━━━━━━━━━━━━\u001b[0m\u001b[37m\u001b[0m \u001b[1m63s\u001b[0m 3s/step - accuracy: 0.9994 - loss: 1.1730e-07 - val_accuracy: 0.9994 - val_loss: 2.1604e-07\n",
      "Epoch 36/50\n",
      "\u001b[1m19/19\u001b[0m \u001b[32m━━━━━━━━━━━━━━━━━━━━\u001b[0m\u001b[37m\u001b[0m \u001b[1m65s\u001b[0m 3s/step - accuracy: 0.9993 - loss: 1.2826e-07 - val_accuracy: 0.9994 - val_loss: 2.1231e-07\n",
      "Epoch 37/50\n",
      "\u001b[1m19/19\u001b[0m \u001b[32m━━━━━━━━━━━━━━━━━━━━\u001b[0m\u001b[37m\u001b[0m \u001b[1m95s\u001b[0m 5s/step - accuracy: 0.9994 - loss: 1.1421e-07 - val_accuracy: 0.9994 - val_loss: 2.0876e-07\n",
      "Epoch 38/50\n",
      "\u001b[1m 9/19\u001b[0m \u001b[32m━━━━━━━━━\u001b[0m\u001b[37m━━━━━━━━━━━\u001b[0m \u001b[1m45s\u001b[0m 5s/step - accuracy: 0.9993 - loss: 1.1468e-07"
     ]
    },
    {
     "ename": "",
     "evalue": "",
     "output_type": "error",
     "traceback": [
      "\u001b[1;31mThe Kernel crashed while executing code in the current cell or a previous cell. \n",
      "\u001b[1;31mPlease review the code in the cell(s) to identify a possible cause of the failure. \n",
      "\u001b[1;31mClick <a href='https://aka.ms/vscodeJupyterKernelCrash'>here</a> for more info. \n",
      "\u001b[1;31mView Jupyter <a href='command:jupyter.viewOutput'>log</a> for further details."
     ]
    }
   ],
   "source": [
    "model.fit(\n",
    "    [X_img_train, X_precip_train], y_train,\n",
    "    validation_data=([X_img_val, X_precip_val], y_val),\n",
    "    epochs=50,\n",
    "    batch_size= 32,\n",
    "    callbacks=[early_stopping], \n",
    "    class_weight=class_weight_dict  \n",
    ")\n"
   ]
  },
  {
   "cell_type": "code",
   "execution_count": 136,
   "metadata": {},
   "outputs": [],
   "source": [
    "model.save('flood_prediction_model.keras')"
   ]
  },
  {
   "cell_type": "code",
   "execution_count": 24,
   "metadata": {},
   "outputs": [
    {
     "name": "stderr",
     "output_type": "stream",
     "text": [
      "Processing data: 100%|██████████| 224/224 [00:13<00:00, 16.07it/s]\n"
     ]
    }
   ],
   "source": [
    "# Preprocess test data\n",
    "test_timeseries, _, test_images = preprocess_data_and_images(test_df, composite_images)\n"
   ]
  },
  {
   "cell_type": "code",
   "execution_count": 26,
   "metadata": {},
   "outputs": [
    {
     "name": "stdout",
     "output_type": "stream",
     "text": [
      "\u001b[1m7/7\u001b[0m \u001b[32m━━━━━━━━━━━━━━━━━━━━\u001b[0m\u001b[37m\u001b[0m \u001b[1m6s\u001b[0m 421ms/step\n"
     ]
    }
   ],
   "source": [
    "predictions = model.predict([test_images, test_timeseries])"
   ]
  },
  {
   "cell_type": "code",
   "execution_count": 31,
   "metadata": {},
   "outputs": [
    {
     "data": {
      "text/plain": [
       "(224, 730, 1)"
      ]
     },
     "execution_count": 31,
     "metadata": {},
     "output_type": "execute_result"
    }
   ],
   "source": [
    "predictions.shape"
   ]
  },
  {
   "cell_type": "code",
   "execution_count": 29,
   "metadata": {},
   "outputs": [
    {
     "data": {
      "text/plain": [
       "(163520, 2)"
      ]
     },
     "execution_count": 29,
     "metadata": {},
     "output_type": "execute_result"
    }
   ],
   "source": [
    "sample_submission = pd.read_csv('SampleSubmission (2).csv')\n",
    "sample_submission.shape"
   ]
  },
  {
   "cell_type": "code",
   "execution_count": 28,
   "metadata": {},
   "outputs": [
    {
     "data": {
      "text/html": [
       "<div>\n",
       "<style scoped>\n",
       "    .dataframe tbody tr th:only-of-type {\n",
       "        vertical-align: middle;\n",
       "    }\n",
       "\n",
       "    .dataframe tbody tr th {\n",
       "        vertical-align: top;\n",
       "    }\n",
       "\n",
       "    .dataframe thead th {\n",
       "        text-align: right;\n",
       "    }\n",
       "</style>\n",
       "<table border=\"1\" class=\"dataframe\">\n",
       "  <thead>\n",
       "    <tr style=\"text-align: right;\">\n",
       "      <th></th>\n",
       "      <th>event_id</th>\n",
       "      <th>label</th>\n",
       "    </tr>\n",
       "  </thead>\n",
       "  <tbody>\n",
       "    <tr>\n",
       "      <th>0</th>\n",
       "      <td>id_j7b6sokflo4k_X_0</td>\n",
       "      <td>0.003385</td>\n",
       "    </tr>\n",
       "    <tr>\n",
       "      <th>1</th>\n",
       "      <td>id_j7b6sokflo4k_X_1</td>\n",
       "      <td>0.002081</td>\n",
       "    </tr>\n",
       "    <tr>\n",
       "      <th>2</th>\n",
       "      <td>id_j7b6sokflo4k_X_2</td>\n",
       "      <td>0.001912</td>\n",
       "    </tr>\n",
       "    <tr>\n",
       "      <th>3</th>\n",
       "      <td>id_j7b6sokflo4k_X_3</td>\n",
       "      <td>0.001895</td>\n",
       "    </tr>\n",
       "    <tr>\n",
       "      <th>4</th>\n",
       "      <td>id_j7b6sokflo4k_X_4</td>\n",
       "      <td>0.001876</td>\n",
       "    </tr>\n",
       "  </tbody>\n",
       "</table>\n",
       "</div>"
      ],
      "text/plain": [
       "              event_id     label\n",
       "0  id_j7b6sokflo4k_X_0  0.003385\n",
       "1  id_j7b6sokflo4k_X_1  0.002081\n",
       "2  id_j7b6sokflo4k_X_2  0.001912\n",
       "3  id_j7b6sokflo4k_X_3  0.001895\n",
       "4  id_j7b6sokflo4k_X_4  0.001876"
      ]
     },
     "execution_count": 28,
     "metadata": {},
     "output_type": "execute_result"
    }
   ],
   "source": [
    "sample_submission['label'] = predictions.flatten()\n",
    "sample_submission.head()"
   ]
  },
  {
   "cell_type": "code",
   "execution_count": 30,
   "metadata": {},
   "outputs": [],
   "source": [
    "sample_submission.to_csv(\"submission_435.csv\", index=False)\n"
   ]
  },
  {
   "cell_type": "code",
   "execution_count": null,
   "metadata": {},
   "outputs": [],
   "source": []
  },
  {
   "cell_type": "code",
   "execution_count": null,
   "metadata": {},
   "outputs": [],
   "source": []
  }
 ],
 "metadata": {
  "kernelspec": {
   "display_name": "Datascience",
   "language": "python",
   "name": "python3"
  },
  "language_info": {
   "codemirror_mode": {
    "name": "ipython",
    "version": 3
   },
   "file_extension": ".py",
   "mimetype": "text/x-python",
   "name": "python",
   "nbconvert_exporter": "python",
   "pygments_lexer": "ipython3",
   "version": "3.12.4"
  }
 },
 "nbformat": 4,
 "nbformat_minor": 2
}
