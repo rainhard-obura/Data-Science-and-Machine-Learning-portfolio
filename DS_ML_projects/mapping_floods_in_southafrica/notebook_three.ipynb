{
 "cells": [
  {
   "cell_type": "code",
   "execution_count": 22,
   "metadata": {},
   "outputs": [],
   "source": [
    "import numpy as np\n",
    "import pandas as pd\n",
    "import tensorflow as tf\n",
    "from tensorflow.keras.models import Model #type: ignore\n",
    "from tensorflow.keras.layers import Input, Dense, Dropout, LSTM #type: ignore\n",
    "from tensorflow.keras.callbacks import EarlyStopping #type: ignore\n",
    "from sklearn.model_selection import train_test_split\n",
    "from sklearn.utils.class_weight import compute_class_weight\n"
   ]
  },
  {
   "cell_type": "code",
   "execution_count": 25,
   "metadata": {},
   "outputs": [],
   "source": [
    "train_df = pd.read_csv('Train.csv')\n",
    "test_df = pd.read_csv('Test.csv')"
   ]
  },
  {
   "cell_type": "code",
   "execution_count": 26,
   "metadata": {},
   "outputs": [
    {
     "name": "stdout",
     "output_type": "stream",
     "text": [
      "              event_id  precipitation  label  event_idx  event_t\n",
      "0  id_spictby0jfsb_X_0       0.000000      0          0        0\n",
      "1  id_spictby0jfsb_X_1       0.095438      0          1        0\n",
      "2  id_spictby0jfsb_X_2       1.949560      0          2        0\n",
      "3  id_spictby0jfsb_X_3       3.232160      0          3        0\n",
      "4  id_spictby0jfsb_X_4       0.000000      0          4        0\n",
      "              event_id  precipitation  event_idx  event_t\n",
      "0  id_j7b6sokflo4k_X_0        0.00000          0        0\n",
      "1  id_j7b6sokflo4k_X_1        3.01864          1        0\n",
      "2  id_j7b6sokflo4k_X_2        0.00000          2        0\n",
      "3  id_j7b6sokflo4k_X_3       16.61520          3        0\n",
      "4  id_j7b6sokflo4k_X_4        2.56706          4        0\n"
     ]
    }
   ],
   "source": [
    "\n",
    "train_df['event_idx'] = train_df.groupby('event_id', sort=False).ngroup()\n",
    "test_df['event_idx'] = test_df.groupby('event_id', sort=False).ngroup()\n",
    "\n",
    "train_df['event_t'] = train_df.groupby('event_id').cumcount()\n",
    "test_df['event_t'] = test_df.groupby('event_id').cumcount()\n",
    "\n",
    "print(train_df.head())\n",
    "print(test_df.head())"
   ]
  },
  {
   "cell_type": "code",
   "execution_count": 27,
   "metadata": {},
   "outputs": [],
   "source": [
    "# Ensure data is sorted by event_id and event_t to maintain sequence order\n",
    "train_df.sort_values(by=['event_id', 'event_t'], inplace=True)\n",
    "test_df.sort_values(by=['event_id', 'event_t'], inplace=True)\n"
   ]
  },
  {
   "cell_type": "code",
   "execution_count": 28,
   "metadata": {},
   "outputs": [],
   "source": [
    "# Keep precipitation values row-wise (No aggregation)\n",
    "X_train = train_df[['precipitation', 'event_t']].values  # Keep both precipitation & time\n",
    "X_test = test_df[['precipitation', 'event_t']].values    # Same for test\n",
    "y_train = train_df['label'].values  # Keep row-wise labels\n"
   ]
  },
  {
   "cell_type": "code",
   "execution_count": 29,
   "metadata": {},
   "outputs": [],
   "source": [
    "# Normalize precipitation\n",
    "X_train[:, 0] = (X_train[:, 0] - np.mean(X_train[:, 0])) / np.std(X_train[:, 0])\n",
    "X_test[:, 0] = (X_test[:, 0] - np.mean(X_test[:, 0])) / np.std(X_test[:, 0])\n"
   ]
  },
  {
   "cell_type": "code",
   "execution_count": 30,
   "metadata": {},
   "outputs": [],
   "source": [
    "# Reshape for LSTM (samples, timesteps, features)\n",
    "X_train = X_train.reshape(X_train.shape[0], 1, 2)\n",
    "X_test = X_test.reshape(X_test.shape[0], 1, 2)"
   ]
  },
  {
   "cell_type": "code",
   "execution_count": 31,
   "metadata": {},
   "outputs": [],
   "source": [
    "# Train-validation split\n",
    "X_train, X_val, y_train, y_val = train_test_split(X_train, y_train, test_size=0.1, random_state=42)\n",
    "\n",
    "# Compute class weights for imbalance handling\n",
    "class_weights = compute_class_weight('balanced', classes=np.unique(y_train), y=y_train)\n",
    "class_weight_dict = {i: weight for i, weight in enumerate(class_weights)}\n"
   ]
  },
  {
   "cell_type": "code",
   "execution_count": 32,
   "metadata": {},
   "outputs": [],
   "source": [
    "# Define LSTM model\n",
    "input_precip = Input(shape=(1, 2))  # Single timestep with 2 features (precipitation, event_t)\n",
    "x = LSTM(32, return_sequences=True)(input_precip)\n",
    "x = LSTM(16)(x)\n",
    "x = Dropout(0.3)(x)\n",
    "x = Dense(8, activation='relu')(x)\n",
    "output = Dense(1, activation='sigmoid')(x)  # Binary classification\n",
    "\n",
    "model = Model(inputs=input_precip, outputs=output)\n",
    "model.compile(optimizer='adam', loss='binary_crossentropy', metrics=['accuracy'])\n"
   ]
  },
  {
   "cell_type": "code",
   "execution_count": 33,
   "metadata": {},
   "outputs": [],
   "source": [
    "# Early stopping callback\n",
    "early_stopping = EarlyStopping(monitor='val_loss', patience=3, restore_best_weights=True)"
   ]
  },
  {
   "cell_type": "code",
   "execution_count": 43,
   "metadata": {},
   "outputs": [
    {
     "name": "stdout",
     "output_type": "stream",
     "text": [
      "Epoch 1/100\n",
      "\u001b[1m13839/13839\u001b[0m \u001b[32m━━━━━━━━━━━━━━━━━━━━\u001b[0m\u001b[37m\u001b[0m \u001b[1m83s\u001b[0m 6ms/step - accuracy: 0.8653 - loss: 0.6063 - val_accuracy: 0.8525 - val_loss: 0.6273\n",
      "Epoch 2/100\n",
      "\u001b[1m13839/13839\u001b[0m \u001b[32m━━━━━━━━━━━━━━━━━━━━\u001b[0m\u001b[37m\u001b[0m \u001b[1m69s\u001b[0m 5ms/step - accuracy: 0.8576 - loss: 0.6001 - val_accuracy: 0.8620 - val_loss: 0.5457\n",
      "Epoch 3/100\n",
      "\u001b[1m13839/13839\u001b[0m \u001b[32m━━━━━━━━━━━━━━━━━━━━\u001b[0m\u001b[37m\u001b[0m \u001b[1m81s\u001b[0m 6ms/step - accuracy: 0.8613 - loss: 0.5562 - val_accuracy: 0.8518 - val_loss: 0.6881\n",
      "Epoch 4/100\n",
      "\u001b[1m13839/13839\u001b[0m \u001b[32m━━━━━━━━━━━━━━━━━━━━\u001b[0m\u001b[37m\u001b[0m \u001b[1m78s\u001b[0m 6ms/step - accuracy: 0.8596 - loss: 0.5919 - val_accuracy: 0.8692 - val_loss: 0.5338\n",
      "Epoch 5/100\n",
      "\u001b[1m13839/13839\u001b[0m \u001b[32m━━━━━━━━━━━━━━━━━━━━\u001b[0m\u001b[37m\u001b[0m \u001b[1m70s\u001b[0m 5ms/step - accuracy: 0.8659 - loss: 0.5730 - val_accuracy: 0.8887 - val_loss: 0.4022\n",
      "Epoch 6/100\n",
      "\u001b[1m13839/13839\u001b[0m \u001b[32m━━━━━━━━━━━━━━━━━━━━\u001b[0m\u001b[37m\u001b[0m \u001b[1m88s\u001b[0m 6ms/step - accuracy: 0.8717 - loss: 0.5688 - val_accuracy: 0.8530 - val_loss: 0.6020\n",
      "Epoch 7/100\n",
      "\u001b[1m13839/13839\u001b[0m \u001b[32m━━━━━━━━━━━━━━━━━━━━\u001b[0m\u001b[37m\u001b[0m \u001b[1m80s\u001b[0m 5ms/step - accuracy: 0.8391 - loss: 0.6031 - val_accuracy: 0.8752 - val_loss: 0.4790\n",
      "Epoch 8/100\n",
      "\u001b[1m13839/13839\u001b[0m \u001b[32m━━━━━━━━━━━━━━━━━━━━\u001b[0m\u001b[37m\u001b[0m \u001b[1m65s\u001b[0m 5ms/step - accuracy: 0.8748 - loss: 0.5446 - val_accuracy: 0.8779 - val_loss: 0.4906\n",
      "Epoch 9/100\n",
      "\u001b[1m13839/13839\u001b[0m \u001b[32m━━━━━━━━━━━━━━━━━━━━\u001b[0m\u001b[37m\u001b[0m \u001b[1m52s\u001b[0m 4ms/step - accuracy: 0.8841 - loss: 0.5416 - val_accuracy: 0.8532 - val_loss: 0.7005\n",
      "Epoch 10/100\n",
      "\u001b[1m13839/13839\u001b[0m \u001b[32m━━━━━━━━━━━━━━━━━━━━\u001b[0m\u001b[37m\u001b[0m \u001b[1m51s\u001b[0m 4ms/step - accuracy: 0.8658 - loss: 0.5946 - val_accuracy: 0.8795 - val_loss: 0.5379\n",
      "Epoch 11/100\n",
      "\u001b[1m13839/13839\u001b[0m \u001b[32m━━━━━━━━━━━━━━━━━━━━\u001b[0m\u001b[37m\u001b[0m \u001b[1m66s\u001b[0m 5ms/step - accuracy: 0.8743 - loss: 0.5971 - val_accuracy: 0.8691 - val_loss: 0.5302\n",
      "Epoch 12/100\n",
      "\u001b[1m13839/13839\u001b[0m \u001b[32m━━━━━━━━━━━━━━━━━━━━\u001b[0m\u001b[37m\u001b[0m \u001b[1m75s\u001b[0m 5ms/step - accuracy: 0.8716 - loss: 0.5858 - val_accuracy: 0.8664 - val_loss: 0.5516\n",
      "Epoch 13/100\n",
      "\u001b[1m13839/13839\u001b[0m \u001b[32m━━━━━━━━━━━━━━━━━━━━\u001b[0m\u001b[37m\u001b[0m \u001b[1m71s\u001b[0m 5ms/step - accuracy: 0.8634 - loss: 0.5682 - val_accuracy: 0.8584 - val_loss: 0.6710\n",
      "Epoch 14/100\n",
      "\u001b[1m13839/13839\u001b[0m \u001b[32m━━━━━━━━━━━━━━━━━━━━\u001b[0m\u001b[37m\u001b[0m \u001b[1m86s\u001b[0m 5ms/step - accuracy: 0.8604 - loss: 0.6181 - val_accuracy: 0.8741 - val_loss: 0.4706\n",
      "Epoch 15/100\n",
      "\u001b[1m13839/13839\u001b[0m \u001b[32m━━━━━━━━━━━━━━━━━━━━\u001b[0m\u001b[37m\u001b[0m \u001b[1m74s\u001b[0m 5ms/step - accuracy: 0.8718 - loss: 0.6198 - val_accuracy: 0.8649 - val_loss: 0.5499\n",
      "Epoch 16/100\n",
      "\u001b[1m13839/13839\u001b[0m \u001b[32m━━━━━━━━━━━━━━━━━━━━\u001b[0m\u001b[37m\u001b[0m \u001b[1m68s\u001b[0m 5ms/step - accuracy: 0.8717 - loss: 0.5748 - val_accuracy: 0.8658 - val_loss: 0.5816\n",
      "Epoch 17/100\n",
      "\u001b[1m13839/13839\u001b[0m \u001b[32m━━━━━━━━━━━━━━━━━━━━\u001b[0m\u001b[37m\u001b[0m \u001b[1m92s\u001b[0m 6ms/step - accuracy: 0.8747 - loss: 0.5511 - val_accuracy: 0.8620 - val_loss: 0.6058\n",
      "Epoch 18/100\n",
      "\u001b[1m13839/13839\u001b[0m \u001b[32m━━━━━━━━━━━━━━━━━━━━\u001b[0m\u001b[37m\u001b[0m \u001b[1m75s\u001b[0m 5ms/step - accuracy: 0.8650 - loss: 0.5725 - val_accuracy: 0.8542 - val_loss: 0.6600\n",
      "Epoch 19/100\n",
      "\u001b[1m13839/13839\u001b[0m \u001b[32m━━━━━━━━━━━━━━━━━━━━\u001b[0m\u001b[37m\u001b[0m \u001b[1m86s\u001b[0m 6ms/step - accuracy: 0.8686 - loss: 0.5854 - val_accuracy: 0.8828 - val_loss: 0.5047\n",
      "Epoch 20/100\n",
      "\u001b[1m13839/13839\u001b[0m \u001b[32m━━━━━━━━━━━━━━━━━━━━\u001b[0m\u001b[37m\u001b[0m \u001b[1m70s\u001b[0m 5ms/step - accuracy: 0.8850 - loss: 0.5621 - val_accuracy: 0.8375 - val_loss: 0.7172\n",
      "Epoch 21/100\n",
      "\u001b[1m13839/13839\u001b[0m \u001b[32m━━━━━━━━━━━━━━━━━━━━\u001b[0m\u001b[37m\u001b[0m \u001b[1m78s\u001b[0m 6ms/step - accuracy: 0.8611 - loss: 0.5803 - val_accuracy: 0.8515 - val_loss: 0.6143\n",
      "Epoch 22/100\n",
      "\u001b[1m13839/13839\u001b[0m \u001b[32m━━━━━━━━━━━━━━━━━━━━\u001b[0m\u001b[37m\u001b[0m \u001b[1m76s\u001b[0m 5ms/step - accuracy: 0.8589 - loss: 0.5719 - val_accuracy: 0.8593 - val_loss: 0.5469\n",
      "Epoch 23/100\n",
      "\u001b[1m13839/13839\u001b[0m \u001b[32m━━━━━━━━━━━━━━━━━━━━\u001b[0m\u001b[37m\u001b[0m \u001b[1m75s\u001b[0m 5ms/step - accuracy: 0.8642 - loss: 0.6126 - val_accuracy: 0.8757 - val_loss: 0.4093\n",
      "Epoch 24/100\n",
      "\u001b[1m13839/13839\u001b[0m \u001b[32m━━━━━━━━━━━━━━━━━━━━\u001b[0m\u001b[37m\u001b[0m \u001b[1m73s\u001b[0m 5ms/step - accuracy: 0.8653 - loss: 0.5678 - val_accuracy: 0.8538 - val_loss: 0.6244\n",
      "Epoch 25/100\n",
      "\u001b[1m13839/13839\u001b[0m \u001b[32m━━━━━━━━━━━━━━━━━━━━\u001b[0m\u001b[37m\u001b[0m \u001b[1m75s\u001b[0m 4ms/step - accuracy: 0.8630 - loss: 0.5970 - val_accuracy: 0.8795 - val_loss: 0.3770\n",
      "Epoch 26/100\n",
      "\u001b[1m13839/13839\u001b[0m \u001b[32m━━━━━━━━━━━━━━━━━━━━\u001b[0m\u001b[37m\u001b[0m \u001b[1m62s\u001b[0m 4ms/step - accuracy: 0.8619 - loss: 0.6151 - val_accuracy: 0.8832 - val_loss: 0.5026\n",
      "Epoch 27/100\n",
      "\u001b[1m13839/13839\u001b[0m \u001b[32m━━━━━━━━━━━━━━━━━━━━\u001b[0m\u001b[37m\u001b[0m \u001b[1m55s\u001b[0m 4ms/step - accuracy: 0.8702 - loss: 0.5805 - val_accuracy: 0.8609 - val_loss: 0.5662\n",
      "Epoch 28/100\n",
      "\u001b[1m13839/13839\u001b[0m \u001b[32m━━━━━━━━━━━━━━━━━━━━\u001b[0m\u001b[37m\u001b[0m \u001b[1m55s\u001b[0m 4ms/step - accuracy: 0.8632 - loss: 0.5611 - val_accuracy: 0.8547 - val_loss: 0.6308\n",
      "Epoch 29/100\n",
      "\u001b[1m13839/13839\u001b[0m \u001b[32m━━━━━━━━━━━━━━━━━━━━\u001b[0m\u001b[37m\u001b[0m \u001b[1m61s\u001b[0m 4ms/step - accuracy: 0.8481 - loss: 0.6091 - val_accuracy: 0.8542 - val_loss: 0.6647\n",
      "Epoch 30/100\n",
      "\u001b[1m13839/13839\u001b[0m \u001b[32m━━━━━━━━━━━━━━━━━━━━\u001b[0m\u001b[37m\u001b[0m \u001b[1m81s\u001b[0m 6ms/step - accuracy: 0.8658 - loss: 0.5757 - val_accuracy: 0.8699 - val_loss: 0.5451\n",
      "Epoch 31/100\n",
      "\u001b[1m13839/13839\u001b[0m \u001b[32m━━━━━━━━━━━━━━━━━━━━\u001b[0m\u001b[37m\u001b[0m \u001b[1m76s\u001b[0m 5ms/step - accuracy: 0.8696 - loss: 0.5639 - val_accuracy: 0.8525 - val_loss: 0.6302\n",
      "Epoch 32/100\n",
      "\u001b[1m13839/13839\u001b[0m \u001b[32m━━━━━━━━━━━━━━━━━━━━\u001b[0m\u001b[37m\u001b[0m \u001b[1m74s\u001b[0m 5ms/step - accuracy: 0.8594 - loss: 0.5674 - val_accuracy: 0.8625 - val_loss: 0.5409\n",
      "Epoch 33/100\n",
      "\u001b[1m13839/13839\u001b[0m \u001b[32m━━━━━━━━━━━━━━━━━━━━\u001b[0m\u001b[37m\u001b[0m \u001b[1m70s\u001b[0m 4ms/step - accuracy: 0.8619 - loss: 0.5667 - val_accuracy: 0.8618 - val_loss: 0.4935\n",
      "Epoch 34/100\n",
      "\u001b[1m13839/13839\u001b[0m \u001b[32m━━━━━━━━━━━━━━━━━━━━\u001b[0m\u001b[37m\u001b[0m \u001b[1m76s\u001b[0m 5ms/step - accuracy: 0.8586 - loss: 0.5781 - val_accuracy: 0.8585 - val_loss: 0.4386\n",
      "Epoch 35/100\n",
      "\u001b[1m13839/13839\u001b[0m \u001b[32m━━━━━━━━━━━━━━━━━━━━\u001b[0m\u001b[37m\u001b[0m \u001b[1m79s\u001b[0m 6ms/step - accuracy: 0.8448 - loss: 0.6159 - val_accuracy: 0.8648 - val_loss: 0.4216\n",
      "Epoch 36/100\n",
      "\u001b[1m13839/13839\u001b[0m \u001b[32m━━━━━━━━━━━━━━━━━━━━\u001b[0m\u001b[37m\u001b[0m \u001b[1m63s\u001b[0m 5ms/step - accuracy: 0.8488 - loss: 0.6199 - val_accuracy: 0.8668 - val_loss: 0.4323\n",
      "Epoch 37/100\n",
      "\u001b[1m13839/13839\u001b[0m \u001b[32m━━━━━━━━━━━━━━━━━━━━\u001b[0m\u001b[37m\u001b[0m \u001b[1m79s\u001b[0m 6ms/step - accuracy: 0.8557 - loss: 0.5863 - val_accuracy: 0.8658 - val_loss: 0.4950\n",
      "Epoch 38/100\n",
      "\u001b[1m13839/13839\u001b[0m \u001b[32m━━━━━━━━━━━━━━━━━━━━\u001b[0m\u001b[37m\u001b[0m \u001b[1m82s\u001b[0m 6ms/step - accuracy: 0.8590 - loss: 0.5776 - val_accuracy: 0.8479 - val_loss: 0.6405\n",
      "Epoch 39/100\n",
      "\u001b[1m13839/13839\u001b[0m \u001b[32m━━━━━━━━━━━━━━━━━━━━\u001b[0m\u001b[37m\u001b[0m \u001b[1m71s\u001b[0m 5ms/step - accuracy: 0.8218 - loss: 0.6020 - val_accuracy: 0.8759 - val_loss: 0.3885\n",
      "Epoch 40/100\n",
      "\u001b[1m13839/13839\u001b[0m \u001b[32m━━━━━━━━━━━━━━━━━━━━\u001b[0m\u001b[37m\u001b[0m \u001b[1m86s\u001b[0m 5ms/step - accuracy: 0.8519 - loss: 0.6078 - val_accuracy: 0.8633 - val_loss: 0.4696\n",
      "Epoch 41/100\n",
      "\u001b[1m13839/13839\u001b[0m \u001b[32m━━━━━━━━━━━━━━━━━━━━\u001b[0m\u001b[37m\u001b[0m \u001b[1m72s\u001b[0m 5ms/step - accuracy: 0.8502 - loss: 0.6110 - val_accuracy: 0.8566 - val_loss: 0.5330\n",
      "Epoch 42/100\n",
      "\u001b[1m13839/13839\u001b[0m \u001b[32m━━━━━━━━━━━━━━━━━━━━\u001b[0m\u001b[37m\u001b[0m \u001b[1m84s\u001b[0m 5ms/step - accuracy: 0.8459 - loss: 0.5915 - val_accuracy: 0.8441 - val_loss: 0.6419\n",
      "Epoch 43/100\n",
      "\u001b[1m13839/13839\u001b[0m \u001b[32m━━━━━━━━━━━━━━━━━━━━\u001b[0m\u001b[37m\u001b[0m \u001b[1m69s\u001b[0m 5ms/step - accuracy: 0.8415 - loss: 0.5906 - val_accuracy: 0.9016 - val_loss: 0.3696\n",
      "Epoch 44/100\n",
      "\u001b[1m13839/13839\u001b[0m \u001b[32m━━━━━━━━━━━━━━━━━━━━\u001b[0m\u001b[37m\u001b[0m \u001b[1m55s\u001b[0m 4ms/step - accuracy: 0.8482 - loss: 0.5925 - val_accuracy: 0.8549 - val_loss: 0.5545\n",
      "Epoch 45/100\n",
      "\u001b[1m13839/13839\u001b[0m \u001b[32m━━━━━━━━━━━━━━━━━━━━\u001b[0m\u001b[37m\u001b[0m \u001b[1m55s\u001b[0m 4ms/step - accuracy: 0.8309 - loss: 0.5615 - val_accuracy: 0.8554 - val_loss: 0.5390\n",
      "Epoch 46/100\n",
      "\u001b[1m13839/13839\u001b[0m \u001b[32m━━━━━━━━━━━━━━━━━━━━\u001b[0m\u001b[37m\u001b[0m \u001b[1m53s\u001b[0m 4ms/step - accuracy: 0.8492 - loss: 0.5703 - val_accuracy: 0.8551 - val_loss: 0.5433\n",
      "Epoch 47/100\n",
      "\u001b[1m13839/13839\u001b[0m \u001b[32m━━━━━━━━━━━━━━━━━━━━\u001b[0m\u001b[37m\u001b[0m \u001b[1m49s\u001b[0m 4ms/step - accuracy: 0.8383 - loss: 0.5949 - val_accuracy: 0.8935 - val_loss: 0.3775\n",
      "Epoch 48/100\n",
      "\u001b[1m13839/13839\u001b[0m \u001b[32m━━━━━━━━━━━━━━━━━━━━\u001b[0m\u001b[37m\u001b[0m \u001b[1m50s\u001b[0m 4ms/step - accuracy: 0.8330 - loss: 0.5917 - val_accuracy: 0.8643 - val_loss: 0.4340\n",
      "Epoch 49/100\n",
      "\u001b[1m13839/13839\u001b[0m \u001b[32m━━━━━━━━━━━━━━━━━━━━\u001b[0m\u001b[37m\u001b[0m \u001b[1m49s\u001b[0m 4ms/step - accuracy: 0.8505 - loss: 0.5538 - val_accuracy: 0.8424 - val_loss: 0.6326\n",
      "Epoch 50/100\n",
      "\u001b[1m13839/13839\u001b[0m \u001b[32m━━━━━━━━━━━━━━━━━━━━\u001b[0m\u001b[37m\u001b[0m \u001b[1m50s\u001b[0m 4ms/step - accuracy: 0.8422 - loss: 0.5525 - val_accuracy: 0.8338 - val_loss: 0.6986\n",
      "Epoch 51/100\n",
      "\u001b[1m13839/13839\u001b[0m \u001b[32m━━━━━━━━━━━━━━━━━━━━\u001b[0m\u001b[37m\u001b[0m \u001b[1m50s\u001b[0m 4ms/step - accuracy: 0.8368 - loss: 0.5767 - val_accuracy: 0.8488 - val_loss: 0.5606\n",
      "Epoch 52/100\n",
      "\u001b[1m13839/13839\u001b[0m \u001b[32m━━━━━━━━━━━━━━━━━━━━\u001b[0m\u001b[37m\u001b[0m \u001b[1m58s\u001b[0m 4ms/step - accuracy: 0.8455 - loss: 0.5568 - val_accuracy: 0.8599 - val_loss: 0.4547\n",
      "Epoch 53/100\n",
      "\u001b[1m13839/13839\u001b[0m \u001b[32m━━━━━━━━━━━━━━━━━━━━\u001b[0m\u001b[37m\u001b[0m \u001b[1m66s\u001b[0m 5ms/step - accuracy: 0.8222 - loss: 0.6012 - val_accuracy: 0.8584 - val_loss: 0.4709\n",
      "Epoch 54/100\n",
      "\u001b[1m13839/13839\u001b[0m \u001b[32m━━━━━━━━━━━━━━━━━━━━\u001b[0m\u001b[37m\u001b[0m \u001b[1m86s\u001b[0m 5ms/step - accuracy: 0.8490 - loss: 0.5659 - val_accuracy: 0.8456 - val_loss: 0.6078\n",
      "Epoch 55/100\n",
      "\u001b[1m13839/13839\u001b[0m \u001b[32m━━━━━━━━━━━━━━━━━━━━\u001b[0m\u001b[37m\u001b[0m \u001b[1m74s\u001b[0m 5ms/step - accuracy: 0.8412 - loss: 0.5838 - val_accuracy: 0.8688 - val_loss: 0.3738\n",
      "Epoch 56/100\n",
      "\u001b[1m13839/13839\u001b[0m \u001b[32m━━━━━━━━━━━━━━━━━━━━\u001b[0m\u001b[37m\u001b[0m \u001b[1m62s\u001b[0m 4ms/step - accuracy: 0.8527 - loss: 0.5415 - val_accuracy: 0.8471 - val_loss: 0.5956\n",
      "Epoch 57/100\n",
      "\u001b[1m13839/13839\u001b[0m \u001b[32m━━━━━━━━━━━━━━━━━━━━\u001b[0m\u001b[37m\u001b[0m \u001b[1m57s\u001b[0m 4ms/step - accuracy: 0.8463 - loss: 0.5595 - val_accuracy: 0.8411 - val_loss: 0.6448\n",
      "Epoch 58/100\n",
      "\u001b[1m13839/13839\u001b[0m \u001b[32m━━━━━━━━━━━━━━━━━━━━\u001b[0m\u001b[37m\u001b[0m \u001b[1m62s\u001b[0m 4ms/step - accuracy: 0.8466 - loss: 0.5586 - val_accuracy: 0.8414 - val_loss: 0.6395\n",
      "Epoch 59/100\n",
      "\u001b[1m13839/13839\u001b[0m \u001b[32m━━━━━━━━━━━━━━━━━━━━\u001b[0m\u001b[37m\u001b[0m \u001b[1m55s\u001b[0m 4ms/step - accuracy: 0.8359 - loss: 0.5727 - val_accuracy: 0.8606 - val_loss: 0.4748\n",
      "Epoch 60/100\n",
      "\u001b[1m13839/13839\u001b[0m \u001b[32m━━━━━━━━━━━━━━━━━━━━\u001b[0m\u001b[37m\u001b[0m \u001b[1m96s\u001b[0m 5ms/step - accuracy: 0.8477 - loss: 0.5990 - val_accuracy: 0.8408 - val_loss: 0.6049\n",
      "Epoch 61/100\n",
      "\u001b[1m13839/13839\u001b[0m \u001b[32m━━━━━━━━━━━━━━━━━━━━\u001b[0m\u001b[37m\u001b[0m \u001b[1m101s\u001b[0m 6ms/step - accuracy: 0.8299 - loss: 0.5940 - val_accuracy: 0.8334 - val_loss: 0.6557\n",
      "Epoch 62/100\n",
      "\u001b[1m13839/13839\u001b[0m \u001b[32m━━━━━━━━━━━━━━━━━━━━\u001b[0m\u001b[37m\u001b[0m \u001b[1m150s\u001b[0m 7ms/step - accuracy: 0.8329 - loss: 0.5923 - val_accuracy: 0.8509 - val_loss: 0.5243\n",
      "Epoch 63/100\n",
      "\u001b[1m13839/13839\u001b[0m \u001b[32m━━━━━━━━━━━━━━━━━━━━\u001b[0m\u001b[37m\u001b[0m \u001b[1m129s\u001b[0m 6ms/step - accuracy: 0.8289 - loss: 0.5964 - val_accuracy: 0.8744 - val_loss: 0.3604\n",
      "Epoch 64/100\n",
      "\u001b[1m13839/13839\u001b[0m \u001b[32m━━━━━━━━━━━━━━━━━━━━\u001b[0m\u001b[37m\u001b[0m \u001b[1m113s\u001b[0m 4ms/step - accuracy: 0.8441 - loss: 0.6001 - val_accuracy: 0.8385 - val_loss: 0.6423\n",
      "Epoch 65/100\n",
      "\u001b[1m13839/13839\u001b[0m \u001b[32m━━━━━━━━━━━━━━━━━━━━\u001b[0m\u001b[37m\u001b[0m \u001b[1m66s\u001b[0m 5ms/step - accuracy: 0.8318 - loss: 0.5766 - val_accuracy: 0.8447 - val_loss: 0.5978\n",
      "Epoch 66/100\n",
      "\u001b[1m13839/13839\u001b[0m \u001b[32m━━━━━━━━━━━━━━━━━━━━\u001b[0m\u001b[37m\u001b[0m \u001b[1m61s\u001b[0m 4ms/step - accuracy: 0.8469 - loss: 0.5653 - val_accuracy: 0.8485 - val_loss: 0.5710\n",
      "Epoch 67/100\n",
      "\u001b[1m13839/13839\u001b[0m \u001b[32m━━━━━━━━━━━━━━━━━━━━\u001b[0m\u001b[37m\u001b[0m \u001b[1m70s\u001b[0m 5ms/step - accuracy: 0.8527 - loss: 0.5303 - val_accuracy: 0.8368 - val_loss: 0.6186\n",
      "Epoch 68/100\n",
      "\u001b[1m13839/13839\u001b[0m \u001b[32m━━━━━━━━━━━━━━━━━━━━\u001b[0m\u001b[37m\u001b[0m \u001b[1m79s\u001b[0m 5ms/step - accuracy: 0.8350 - loss: 0.5932 - val_accuracy: 0.9251 - val_loss: 0.3994\n",
      "Epoch 69/100\n",
      "\u001b[1m13839/13839\u001b[0m \u001b[32m━━━━━━━━━━━━━━━━━━━━\u001b[0m\u001b[37m\u001b[0m \u001b[1m78s\u001b[0m 6ms/step - accuracy: 0.8240 - loss: 0.6366 - val_accuracy: 0.8370 - val_loss: 0.6275\n",
      "Epoch 70/100\n",
      "\u001b[1m13839/13839\u001b[0m \u001b[32m━━━━━━━━━━━━━━━━━━━━\u001b[0m\u001b[37m\u001b[0m \u001b[1m72s\u001b[0m 5ms/step - accuracy: 0.8248 - loss: 0.5798 - val_accuracy: 0.8818 - val_loss: 0.5313\n",
      "Epoch 71/100\n",
      "\u001b[1m13839/13839\u001b[0m \u001b[32m━━━━━━━━━━━━━━━━━━━━\u001b[0m\u001b[37m\u001b[0m \u001b[1m83s\u001b[0m 5ms/step - accuracy: 0.8522 - loss: 0.5801 - val_accuracy: 0.8437 - val_loss: 0.5677\n",
      "Epoch 72/100\n",
      "\u001b[1m13839/13839\u001b[0m \u001b[32m━━━━━━━━━━━━━━━━━━━━\u001b[0m\u001b[37m\u001b[0m \u001b[1m53s\u001b[0m 4ms/step - accuracy: 0.8403 - loss: 0.5627 - val_accuracy: 0.8465 - val_loss: 0.5136\n",
      "Epoch 73/100\n",
      "\u001b[1m13839/13839\u001b[0m \u001b[32m━━━━━━━━━━━━━━━━━━━━\u001b[0m\u001b[37m\u001b[0m \u001b[1m80s\u001b[0m 4ms/step - accuracy: 0.8238 - loss: 0.5904 - val_accuracy: 0.8445 - val_loss: 0.5594\n",
      "Epoch 74/100\n",
      "\u001b[1m13839/13839\u001b[0m \u001b[32m━━━━━━━━━━━━━━━━━━━━\u001b[0m\u001b[37m\u001b[0m \u001b[1m55s\u001b[0m 4ms/step - accuracy: 0.8280 - loss: 0.5968 - val_accuracy: 0.8352 - val_loss: 0.6742\n",
      "Epoch 75/100\n",
      "\u001b[1m13839/13839\u001b[0m \u001b[32m━━━━━━━━━━━━━━━━━━━━\u001b[0m\u001b[37m\u001b[0m \u001b[1m75s\u001b[0m 5ms/step - accuracy: 0.8299 - loss: 0.5569 - val_accuracy: 0.8396 - val_loss: 0.6047\n",
      "Epoch 76/100\n",
      "\u001b[1m13839/13839\u001b[0m \u001b[32m━━━━━━━━━━━━━━━━━━━━\u001b[0m\u001b[37m\u001b[0m \u001b[1m66s\u001b[0m 5ms/step - accuracy: 0.8274 - loss: 0.5743 - val_accuracy: 0.8431 - val_loss: 0.5984\n",
      "Epoch 77/100\n",
      "\u001b[1m13839/13839\u001b[0m \u001b[32m━━━━━━━━━━━━━━━━━━━━\u001b[0m\u001b[37m\u001b[0m \u001b[1m65s\u001b[0m 5ms/step - accuracy: 0.8699 - loss: 0.5457 - val_accuracy: 0.8355 - val_loss: 0.6592\n",
      "Epoch 78/100\n",
      "\u001b[1m13839/13839\u001b[0m \u001b[32m━━━━━━━━━━━━━━━━━━━━\u001b[0m\u001b[37m\u001b[0m \u001b[1m52s\u001b[0m 4ms/step - accuracy: 0.8356 - loss: 0.5879 - val_accuracy: 0.8531 - val_loss: 0.4639\n",
      "Epoch 79/100\n",
      "\u001b[1m13839/13839\u001b[0m \u001b[32m━━━━━━━━━━━━━━━━━━━━\u001b[0m\u001b[37m\u001b[0m \u001b[1m46s\u001b[0m 3ms/step - accuracy: 0.8273 - loss: 0.6157 - val_accuracy: 0.8472 - val_loss: 0.5437\n",
      "Epoch 80/100\n",
      "\u001b[1m13839/13839\u001b[0m \u001b[32m━━━━━━━━━━━━━━━━━━━━\u001b[0m\u001b[37m\u001b[0m \u001b[1m50s\u001b[0m 4ms/step - accuracy: 0.8213 - loss: 0.5933 - val_accuracy: 0.8414 - val_loss: 0.5830\n",
      "Epoch 81/100\n",
      "\u001b[1m13839/13839\u001b[0m \u001b[32m━━━━━━━━━━━━━━━━━━━━\u001b[0m\u001b[37m\u001b[0m \u001b[1m51s\u001b[0m 4ms/step - accuracy: 0.8292 - loss: 0.5683 - val_accuracy: 0.8396 - val_loss: 0.6261\n",
      "Epoch 82/100\n",
      "\u001b[1m13839/13839\u001b[0m \u001b[32m━━━━━━━━━━━━━━━━━━━━\u001b[0m\u001b[37m\u001b[0m \u001b[1m57s\u001b[0m 4ms/step - accuracy: 0.8189 - loss: 0.5795 - val_accuracy: 0.8286 - val_loss: 0.7252\n",
      "Epoch 83/100\n",
      "\u001b[1m13839/13839\u001b[0m \u001b[32m━━━━━━━━━━━━━━━━━━━━\u001b[0m\u001b[37m\u001b[0m \u001b[1m56s\u001b[0m 4ms/step - accuracy: 0.8216 - loss: 0.5653 - val_accuracy: 0.8454 - val_loss: 0.5616\n",
      "Epoch 84/100\n",
      "\u001b[1m13839/13839\u001b[0m \u001b[32m━━━━━━━━━━━━━━━━━━━━\u001b[0m\u001b[37m\u001b[0m \u001b[1m50s\u001b[0m 4ms/step - accuracy: 0.8034 - loss: 0.6202 - val_accuracy: 0.8560 - val_loss: 0.4241\n",
      "Epoch 85/100\n",
      "\u001b[1m13839/13839\u001b[0m \u001b[32m━━━━━━━━━━━━━━━━━━━━\u001b[0m\u001b[37m\u001b[0m \u001b[1m60s\u001b[0m 4ms/step - accuracy: 0.8429 - loss: 0.5679 - val_accuracy: 0.8458 - val_loss: 0.5662\n",
      "Epoch 86/100\n",
      "\u001b[1m13839/13839\u001b[0m \u001b[32m━━━━━━━━━━━━━━━━━━━━\u001b[0m\u001b[37m\u001b[0m \u001b[1m51s\u001b[0m 4ms/step - accuracy: 0.8310 - loss: 0.5726 - val_accuracy: 0.8419 - val_loss: 0.6692\n",
      "Epoch 87/100\n",
      "\u001b[1m13839/13839\u001b[0m \u001b[32m━━━━━━━━━━━━━━━━━━━━\u001b[0m\u001b[37m\u001b[0m \u001b[1m44s\u001b[0m 3ms/step - accuracy: 0.8033 - loss: 0.6137 - val_accuracy: 0.8467 - val_loss: 0.5314\n",
      "Epoch 88/100\n",
      "\u001b[1m13839/13839\u001b[0m \u001b[32m━━━━━━━━━━━━━━━━━━━━\u001b[0m\u001b[37m\u001b[0m \u001b[1m50s\u001b[0m 4ms/step - accuracy: 0.8142 - loss: 0.5868 - val_accuracy: 0.8432 - val_loss: 0.6240\n",
      "Epoch 89/100\n",
      "\u001b[1m13839/13839\u001b[0m \u001b[32m━━━━━━━━━━━━━━━━━━━━\u001b[0m\u001b[37m\u001b[0m \u001b[1m81s\u001b[0m 4ms/step - accuracy: 0.7838 - loss: 0.6202 - val_accuracy: 0.8720 - val_loss: 0.4989\n",
      "Epoch 90/100\n",
      "\u001b[1m13839/13839\u001b[0m \u001b[32m━━━━━━━━━━━━━━━━━━━━\u001b[0m\u001b[37m\u001b[0m \u001b[1m84s\u001b[0m 4ms/step - accuracy: 0.8430 - loss: 0.5606 - val_accuracy: 0.8485 - val_loss: 0.5625\n",
      "Epoch 91/100\n",
      "\u001b[1m13839/13839\u001b[0m \u001b[32m━━━━━━━━━━━━━━━━━━━━\u001b[0m\u001b[37m\u001b[0m \u001b[1m54s\u001b[0m 4ms/step - accuracy: 0.8010 - loss: 0.6067 - val_accuracy: 0.8450 - val_loss: 0.5087\n",
      "Epoch 92/100\n",
      "\u001b[1m13839/13839\u001b[0m \u001b[32m━━━━━━━━━━━━━━━━━━━━\u001b[0m\u001b[37m\u001b[0m \u001b[1m78s\u001b[0m 4ms/step - accuracy: 0.7854 - loss: 0.6193 - val_accuracy: 0.8545 - val_loss: 0.3960\n",
      "Epoch 93/100\n",
      "\u001b[1m13839/13839\u001b[0m \u001b[32m━━━━━━━━━━━━━━━━━━━━\u001b[0m\u001b[37m\u001b[0m \u001b[1m84s\u001b[0m 4ms/step - accuracy: 0.8227 - loss: 0.6001 - val_accuracy: 0.8447 - val_loss: 0.4891\n",
      "Epoch 94/100\n",
      "\u001b[1m13839/13839\u001b[0m \u001b[32m━━━━━━━━━━━━━━━━━━━━\u001b[0m\u001b[37m\u001b[0m \u001b[1m83s\u001b[0m 4ms/step - accuracy: 0.7611 - loss: 0.6314 - val_accuracy: 0.8419 - val_loss: 0.5514\n",
      "Epoch 95/100\n",
      "\u001b[1m13839/13839\u001b[0m \u001b[32m━━━━━━━━━━━━━━━━━━━━\u001b[0m\u001b[37m\u001b[0m \u001b[1m82s\u001b[0m 4ms/step - accuracy: 0.8078 - loss: 0.5623 - val_accuracy: 0.8363 - val_loss: 0.6220\n",
      "Epoch 96/100\n",
      "\u001b[1m13839/13839\u001b[0m \u001b[32m━━━━━━━━━━━━━━━━━━━━\u001b[0m\u001b[37m\u001b[0m \u001b[1m64s\u001b[0m 5ms/step - accuracy: 0.7841 - loss: 0.6007 - val_accuracy: 0.8356 - val_loss: 0.5942\n",
      "Epoch 97/100\n",
      "\u001b[1m13839/13839\u001b[0m \u001b[32m━━━━━━━━━━━━━━━━━━━━\u001b[0m\u001b[37m\u001b[0m \u001b[1m68s\u001b[0m 5ms/step - accuracy: 0.7578 - loss: 0.6010 - val_accuracy: 0.9232 - val_loss: 0.3959\n",
      "Epoch 98/100\n",
      "\u001b[1m13839/13839\u001b[0m \u001b[32m━━━━━━━━━━━━━━━━━━━━\u001b[0m\u001b[37m\u001b[0m \u001b[1m62s\u001b[0m 4ms/step - accuracy: 0.8108 - loss: 0.6079 - val_accuracy: 0.8464 - val_loss: 0.5808\n",
      "Epoch 99/100\n",
      "\u001b[1m13839/13839\u001b[0m \u001b[32m━━━━━━━━━━━━━━━━━━━━\u001b[0m\u001b[37m\u001b[0m \u001b[1m69s\u001b[0m 5ms/step - accuracy: 0.7932 - loss: 0.6203 - val_accuracy: 0.8244 - val_loss: 0.7378\n",
      "Epoch 100/100\n",
      "\u001b[1m13839/13839\u001b[0m \u001b[32m━━━━━━━━━━━━━━━━━━━━\u001b[0m\u001b[37m\u001b[0m \u001b[1m64s\u001b[0m 5ms/step - accuracy: 0.7928 - loss: 0.5829 - val_accuracy: 0.8788 - val_loss: 0.3557\n"
     ]
    },
    {
     "data": {
      "text/plain": [
       "<keras.src.callbacks.history.History at 0x2cf09649d60>"
      ]
     },
     "execution_count": 43,
     "metadata": {},
     "output_type": "execute_result"
    }
   ],
   "source": [
    "# Train the model\n",
    "model.fit(\n",
    "    X_train, y_train,\n",
    "    validation_data=(X_val, y_val),\n",
    "    epochs=100,\n",
    "    batch_size=32,\n",
    "    #callbacks=[early_stopping],\n",
    "    class_weight=class_weight_dict\n",
    ")\n"
   ]
  },
  {
   "cell_type": "code",
   "execution_count": 44,
   "metadata": {},
   "outputs": [
    {
     "name": "stdout",
     "output_type": "stream",
     "text": [
      "\u001b[1m5110/5110\u001b[0m \u001b[32m━━━━━━━━━━━━━━━━━━━━\u001b[0m\u001b[37m\u001b[0m \u001b[1m12s\u001b[0m 2ms/step\n"
     ]
    }
   ],
   "source": [
    "# Make predictions on the test set\n",
    "test_predictions = model.predict(X_test)"
   ]
  },
  {
   "cell_type": "code",
   "execution_count": 45,
   "metadata": {},
   "outputs": [
    {
     "data": {
      "text/plain": [
       "(163520, 1)"
      ]
     },
     "execution_count": 45,
     "metadata": {},
     "output_type": "execute_result"
    }
   ],
   "source": [
    "test_predictions.shape"
   ]
  },
  {
   "cell_type": "code",
   "execution_count": 47,
   "metadata": {},
   "outputs": [],
   "source": [
    "submission_df = pd.DataFrame({'event_id': test_df['event_id'], 'label': test_predictions.flatten()})\n"
   ]
  },
  {
   "cell_type": "code",
   "execution_count": 48,
   "metadata": {},
   "outputs": [],
   "source": [
    "submission_df.to_csv('predictions_four.csv', index=False)\n"
   ]
  },
  {
   "cell_type": "code",
   "execution_count": 21,
   "metadata": {},
   "outputs": [
    {
     "data": {
      "text/plain": [
       "(163520,)"
      ]
     },
     "execution_count": 21,
     "metadata": {},
     "output_type": "execute_result"
    }
   ],
   "source": [
    "X_test.shape"
   ]
  },
  {
   "cell_type": "code",
   "execution_count": 20,
   "metadata": {},
   "outputs": [
    {
     "data": {
      "text/plain": [
       "(163520, 2)"
      ]
     },
     "execution_count": 20,
     "metadata": {},
     "output_type": "execute_result"
    }
   ],
   "source": [
    "sample_submission = pd.read_csv('Test.csv')\n",
    "sample_submission.shape"
   ]
  },
  {
   "cell_type": "code",
   "execution_count": 17,
   "metadata": {},
   "outputs": [
    {
     "ename": "ValueError",
     "evalue": "Length of values (224) does not match length of index (163520)",
     "output_type": "error",
     "traceback": [
      "\u001b[1;31m---------------------------------------------------------------------------\u001b[0m",
      "\u001b[1;31mValueError\u001b[0m                                Traceback (most recent call last)",
      "Cell \u001b[1;32mIn[17], line 1\u001b[0m\n\u001b[1;32m----> 1\u001b[0m sample_submission[\u001b[38;5;124m'\u001b[39m\u001b[38;5;124mlabel\u001b[39m\u001b[38;5;124m'\u001b[39m] \u001b[38;5;241m=\u001b[39m test_predictions\u001b[38;5;241m.\u001b[39mflatten()\n\u001b[0;32m      2\u001b[0m sample_submission\u001b[38;5;241m.\u001b[39mhead()\n",
      "File \u001b[1;32mc:\\Users\\Reinhard\\anaconda3\\envs\\Datascience\\Lib\\site-packages\\pandas\\core\\frame.py:4311\u001b[0m, in \u001b[0;36mDataFrame.__setitem__\u001b[1;34m(self, key, value)\u001b[0m\n\u001b[0;32m   4308\u001b[0m     \u001b[38;5;28mself\u001b[39m\u001b[38;5;241m.\u001b[39m_setitem_array([key], value)\n\u001b[0;32m   4309\u001b[0m \u001b[38;5;28;01melse\u001b[39;00m:\n\u001b[0;32m   4310\u001b[0m     \u001b[38;5;66;03m# set column\u001b[39;00m\n\u001b[1;32m-> 4311\u001b[0m     \u001b[38;5;28mself\u001b[39m\u001b[38;5;241m.\u001b[39m_set_item(key, value)\n",
      "File \u001b[1;32mc:\\Users\\Reinhard\\anaconda3\\envs\\Datascience\\Lib\\site-packages\\pandas\\core\\frame.py:4524\u001b[0m, in \u001b[0;36mDataFrame._set_item\u001b[1;34m(self, key, value)\u001b[0m\n\u001b[0;32m   4514\u001b[0m \u001b[38;5;28;01mdef\u001b[39;00m \u001b[38;5;21m_set_item\u001b[39m(\u001b[38;5;28mself\u001b[39m, key, value) \u001b[38;5;241m-\u001b[39m\u001b[38;5;241m>\u001b[39m \u001b[38;5;28;01mNone\u001b[39;00m:\n\u001b[0;32m   4515\u001b[0m \u001b[38;5;250m    \u001b[39m\u001b[38;5;124;03m\"\"\"\u001b[39;00m\n\u001b[0;32m   4516\u001b[0m \u001b[38;5;124;03m    Add series to DataFrame in specified column.\u001b[39;00m\n\u001b[0;32m   4517\u001b[0m \n\u001b[1;32m   (...)\u001b[0m\n\u001b[0;32m   4522\u001b[0m \u001b[38;5;124;03m    ensure homogeneity.\u001b[39;00m\n\u001b[0;32m   4523\u001b[0m \u001b[38;5;124;03m    \"\"\"\u001b[39;00m\n\u001b[1;32m-> 4524\u001b[0m     value, refs \u001b[38;5;241m=\u001b[39m \u001b[38;5;28mself\u001b[39m\u001b[38;5;241m.\u001b[39m_sanitize_column(value)\n\u001b[0;32m   4526\u001b[0m     \u001b[38;5;28;01mif\u001b[39;00m (\n\u001b[0;32m   4527\u001b[0m         key \u001b[38;5;129;01min\u001b[39;00m \u001b[38;5;28mself\u001b[39m\u001b[38;5;241m.\u001b[39mcolumns\n\u001b[0;32m   4528\u001b[0m         \u001b[38;5;129;01mand\u001b[39;00m value\u001b[38;5;241m.\u001b[39mndim \u001b[38;5;241m==\u001b[39m \u001b[38;5;241m1\u001b[39m\n\u001b[0;32m   4529\u001b[0m         \u001b[38;5;129;01mand\u001b[39;00m \u001b[38;5;129;01mnot\u001b[39;00m \u001b[38;5;28misinstance\u001b[39m(value\u001b[38;5;241m.\u001b[39mdtype, ExtensionDtype)\n\u001b[0;32m   4530\u001b[0m     ):\n\u001b[0;32m   4531\u001b[0m         \u001b[38;5;66;03m# broadcast across multiple columns if necessary\u001b[39;00m\n\u001b[0;32m   4532\u001b[0m         \u001b[38;5;28;01mif\u001b[39;00m \u001b[38;5;129;01mnot\u001b[39;00m \u001b[38;5;28mself\u001b[39m\u001b[38;5;241m.\u001b[39mcolumns\u001b[38;5;241m.\u001b[39mis_unique \u001b[38;5;129;01mor\u001b[39;00m \u001b[38;5;28misinstance\u001b[39m(\u001b[38;5;28mself\u001b[39m\u001b[38;5;241m.\u001b[39mcolumns, MultiIndex):\n",
      "File \u001b[1;32mc:\\Users\\Reinhard\\anaconda3\\envs\\Datascience\\Lib\\site-packages\\pandas\\core\\frame.py:5266\u001b[0m, in \u001b[0;36mDataFrame._sanitize_column\u001b[1;34m(self, value)\u001b[0m\n\u001b[0;32m   5263\u001b[0m     \u001b[38;5;28;01mreturn\u001b[39;00m _reindex_for_setitem(value, \u001b[38;5;28mself\u001b[39m\u001b[38;5;241m.\u001b[39mindex)\n\u001b[0;32m   5265\u001b[0m \u001b[38;5;28;01mif\u001b[39;00m is_list_like(value):\n\u001b[1;32m-> 5266\u001b[0m     com\u001b[38;5;241m.\u001b[39mrequire_length_match(value, \u001b[38;5;28mself\u001b[39m\u001b[38;5;241m.\u001b[39mindex)\n\u001b[0;32m   5267\u001b[0m arr \u001b[38;5;241m=\u001b[39m sanitize_array(value, \u001b[38;5;28mself\u001b[39m\u001b[38;5;241m.\u001b[39mindex, copy\u001b[38;5;241m=\u001b[39m\u001b[38;5;28;01mTrue\u001b[39;00m, allow_2d\u001b[38;5;241m=\u001b[39m\u001b[38;5;28;01mTrue\u001b[39;00m)\n\u001b[0;32m   5268\u001b[0m \u001b[38;5;28;01mif\u001b[39;00m (\n\u001b[0;32m   5269\u001b[0m     \u001b[38;5;28misinstance\u001b[39m(value, Index)\n\u001b[0;32m   5270\u001b[0m     \u001b[38;5;129;01mand\u001b[39;00m value\u001b[38;5;241m.\u001b[39mdtype \u001b[38;5;241m==\u001b[39m \u001b[38;5;124m\"\u001b[39m\u001b[38;5;124mobject\u001b[39m\u001b[38;5;124m\"\u001b[39m\n\u001b[1;32m   (...)\u001b[0m\n\u001b[0;32m   5273\u001b[0m     \u001b[38;5;66;03m# TODO: Remove kludge in sanitize_array for string mode when enforcing\u001b[39;00m\n\u001b[0;32m   5274\u001b[0m     \u001b[38;5;66;03m# this deprecation\u001b[39;00m\n",
      "File \u001b[1;32mc:\\Users\\Reinhard\\anaconda3\\envs\\Datascience\\Lib\\site-packages\\pandas\\core\\common.py:573\u001b[0m, in \u001b[0;36mrequire_length_match\u001b[1;34m(data, index)\u001b[0m\n\u001b[0;32m    569\u001b[0m \u001b[38;5;250m\u001b[39m\u001b[38;5;124;03m\"\"\"\u001b[39;00m\n\u001b[0;32m    570\u001b[0m \u001b[38;5;124;03mCheck the length of data matches the length of the index.\u001b[39;00m\n\u001b[0;32m    571\u001b[0m \u001b[38;5;124;03m\"\"\"\u001b[39;00m\n\u001b[0;32m    572\u001b[0m \u001b[38;5;28;01mif\u001b[39;00m \u001b[38;5;28mlen\u001b[39m(data) \u001b[38;5;241m!=\u001b[39m \u001b[38;5;28mlen\u001b[39m(index):\n\u001b[1;32m--> 573\u001b[0m     \u001b[38;5;28;01mraise\u001b[39;00m \u001b[38;5;167;01mValueError\u001b[39;00m(\n\u001b[0;32m    574\u001b[0m         \u001b[38;5;124m\"\u001b[39m\u001b[38;5;124mLength of values \u001b[39m\u001b[38;5;124m\"\u001b[39m\n\u001b[0;32m    575\u001b[0m         \u001b[38;5;124mf\u001b[39m\u001b[38;5;124m\"\u001b[39m\u001b[38;5;124m(\u001b[39m\u001b[38;5;132;01m{\u001b[39;00m\u001b[38;5;28mlen\u001b[39m(data)\u001b[38;5;132;01m}\u001b[39;00m\u001b[38;5;124m) \u001b[39m\u001b[38;5;124m\"\u001b[39m\n\u001b[0;32m    576\u001b[0m         \u001b[38;5;124m\"\u001b[39m\u001b[38;5;124mdoes not match length of index \u001b[39m\u001b[38;5;124m\"\u001b[39m\n\u001b[0;32m    577\u001b[0m         \u001b[38;5;124mf\u001b[39m\u001b[38;5;124m\"\u001b[39m\u001b[38;5;124m(\u001b[39m\u001b[38;5;132;01m{\u001b[39;00m\u001b[38;5;28mlen\u001b[39m(index)\u001b[38;5;132;01m}\u001b[39;00m\u001b[38;5;124m)\u001b[39m\u001b[38;5;124m\"\u001b[39m\n\u001b[0;32m    578\u001b[0m     )\n",
      "\u001b[1;31mValueError\u001b[0m: Length of values (224) does not match length of index (163520)"
     ]
    }
   ],
   "source": [
    "sample_submission['label'] = test_predictions.flatten()\n",
    "sample_submission.head()"
   ]
  },
  {
   "cell_type": "code",
   "execution_count": 44,
   "metadata": {},
   "outputs": [
    {
     "data": {
      "text/plain": [
       "(163520,)"
      ]
     },
     "execution_count": 44,
     "metadata": {},
     "output_type": "execute_result"
    }
   ],
   "source": [
    "test_df['event_id'].shape"
   ]
  },
  {
   "cell_type": "code",
   "execution_count": 59,
   "metadata": {},
   "outputs": [],
   "source": [
    "# Ensure final_test_predictions has the correct length\n",
    "num_test_events = len(test_df['event_id'].unique())\n",
    "\n",
    "if len(test_predictions) != num_test_events:\n",
    "    print(f\"Warning: Expected {num_test_events} predictions, but got {len(test_predictions)}\")\n",
    "    test_predictions = test_predictions[:num_test_events]  # Trim if necessary\n"
   ]
  },
  {
   "cell_type": "code",
   "execution_count": null,
   "metadata": {},
   "outputs": [],
   "source": [
    "sample_submission = pd.read_csv('SampleSubmission (2).csv')\n",
    "sample_submission.head()"
   ]
  },
  {
   "cell_type": "code",
   "execution_count": 62,
   "metadata": {},
   "outputs": [
    {
     "ename": "ValueError",
     "evalue": "All arrays must be of the same length",
     "output_type": "error",
     "traceback": [
      "\u001b[1;31m---------------------------------------------------------------------------\u001b[0m",
      "\u001b[1;31mValueError\u001b[0m                                Traceback (most recent call last)",
      "Cell \u001b[1;32mIn[62], line 2\u001b[0m\n\u001b[0;32m      1\u001b[0m \u001b[38;5;66;03m# Save predictions\u001b[39;00m\n\u001b[1;32m----> 2\u001b[0m submission_df \u001b[38;5;241m=\u001b[39m pd\u001b[38;5;241m.\u001b[39mDataFrame({\u001b[38;5;124m'\u001b[39m\u001b[38;5;124mevent_id\u001b[39m\u001b[38;5;124m'\u001b[39m: sample_submission[\u001b[38;5;124m'\u001b[39m\u001b[38;5;124mevent_id\u001b[39m\u001b[38;5;124m'\u001b[39m]\u001b[38;5;241m.\u001b[39munique(), \u001b[38;5;124m'\u001b[39m\u001b[38;5;124mprediction\u001b[39m\u001b[38;5;124m'\u001b[39m: test_predictions\u001b[38;5;241m.\u001b[39mflatten()})\n\u001b[0;32m      3\u001b[0m submission_df\u001b[38;5;241m.\u001b[39mto_csv(\u001b[38;5;124m'\u001b[39m\u001b[38;5;124mpredictions.csv\u001b[39m\u001b[38;5;124m'\u001b[39m, index\u001b[38;5;241m=\u001b[39m\u001b[38;5;28;01mFalse\u001b[39;00m)\n\u001b[0;32m      5\u001b[0m \u001b[38;5;28mprint\u001b[39m(\u001b[38;5;124m\"\u001b[39m\u001b[38;5;124mPredictions saved to predictions.csv\u001b[39m\u001b[38;5;124m\"\u001b[39m)\n",
      "File \u001b[1;32mc:\\Users\\Reinhard\\anaconda3\\envs\\Datascience\\Lib\\site-packages\\pandas\\core\\frame.py:778\u001b[0m, in \u001b[0;36mDataFrame.__init__\u001b[1;34m(self, data, index, columns, dtype, copy)\u001b[0m\n\u001b[0;32m    772\u001b[0m     mgr \u001b[38;5;241m=\u001b[39m \u001b[38;5;28mself\u001b[39m\u001b[38;5;241m.\u001b[39m_init_mgr(\n\u001b[0;32m    773\u001b[0m         data, axes\u001b[38;5;241m=\u001b[39m{\u001b[38;5;124m\"\u001b[39m\u001b[38;5;124mindex\u001b[39m\u001b[38;5;124m\"\u001b[39m: index, \u001b[38;5;124m\"\u001b[39m\u001b[38;5;124mcolumns\u001b[39m\u001b[38;5;124m\"\u001b[39m: columns}, dtype\u001b[38;5;241m=\u001b[39mdtype, copy\u001b[38;5;241m=\u001b[39mcopy\n\u001b[0;32m    774\u001b[0m     )\n\u001b[0;32m    776\u001b[0m \u001b[38;5;28;01melif\u001b[39;00m \u001b[38;5;28misinstance\u001b[39m(data, \u001b[38;5;28mdict\u001b[39m):\n\u001b[0;32m    777\u001b[0m     \u001b[38;5;66;03m# GH#38939 de facto copy defaults to False only in non-dict cases\u001b[39;00m\n\u001b[1;32m--> 778\u001b[0m     mgr \u001b[38;5;241m=\u001b[39m dict_to_mgr(data, index, columns, dtype\u001b[38;5;241m=\u001b[39mdtype, copy\u001b[38;5;241m=\u001b[39mcopy, typ\u001b[38;5;241m=\u001b[39mmanager)\n\u001b[0;32m    779\u001b[0m \u001b[38;5;28;01melif\u001b[39;00m \u001b[38;5;28misinstance\u001b[39m(data, ma\u001b[38;5;241m.\u001b[39mMaskedArray):\n\u001b[0;32m    780\u001b[0m     \u001b[38;5;28;01mfrom\u001b[39;00m \u001b[38;5;21;01mnumpy\u001b[39;00m\u001b[38;5;21;01m.\u001b[39;00m\u001b[38;5;21;01mma\u001b[39;00m \u001b[38;5;28;01mimport\u001b[39;00m mrecords\n",
      "File \u001b[1;32mc:\\Users\\Reinhard\\anaconda3\\envs\\Datascience\\Lib\\site-packages\\pandas\\core\\internals\\construction.py:503\u001b[0m, in \u001b[0;36mdict_to_mgr\u001b[1;34m(data, index, columns, dtype, typ, copy)\u001b[0m\n\u001b[0;32m    499\u001b[0m     \u001b[38;5;28;01melse\u001b[39;00m:\n\u001b[0;32m    500\u001b[0m         \u001b[38;5;66;03m# dtype check to exclude e.g. range objects, scalars\u001b[39;00m\n\u001b[0;32m    501\u001b[0m         arrays \u001b[38;5;241m=\u001b[39m [x\u001b[38;5;241m.\u001b[39mcopy() \u001b[38;5;28;01mif\u001b[39;00m \u001b[38;5;28mhasattr\u001b[39m(x, \u001b[38;5;124m\"\u001b[39m\u001b[38;5;124mdtype\u001b[39m\u001b[38;5;124m\"\u001b[39m) \u001b[38;5;28;01melse\u001b[39;00m x \u001b[38;5;28;01mfor\u001b[39;00m x \u001b[38;5;129;01min\u001b[39;00m arrays]\n\u001b[1;32m--> 503\u001b[0m \u001b[38;5;28;01mreturn\u001b[39;00m arrays_to_mgr(arrays, columns, index, dtype\u001b[38;5;241m=\u001b[39mdtype, typ\u001b[38;5;241m=\u001b[39mtyp, consolidate\u001b[38;5;241m=\u001b[39mcopy)\n",
      "File \u001b[1;32mc:\\Users\\Reinhard\\anaconda3\\envs\\Datascience\\Lib\\site-packages\\pandas\\core\\internals\\construction.py:114\u001b[0m, in \u001b[0;36marrays_to_mgr\u001b[1;34m(arrays, columns, index, dtype, verify_integrity, typ, consolidate)\u001b[0m\n\u001b[0;32m    111\u001b[0m \u001b[38;5;28;01mif\u001b[39;00m verify_integrity:\n\u001b[0;32m    112\u001b[0m     \u001b[38;5;66;03m# figure out the index, if necessary\u001b[39;00m\n\u001b[0;32m    113\u001b[0m     \u001b[38;5;28;01mif\u001b[39;00m index \u001b[38;5;129;01mis\u001b[39;00m \u001b[38;5;28;01mNone\u001b[39;00m:\n\u001b[1;32m--> 114\u001b[0m         index \u001b[38;5;241m=\u001b[39m _extract_index(arrays)\n\u001b[0;32m    115\u001b[0m     \u001b[38;5;28;01melse\u001b[39;00m:\n\u001b[0;32m    116\u001b[0m         index \u001b[38;5;241m=\u001b[39m ensure_index(index)\n",
      "File \u001b[1;32mc:\\Users\\Reinhard\\anaconda3\\envs\\Datascience\\Lib\\site-packages\\pandas\\core\\internals\\construction.py:677\u001b[0m, in \u001b[0;36m_extract_index\u001b[1;34m(data)\u001b[0m\n\u001b[0;32m    675\u001b[0m lengths \u001b[38;5;241m=\u001b[39m \u001b[38;5;28mlist\u001b[39m(\u001b[38;5;28mset\u001b[39m(raw_lengths))\n\u001b[0;32m    676\u001b[0m \u001b[38;5;28;01mif\u001b[39;00m \u001b[38;5;28mlen\u001b[39m(lengths) \u001b[38;5;241m>\u001b[39m \u001b[38;5;241m1\u001b[39m:\n\u001b[1;32m--> 677\u001b[0m     \u001b[38;5;28;01mraise\u001b[39;00m \u001b[38;5;167;01mValueError\u001b[39;00m(\u001b[38;5;124m\"\u001b[39m\u001b[38;5;124mAll arrays must be of the same length\u001b[39m\u001b[38;5;124m\"\u001b[39m)\n\u001b[0;32m    679\u001b[0m \u001b[38;5;28;01mif\u001b[39;00m have_dicts:\n\u001b[0;32m    680\u001b[0m     \u001b[38;5;28;01mraise\u001b[39;00m \u001b[38;5;167;01mValueError\u001b[39;00m(\n\u001b[0;32m    681\u001b[0m         \u001b[38;5;124m\"\u001b[39m\u001b[38;5;124mMixing dicts with non-Series may lead to ambiguous ordering.\u001b[39m\u001b[38;5;124m\"\u001b[39m\n\u001b[0;32m    682\u001b[0m     )\n",
      "\u001b[1;31mValueError\u001b[0m: All arrays must be of the same length"
     ]
    }
   ],
   "source": [
    "# Save predictions\n",
    "submission_df = pd.DataFrame({'event_id': sample_submission['event_id'].unique(), 'prediction': test_predictions.flatten()})\n",
    "submission_df.to_csv('predictions.csv', index=False)\n",
    "\n",
    "print(\"Predictions saved to predictions.csv\")\n"
   ]
  },
  {
   "cell_type": "code",
   "execution_count": 18,
   "metadata": {},
   "outputs": [],
   "source": []
  },
  {
   "cell_type": "code",
   "execution_count": 19,
   "metadata": {},
   "outputs": [],
   "source": []
  },
  {
   "cell_type": "code",
   "execution_count": 20,
   "metadata": {},
   "outputs": [],
   "source": []
  },
  {
   "cell_type": "code",
   "execution_count": 21,
   "metadata": {},
   "outputs": [],
   "source": []
  },
  {
   "cell_type": "code",
   "execution_count": 22,
   "metadata": {},
   "outputs": [],
   "source": []
  },
  {
   "cell_type": "code",
   "execution_count": null,
   "metadata": {},
   "outputs": [],
   "source": []
  },
  {
   "cell_type": "code",
   "execution_count": null,
   "metadata": {},
   "outputs": [],
   "source": []
  },
  {
   "cell_type": "code",
   "execution_count": null,
   "metadata": {},
   "outputs": [],
   "source": []
  },
  {
   "cell_type": "code",
   "execution_count": 41,
   "metadata": {},
   "outputs": [],
   "source": []
  },
  {
   "cell_type": "code",
   "execution_count": 43,
   "metadata": {},
   "outputs": [],
   "source": []
  },
  {
   "cell_type": "code",
   "execution_count": null,
   "metadata": {},
   "outputs": [],
   "source": []
  },
  {
   "cell_type": "code",
   "execution_count": null,
   "metadata": {},
   "outputs": [],
   "source": []
  },
  {
   "cell_type": "code",
   "execution_count": null,
   "metadata": {},
   "outputs": [],
   "source": []
  },
  {
   "cell_type": "code",
   "execution_count": null,
   "metadata": {},
   "outputs": [],
   "source": []
  },
  {
   "cell_type": "code",
   "execution_count": null,
   "metadata": {},
   "outputs": [],
   "source": []
  },
  {
   "cell_type": "code",
   "execution_count": null,
   "metadata": {},
   "outputs": [],
   "source": []
  },
  {
   "cell_type": "code",
   "execution_count": null,
   "metadata": {},
   "outputs": [],
   "source": []
  },
  {
   "cell_type": "code",
   "execution_count": null,
   "metadata": {},
   "outputs": [],
   "source": []
  },
  {
   "cell_type": "code",
   "execution_count": null,
   "metadata": {},
   "outputs": [],
   "source": []
  },
  {
   "cell_type": "code",
   "execution_count": null,
   "metadata": {},
   "outputs": [],
   "source": []
  },
  {
   "cell_type": "code",
   "execution_count": null,
   "metadata": {},
   "outputs": [],
   "source": []
  },
  {
   "cell_type": "code",
   "execution_count": null,
   "metadata": {},
   "outputs": [],
   "source": []
  }
 ],
 "metadata": {
  "kernelspec": {
   "display_name": "Datascience",
   "language": "python",
   "name": "python3"
  },
  "language_info": {
   "codemirror_mode": {
    "name": "ipython",
    "version": 3
   },
   "file_extension": ".py",
   "mimetype": "text/x-python",
   "name": "python",
   "nbconvert_exporter": "python",
   "pygments_lexer": "ipython3",
   "version": "3.12.4"
  }
 },
 "nbformat": 4,
 "nbformat_minor": 2
}
