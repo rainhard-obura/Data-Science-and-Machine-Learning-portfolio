{
 "cells": [
  {
   "cell_type": "code",
   "execution_count": 1,
   "metadata": {},
   "outputs": [],
   "source": [
    "import numpy as np\n",
    "import pandas as pd\n",
    "import lightgbm as lgb\n",
    "from sklearn.model_selection import StratifiedKFold\n",
    "import xgboost as xgb\n",
    "from catboost import CatBoostClassifier\n",
    "from sklearn.model_selection import StratifiedKFold, train_test_split\n",
    "from imblearn.over_sampling import SMOTE\n",
    "import optuna  # Hyperparameter tuning\n"
   ]
  },
  {
   "cell_type": "code",
   "execution_count": 19,
   "metadata": {},
   "outputs": [],
   "source": [
    "train_df = pd.read_csv('Train.csv')\n",
    "test_df = pd.read_csv('Test.csv')"
   ]
  },
  {
   "cell_type": "code",
   "execution_count": 20,
   "metadata": {},
   "outputs": [],
   "source": [
    "def create_event_features(df):\n",
    "    df['event_idx'] = df.groupby('event_id', sort=False).ngroup()\n",
    "    df['event_t'] = df.groupby('event_id').cumcount()\n",
    "    return df"
   ]
  },
  {
   "cell_type": "code",
   "execution_count": 21,
   "metadata": {},
   "outputs": [],
   "source": [
    "train_df = create_event_features(train_df)\n",
    "test_df = create_event_features(test_df)    "
   ]
  },
  {
   "cell_type": "code",
   "execution_count": 22,
   "metadata": {},
   "outputs": [],
   "source": [
    "def create_lag_features(df):\n",
    "    pivoted = df.pivot(index='event_id', columns='event_t', values='precipitation').fillna(0)\n",
    "    pivoted.columns = [f'lag_{i}' for i in range(pivoted.shape[1])]\n",
    "    pivoted.reset_index(inplace=True)\n",
    "    return pivoted\n",
    "\n",
    "train_pivot = create_lag_features(train_df)\n",
    "test_pivot = create_lag_features(test_df)\n"
   ]
  },
  {
   "cell_type": "code",
   "execution_count": 23,
   "metadata": {},
   "outputs": [
    {
     "data": {
      "text/plain": [
       "<bound method NDFrame.head of                      event_id     lag_0\n",
       "0         id_05v6zjuaf300_X_0   0.00000\n",
       "1         id_05v6zjuaf300_X_1   9.45176\n",
       "2        id_05v6zjuaf300_X_10   8.49763\n",
       "3       id_05v6zjuaf300_X_100   0.00000\n",
       "4       id_05v6zjuaf300_X_101   0.00000\n",
       "...                       ...       ...\n",
       "492015   id_zyy86zjmrnx2_X_95   9.61178\n",
       "492016   id_zyy86zjmrnx2_X_96  12.31130\n",
       "492017   id_zyy86zjmrnx2_X_97  19.92590\n",
       "492018   id_zyy86zjmrnx2_X_98   0.00000\n",
       "492019   id_zyy86zjmrnx2_X_99  16.21550\n",
       "\n",
       "[492020 rows x 2 columns]>"
      ]
     },
     "execution_count": 23,
     "metadata": {},
     "output_type": "execute_result"
    }
   ],
   "source": [
    "train_pivot.head"
   ]
  },
  {
   "cell_type": "code",
   "execution_count": 24,
   "metadata": {},
   "outputs": [],
   "source": [
    "# Merge labels back to train set\n",
    "train_labels = train_df[['event_id', 'label']].groupby('event_id').max().reset_index()\n",
    "train_data = train_pivot.merge(train_labels, on='event_id', how='left')\n",
    "test_data = test_pivot.copy()\n"
   ]
  },
  {
   "cell_type": "code",
   "execution_count": null,
   "metadata": {},
   "outputs": [],
   "source": []
  },
  {
   "cell_type": "code",
   "execution_count": 39,
   "metadata": {},
   "outputs": [],
   "source": [
    "# Prepare training features and target\n",
    "X = train_data.drop(columns=['event_id', 'label'])\n",
    "y = train_data['label']\n",
    "X_test = test_data.drop(columns=['event_id'])\n",
    "\n",
    "# Train LightGBM with stratified 10-fold CV\n",
    "params = {\n",
    "    'objective': 'binary',\n",
    "    'metric': 'binary_logloss',\n",
    "    'boosting_type': 'gbdt',\n",
    "    'learning_rate': 0.08,\n",
    "    'num_leaves': 100,\n",
    "    'max_depth': 12,\n",
    "    'feature_fraction': 0.8,\n",
    "    'bagging_fraction': 0.8,\n",
    "    'bagging_freq': 5,\n",
    "    'verbose': -1\n",
    "}\n"
   ]
  },
  {
   "cell_type": "code",
   "execution_count": 40,
   "metadata": {},
   "outputs": [],
   "source": [
    "kf = StratifiedKFold(n_splits=10, shuffle=True, random_state=42)\n",
    "oof_preds = np.zeros(len(X))\n",
    "test_preds = np.zeros(len(X_test))\n",
    "\n",
    "for train_idx, val_idx in kf.split(X, y):\n",
    "    X_train, X_val = X.iloc[train_idx], X.iloc[val_idx]\n",
    "    y_train, y_val = y.iloc[train_idx], y.iloc[val_idx]\n",
    "    \n",
    "    dtrain = lgb.Dataset(X_train, label=y_train)\n",
    "    dval = lgb.Dataset(X_val, label=y_val, reference=dtrain)\n",
    "    \n",
    "    model = lgb.train({**params, 'early_stopping_rounds': 50}, dtrain, valid_sets=[dval])\n",
    "    \n",
    "    oof_preds[val_idx] = model.predict(X_val)\n",
    "    test_preds += model.predict(X_test) / kf.n_splits\n"
   ]
  },
  {
   "cell_type": "code",
   "execution_count": 44,
   "metadata": {},
   "outputs": [],
   "source": [
    "test_df['Target'] = test_preds\n",
    "submission = test_df[['event_id', 'event_t', 'Target']]\n",
    "submission[['event_id', 'Target']].to_csv('submission_light2.csv', index=False)\n"
   ]
  },
  {
   "cell_type": "code",
   "execution_count": 45,
   "metadata": {},
   "outputs": [
    {
     "data": {
      "text/html": [
       "<div>\n",
       "<style scoped>\n",
       "    .dataframe tbody tr th:only-of-type {\n",
       "        vertical-align: middle;\n",
       "    }\n",
       "\n",
       "    .dataframe tbody tr th {\n",
       "        vertical-align: top;\n",
       "    }\n",
       "\n",
       "    .dataframe thead th {\n",
       "        text-align: right;\n",
       "    }\n",
       "</style>\n",
       "<table border=\"1\" class=\"dataframe\">\n",
       "  <thead>\n",
       "    <tr style=\"text-align: right;\">\n",
       "      <th></th>\n",
       "      <th>event_id</th>\n",
       "      <th>Target</th>\n",
       "    </tr>\n",
       "  </thead>\n",
       "  <tbody>\n",
       "    <tr>\n",
       "      <th>0</th>\n",
       "      <td>id_j7b6sokflo4k_X_0</td>\n",
       "      <td>0.000470</td>\n",
       "    </tr>\n",
       "    <tr>\n",
       "      <th>1</th>\n",
       "      <td>id_j7b6sokflo4k_X_1</td>\n",
       "      <td>0.000470</td>\n",
       "    </tr>\n",
       "    <tr>\n",
       "      <th>2</th>\n",
       "      <td>id_j7b6sokflo4k_X_2</td>\n",
       "      <td>0.000470</td>\n",
       "    </tr>\n",
       "    <tr>\n",
       "      <th>3</th>\n",
       "      <td>id_j7b6sokflo4k_X_3</td>\n",
       "      <td>0.000470</td>\n",
       "    </tr>\n",
       "    <tr>\n",
       "      <th>4</th>\n",
       "      <td>id_j7b6sokflo4k_X_4</td>\n",
       "      <td>0.000470</td>\n",
       "    </tr>\n",
       "    <tr>\n",
       "      <th>5</th>\n",
       "      <td>id_j7b6sokflo4k_X_5</td>\n",
       "      <td>0.000470</td>\n",
       "    </tr>\n",
       "    <tr>\n",
       "      <th>6</th>\n",
       "      <td>id_j7b6sokflo4k_X_6</td>\n",
       "      <td>0.000470</td>\n",
       "    </tr>\n",
       "    <tr>\n",
       "      <th>7</th>\n",
       "      <td>id_j7b6sokflo4k_X_7</td>\n",
       "      <td>0.000470</td>\n",
       "    </tr>\n",
       "    <tr>\n",
       "      <th>8</th>\n",
       "      <td>id_j7b6sokflo4k_X_8</td>\n",
       "      <td>0.000470</td>\n",
       "    </tr>\n",
       "    <tr>\n",
       "      <th>9</th>\n",
       "      <td>id_j7b6sokflo4k_X_9</td>\n",
       "      <td>0.001768</td>\n",
       "    </tr>\n",
       "    <tr>\n",
       "      <th>10</th>\n",
       "      <td>id_j7b6sokflo4k_X_10</td>\n",
       "      <td>0.000470</td>\n",
       "    </tr>\n",
       "    <tr>\n",
       "      <th>11</th>\n",
       "      <td>id_j7b6sokflo4k_X_11</td>\n",
       "      <td>0.000470</td>\n",
       "    </tr>\n",
       "    <tr>\n",
       "      <th>12</th>\n",
       "      <td>id_j7b6sokflo4k_X_12</td>\n",
       "      <td>0.000470</td>\n",
       "    </tr>\n",
       "    <tr>\n",
       "      <th>13</th>\n",
       "      <td>id_j7b6sokflo4k_X_13</td>\n",
       "      <td>0.000470</td>\n",
       "    </tr>\n",
       "    <tr>\n",
       "      <th>14</th>\n",
       "      <td>id_j7b6sokflo4k_X_14</td>\n",
       "      <td>0.000470</td>\n",
       "    </tr>\n",
       "    <tr>\n",
       "      <th>15</th>\n",
       "      <td>id_j7b6sokflo4k_X_15</td>\n",
       "      <td>0.001479</td>\n",
       "    </tr>\n",
       "    <tr>\n",
       "      <th>16</th>\n",
       "      <td>id_j7b6sokflo4k_X_16</td>\n",
       "      <td>0.000470</td>\n",
       "    </tr>\n",
       "    <tr>\n",
       "      <th>17</th>\n",
       "      <td>id_j7b6sokflo4k_X_17</td>\n",
       "      <td>0.000470</td>\n",
       "    </tr>\n",
       "    <tr>\n",
       "      <th>18</th>\n",
       "      <td>id_j7b6sokflo4k_X_18</td>\n",
       "      <td>0.000470</td>\n",
       "    </tr>\n",
       "    <tr>\n",
       "      <th>19</th>\n",
       "      <td>id_j7b6sokflo4k_X_19</td>\n",
       "      <td>0.000470</td>\n",
       "    </tr>\n",
       "    <tr>\n",
       "      <th>20</th>\n",
       "      <td>id_j7b6sokflo4k_X_20</td>\n",
       "      <td>0.000470</td>\n",
       "    </tr>\n",
       "    <tr>\n",
       "      <th>21</th>\n",
       "      <td>id_j7b6sokflo4k_X_21</td>\n",
       "      <td>0.000470</td>\n",
       "    </tr>\n",
       "    <tr>\n",
       "      <th>22</th>\n",
       "      <td>id_j7b6sokflo4k_X_22</td>\n",
       "      <td>0.002472</td>\n",
       "    </tr>\n",
       "    <tr>\n",
       "      <th>23</th>\n",
       "      <td>id_j7b6sokflo4k_X_23</td>\n",
       "      <td>0.000470</td>\n",
       "    </tr>\n",
       "    <tr>\n",
       "      <th>24</th>\n",
       "      <td>id_j7b6sokflo4k_X_24</td>\n",
       "      <td>0.000470</td>\n",
       "    </tr>\n",
       "    <tr>\n",
       "      <th>25</th>\n",
       "      <td>id_j7b6sokflo4k_X_25</td>\n",
       "      <td>0.000470</td>\n",
       "    </tr>\n",
       "    <tr>\n",
       "      <th>26</th>\n",
       "      <td>id_j7b6sokflo4k_X_26</td>\n",
       "      <td>0.000470</td>\n",
       "    </tr>\n",
       "    <tr>\n",
       "      <th>27</th>\n",
       "      <td>id_j7b6sokflo4k_X_27</td>\n",
       "      <td>0.000470</td>\n",
       "    </tr>\n",
       "    <tr>\n",
       "      <th>28</th>\n",
       "      <td>id_j7b6sokflo4k_X_28</td>\n",
       "      <td>0.000470</td>\n",
       "    </tr>\n",
       "    <tr>\n",
       "      <th>29</th>\n",
       "      <td>id_j7b6sokflo4k_X_29</td>\n",
       "      <td>0.000470</td>\n",
       "    </tr>\n",
       "  </tbody>\n",
       "</table>\n",
       "</div>"
      ],
      "text/plain": [
       "                event_id    Target\n",
       "0    id_j7b6sokflo4k_X_0  0.000470\n",
       "1    id_j7b6sokflo4k_X_1  0.000470\n",
       "2    id_j7b6sokflo4k_X_2  0.000470\n",
       "3    id_j7b6sokflo4k_X_3  0.000470\n",
       "4    id_j7b6sokflo4k_X_4  0.000470\n",
       "5    id_j7b6sokflo4k_X_5  0.000470\n",
       "6    id_j7b6sokflo4k_X_6  0.000470\n",
       "7    id_j7b6sokflo4k_X_7  0.000470\n",
       "8    id_j7b6sokflo4k_X_8  0.000470\n",
       "9    id_j7b6sokflo4k_X_9  0.001768\n",
       "10  id_j7b6sokflo4k_X_10  0.000470\n",
       "11  id_j7b6sokflo4k_X_11  0.000470\n",
       "12  id_j7b6sokflo4k_X_12  0.000470\n",
       "13  id_j7b6sokflo4k_X_13  0.000470\n",
       "14  id_j7b6sokflo4k_X_14  0.000470\n",
       "15  id_j7b6sokflo4k_X_15  0.001479\n",
       "16  id_j7b6sokflo4k_X_16  0.000470\n",
       "17  id_j7b6sokflo4k_X_17  0.000470\n",
       "18  id_j7b6sokflo4k_X_18  0.000470\n",
       "19  id_j7b6sokflo4k_X_19  0.000470\n",
       "20  id_j7b6sokflo4k_X_20  0.000470\n",
       "21  id_j7b6sokflo4k_X_21  0.000470\n",
       "22  id_j7b6sokflo4k_X_22  0.002472\n",
       "23  id_j7b6sokflo4k_X_23  0.000470\n",
       "24  id_j7b6sokflo4k_X_24  0.000470\n",
       "25  id_j7b6sokflo4k_X_25  0.000470\n",
       "26  id_j7b6sokflo4k_X_26  0.000470\n",
       "27  id_j7b6sokflo4k_X_27  0.000470\n",
       "28  id_j7b6sokflo4k_X_28  0.000470\n",
       "29  id_j7b6sokflo4k_X_29  0.000470"
      ]
     },
     "execution_count": 45,
     "metadata": {},
     "output_type": "execute_result"
    }
   ],
   "source": [
    "sample_submission = pd.read_csv('submission_light2.csv')\n",
    "sample_submission.head(30)"
   ]
  },
  {
   "cell_type": "code",
   "execution_count": null,
   "metadata": {},
   "outputs": [],
   "source": [
    "sample_submission['label'] = pred.flatten()\n",
    "sample_submission.head()"
   ]
  },
  {
   "cell_type": "code",
   "execution_count": null,
   "metadata": {},
   "outputs": [],
   "source": []
  },
  {
   "cell_type": "markdown",
   "metadata": {},
   "source": [
    "## Model 3"
   ]
  },
  {
   "cell_type": "code",
   "execution_count": 11,
   "metadata": {},
   "outputs": [],
   "source": [
    "# Load Data\n",
    "train_df = pd.read_csv('Train.csv')\n",
    "test_df = pd.read_csv('Test.csv')\n",
    "\n",
    "# Create Unique Identifiers\n",
    "train_df['event_idx'] = train_df.groupby('event_id', sort=False).ngroup()\n",
    "test_df['event_idx'] = test_df.groupby('event_id', sort=False).ngroup()\n",
    "\n",
    "train_df['event_t'] = train_df.groupby('event_id').cumcount()\n",
    "test_df['event_t'] = test_df.groupby('event_id').cumcount()\n",
    "\n",
    "# Pivot Data to Create Features\n",
    "train_pivot = train_df.pivot(index='event_idx', columns='event_t', values='precipitation').fillna(0)\n",
    "test_pivot = test_df.pivot(index='event_idx', columns='event_t', values='precipitation').fillna(0)\n",
    "\n",
    "# Merge Labels\n",
    "train_labels = train_df.groupby('event_idx')['label'].max()\n",
    "\n",
    "X_train = train_pivot.values\n",
    "y_train = train_labels.values\n",
    "X_test = test_pivot.values\n"
   ]
  },
  {
   "cell_type": "code",
   "execution_count": 12,
   "metadata": {},
   "outputs": [],
   "source": [
    "smote = SMOTE(sampling_strategy='minority', random_state=42)\n",
    "X_train_balanced, y_train_balanced = smote.fit_resample(X_train, y_train)\n"
   ]
  },
  {
   "cell_type": "code",
   "execution_count": 13,
   "metadata": {},
   "outputs": [
    {
     "name": "stderr",
     "output_type": "stream",
     "text": [
      "[I 2025-02-06 18:05:55,330] A new study created in memory with name: no-name-aa55fab2-8d04-4cc7-9dba-1ee9fc1b79dc\n"
     ]
    },
    {
     "name": "stderr",
     "output_type": "stream",
     "text": [
      "[I 2025-02-06 18:06:29,742] Trial 0 finished with value: 0.6607155204844395 and parameters: {'learning_rate': 0.0013467363364897973, 'num_leaves': 137, 'max_depth': 7, 'min_data_in_leaf': 188, 'bagging_fraction': 0.9994598284724872, 'feature_fraction': 0.6239714877455595, 'lambda_l1': 3.1692407575521053, 'lambda_l2': 3.719479414960052}. Best is trial 0 with value: 0.6607155204844395.\n",
      "[I 2025-02-06 18:07:08,072] Trial 1 finished with value: 0.6470949382952879 and parameters: {'learning_rate': 0.0020172083681393948, 'num_leaves': 156, 'max_depth': 15, 'min_data_in_leaf': 27, 'bagging_fraction': 0.872610397887672, 'feature_fraction': 0.7865425543851855, 'lambda_l1': 8.967865690517106, 'lambda_l2': 9.12471837924321}. Best is trial 1 with value: 0.6470949382952879.\n",
      "[I 2025-02-06 18:07:28,421] Trial 2 finished with value: 0.5446228119068692 and parameters: {'learning_rate': 0.06273332639124533, 'num_leaves': 98, 'max_depth': 3, 'min_data_in_leaf': 21, 'bagging_fraction': 0.8081730695611941, 'feature_fraction': 0.6035755538165384, 'lambda_l1': 9.429755391064411, 'lambda_l2': 0.0023679737581394633}. Best is trial 2 with value: 0.5446228119068692.\n",
      "[I 2025-02-06 18:07:57,298] Trial 3 finished with value: 0.537665331740949 and parameters: {'learning_rate': 0.043937424100666055, 'num_leaves': 53, 'max_depth': 5, 'min_data_in_leaf': 105, 'bagging_fraction': 0.5047760035944304, 'feature_fraction': 0.6356585224103523, 'lambda_l1': 7.048939836178691, 'lambda_l2': 6.134465421447111}. Best is trial 3 with value: 0.537665331740949.\n",
      "[I 2025-02-06 18:08:35,918] Trial 4 finished with value: 0.5336116038908427 and parameters: {'learning_rate': 0.053776750621182444, 'num_leaves': 70, 'max_depth': 15, 'min_data_in_leaf': 94, 'bagging_fraction': 0.6285427811181229, 'feature_fraction': 0.6941272109522663, 'lambda_l1': 3.691094072379225, 'lambda_l2': 9.950385722197765}. Best is trial 4 with value: 0.5336116038908427.\n",
      "[I 2025-02-06 18:09:29,099] Trial 5 finished with value: 0.6468001409764963 and parameters: {'learning_rate': 0.002021802268958235, 'num_leaves': 93, 'max_depth': 13, 'min_data_in_leaf': 159, 'bagging_fraction': 0.9093741184227362, 'feature_fraction': 0.5453273478744942, 'lambda_l1': 0.8410250050594825, 'lambda_l2': 6.259297671409353}. Best is trial 4 with value: 0.5336116038908427.\n",
      "[I 2025-02-06 18:10:06,355] Trial 6 finished with value: 0.5480315288134177 and parameters: {'learning_rate': 0.017252037798871273, 'num_leaves': 150, 'max_depth': 6, 'min_data_in_leaf': 139, 'bagging_fraction': 0.8493130290801314, 'feature_fraction': 0.7192447285388468, 'lambda_l1': 8.818160881125872, 'lambda_l2': 9.92308142264034}. Best is trial 4 with value: 0.5336116038908427.\n",
      "[I 2025-02-06 18:10:56,254] Trial 7 finished with value: 0.6603727465493077 and parameters: {'learning_rate': 0.0013501167455597662, 'num_leaves': 176, 'max_depth': 15, 'min_data_in_leaf': 123, 'bagging_fraction': 0.5921210174720783, 'feature_fraction': 0.706450465892752, 'lambda_l1': 5.297070365394948, 'lambda_l2': 8.719023612682369}. Best is trial 4 with value: 0.5336116038908427.\n",
      "[I 2025-02-06 18:11:40,271] Trial 8 finished with value: 0.6520439292275002 and parameters: {'learning_rate': 0.0017635241126717927, 'num_leaves': 61, 'max_depth': 15, 'min_data_in_leaf': 54, 'bagging_fraction': 0.5757060171626013, 'feature_fraction': 0.5262229398396591, 'lambda_l1': 7.671242032542147, 'lambda_l2': 9.65378674369522}. Best is trial 4 with value: 0.5336116038908427.\n",
      "[I 2025-02-06 18:12:36,517] Trial 9 finished with value: 0.535176064481004 and parameters: {'learning_rate': 0.04515666977975673, 'num_leaves': 30, 'max_depth': 9, 'min_data_in_leaf': 99, 'bagging_fraction': 0.953029349250138, 'feature_fraction': 0.6414763222837053, 'lambda_l1': 4.274817269463618, 'lambda_l2': 3.4902783037422758}. Best is trial 4 with value: 0.5336116038908427.\n",
      "[I 2025-02-06 18:13:43,689] Trial 10 finished with value: 0.5792853806232662 and parameters: {'learning_rate': 0.007674669165424111, 'num_leaves': 77, 'max_depth': 11, 'min_data_in_leaf': 72, 'bagging_fraction': 0.7024499376127906, 'feature_fraction': 0.9461194354270631, 'lambda_l1': 0.12326371082675003, 'lambda_l2': 7.363363334924395}. Best is trial 4 with value: 0.5336116038908427.\n",
      "[I 2025-02-06 18:14:21,204] Trial 11 finished with value: 0.54063330996399 and parameters: {'learning_rate': 0.02586064651715468, 'num_leaves': 23, 'max_depth': 9, 'min_data_in_leaf': 88, 'bagging_fraction': 0.7101697910967507, 'feature_fraction': 0.8176384065353196, 'lambda_l1': 3.532346765288905, 'lambda_l2': 3.293109145330125}. Best is trial 4 with value: 0.5336116038908427.\n",
      "[I 2025-02-06 18:15:06,339] Trial 12 finished with value: 0.5338128116251722 and parameters: {'learning_rate': 0.08480682625431422, 'num_leaves': 32, 'max_depth': 10, 'min_data_in_leaf': 66, 'bagging_fraction': 0.6465665947203426, 'feature_fraction': 0.870555373161316, 'lambda_l1': 4.168828873942843, 'lambda_l2': 1.257438111989868}. Best is trial 4 with value: 0.5336116038908427.\n",
      "[I 2025-02-06 18:15:53,520] Trial 13 finished with value: 0.5335009100413031 and parameters: {'learning_rate': 0.09929165961560503, 'num_leaves': 50, 'max_depth': 12, 'min_data_in_leaf': 54, 'bagging_fraction': 0.640668311719172, 'feature_fraction': 0.884291699121171, 'lambda_l1': 2.026188970717353, 'lambda_l2': 0.2183587538293903}. Best is trial 13 with value: 0.5335009100413031.\n",
      "[I 2025-02-06 18:16:47,390] Trial 14 finished with value: 0.533476420333206 and parameters: {'learning_rate': 0.09859612973304867, 'num_leaves': 122, 'max_depth': 12, 'min_data_in_leaf': 43, 'bagging_fraction': 0.772165868382286, 'feature_fraction': 0.9993957808955851, 'lambda_l1': 2.0704838557861116, 'lambda_l2': 1.834006178938075}. Best is trial 14 with value: 0.533476420333206.\n",
      "[I 2025-02-06 18:17:46,821] Trial 15 finished with value: 0.5334758498478198 and parameters: {'learning_rate': 0.0984542538328925, 'num_leaves': 118, 'max_depth': 12, 'min_data_in_leaf': 43, 'bagging_fraction': 0.781492386940516, 'feature_fraction': 0.9944985980172595, 'lambda_l1': 1.9497704829672813, 'lambda_l2': 1.6793691820602854}. Best is trial 15 with value: 0.5334758498478198.\n",
      "[I 2025-02-06 18:18:34,734] Trial 16 finished with value: 0.5668108818086297 and parameters: {'learning_rate': 0.00961686598611028, 'num_leaves': 124, 'max_depth': 13, 'min_data_in_leaf': 35, 'bagging_fraction': 0.7778200149668036, 'feature_fraction': 0.9913175038902922, 'lambda_l1': 1.9206928425574075, 'lambda_l2': 1.9060736357723722}. Best is trial 15 with value: 0.5334758498478198.\n",
      "[I 2025-02-06 18:19:38,760] Trial 17 finished with value: 0.6089091270086611 and parameters: {'learning_rate': 0.004510341297006275, 'num_leaves': 197, 'max_depth': 13, 'min_data_in_leaf': 10, 'bagging_fraction': 0.7371745494437894, 'feature_fraction': 0.9946583316727172, 'lambda_l1': 5.854203185336708, 'lambda_l2': 2.1490865232090504}. Best is trial 15 with value: 0.5334758498478198.\n",
      "[I 2025-02-06 18:20:25,838] Trial 18 finished with value: 0.5365963239193581 and parameters: {'learning_rate': 0.024953646932102905, 'num_leaves': 118, 'max_depth': 11, 'min_data_in_leaf': 41, 'bagging_fraction': 0.8198335517500895, 'feature_fraction': 0.917024129003517, 'lambda_l1': 2.1334423200454005, 'lambda_l2': 4.718813423830154}. Best is trial 15 with value: 0.5334758498478198.\n",
      "[I 2025-02-06 18:21:07,433] Trial 19 finished with value: 0.5355996579620282 and parameters: {'learning_rate': 0.029295411783364162, 'num_leaves': 98, 'max_depth': 8, 'min_data_in_leaf': 73, 'bagging_fraction': 0.7730087193281723, 'feature_fraction': 0.8423797620794878, 'lambda_l1': 1.1019130712835215, 'lambda_l2': 2.5398255744021356}. Best is trial 15 with value: 0.5334758498478198.\n",
      "[I 2025-02-06 18:22:09,638] Trial 20 finished with value: 0.5461198248313477 and parameters: {'learning_rate': 0.015732096153946277, 'num_leaves': 167, 'max_depth': 11, 'min_data_in_leaf': 10, 'bagging_fraction': 0.8957375969289012, 'feature_fraction': 0.9418105608846743, 'lambda_l1': 0.11957487320115767, 'lambda_l2': 1.0555660896152377}. Best is trial 15 with value: 0.5334758498478198.\n",
      "[I 2025-02-06 18:22:56,192] Trial 21 finished with value: 0.5334767385283368 and parameters: {'learning_rate': 0.09313268180299818, 'num_leaves': 132, 'max_depth': 12, 'min_data_in_leaf': 51, 'bagging_fraction': 0.6779056591536264, 'feature_fraction': 0.9095024155832256, 'lambda_l1': 2.6980698626803346, 'lambda_l2': 0.12780192073011915}. Best is trial 15 with value: 0.5334758498478198.\n",
      "[I 2025-02-06 18:23:40,211] Trial 22 finished with value: 0.5334784147710707 and parameters: {'learning_rate': 0.07524838045699997, 'num_leaves': 133, 'max_depth': 12, 'min_data_in_leaf': 51, 'bagging_fraction': 0.6905594788797924, 'feature_fraction': 0.993915742591485, 'lambda_l1': 2.6853265035757756, 'lambda_l2': 1.0167609095799657}. Best is trial 15 with value: 0.5334758498478198.\n",
      "[I 2025-02-06 18:24:28,359] Trial 23 finished with value: 0.5334770414183986 and parameters: {'learning_rate': 0.09598508011180708, 'num_leaves': 112, 'max_depth': 13, 'min_data_in_leaf': 39, 'bagging_fraction': 0.7621675374771475, 'feature_fraction': 0.9267783651579645, 'lambda_l1': 1.083001746580483, 'lambda_l2': 2.8841401804264337}. Best is trial 15 with value: 0.5334758498478198.\n",
      "[I 2025-02-06 18:25:18,673] Trial 24 finished with value: 0.5338855188856692 and parameters: {'learning_rate': 0.038651659297572284, 'num_leaves': 142, 'max_depth': 10, 'min_data_in_leaf': 71, 'bagging_fraction': 0.680507237408831, 'feature_fraction': 0.9554280495859053, 'lambda_l1': 2.4827770891732657, 'lambda_l2': 4.228355521337967}. Best is trial 15 with value: 0.5334758498478198.\n",
      "[I 2025-02-06 18:26:06,235] Trial 25 finished with value: 0.5334918336193991 and parameters: {'learning_rate': 0.06924022165445695, 'num_leaves': 125, 'max_depth': 14, 'min_data_in_leaf': 51, 'bagging_fraction': 0.8145084819424292, 'feature_fraction': 0.884114795710098, 'lambda_l1': 4.643555552041188, 'lambda_l2': 1.4639111407455765}. Best is trial 15 with value: 0.5334758498478198.\n",
      "[I 2025-02-06 18:26:55,047] Trial 26 finished with value: 0.6211897859905249 and parameters: {'learning_rate': 0.003565385773460634, 'num_leaves': 106, 'max_depth': 12, 'min_data_in_leaf': 84, 'bagging_fraction': 0.7297441188780605, 'feature_fraction': 0.7811186483743315, 'lambda_l1': 1.7007554522786097, 'lambda_l2': 0.549637180520195}. Best is trial 15 with value: 0.5334758498478198.\n",
      "[I 2025-02-06 18:27:45,586] Trial 27 finished with value: 0.5343607460369915 and parameters: {'learning_rate': 0.034112440811290896, 'num_leaves': 86, 'max_depth': 10, 'min_data_in_leaf': 117, 'bagging_fraction': 0.7893010793453538, 'feature_fraction': 0.9671750570023716, 'lambda_l1': 2.979286292426166, 'lambda_l2': 1.8015278251383098}. Best is trial 15 with value: 0.5334758498478198.\n",
      "[I 2025-02-06 18:28:25,407] Trial 28 finished with value: 0.5337658765666615 and parameters: {'learning_rate': 0.0553411017376043, 'num_leaves': 159, 'max_depth': 8, 'min_data_in_leaf': 25, 'bagging_fraction': 0.5523896365124237, 'feature_fraction': 0.8978699499732444, 'lambda_l1': 5.45415905217106, 'lambda_l2': 5.39858698929425}. Best is trial 15 with value: 0.5334758498478198.\n",
      "[I 2025-02-06 18:29:12,248] Trial 29 finished with value: 0.5388933111683478 and parameters: {'learning_rate': 0.02129146925643089, 'num_leaves': 133, 'max_depth': 14, 'min_data_in_leaf': 154, 'bagging_fraction': 0.9843512450665237, 'feature_fraction': 0.8560246579754073, 'lambda_l1': 3.055836010620372, 'lambda_l2': 2.697775800987783}. Best is trial 15 with value: 0.5334758498478198.\n"
     ]
    },
    {
     "name": "stdout",
     "output_type": "stream",
     "text": [
      "Best Parameters: {'learning_rate': 0.0984542538328925, 'num_leaves': 118, 'max_depth': 12, 'min_data_in_leaf': 43, 'bagging_fraction': 0.781492386940516, 'feature_fraction': 0.9944985980172595, 'lambda_l1': 1.9497704829672813, 'lambda_l2': 1.6793691820602854}\n"
     ]
    }
   ],
   "source": [
    "def objective(trial):\n",
    "    params = {\n",
    "        'objective': 'binary',\n",
    "        'metric': 'binary_logloss',\n",
    "        'boosting_type': 'gbdt',\n",
    "        'learning_rate': trial.suggest_float('learning_rate', 0.001, 0.1, log=True),\n",
    "        'num_leaves': trial.suggest_int('num_leaves', 20, 200),\n",
    "        'max_depth': trial.suggest_int('max_depth', 3, 15),\n",
    "        'min_data_in_leaf': trial.suggest_int('min_data_in_leaf', 10, 200),\n",
    "        'bagging_fraction': trial.suggest_float('bagging_fraction', 0.5, 1.0),\n",
    "        'feature_fraction': trial.suggest_float('feature_fraction', 0.5, 1.0),\n",
    "        'lambda_l1': trial.suggest_float('lambda_l1', 0.0, 10.0),\n",
    "        'lambda_l2': trial.suggest_float('lambda_l2', 0.0, 10.0),\n",
    "        'early_stopping_rounds': 50,\n",
    "        'verbose': -1\n",
    "    }\n",
    "\n",
    "    kf = StratifiedKFold(n_splits=5, shuffle=True, random_state=42)\n",
    "    scores = []\n",
    "    \n",
    "    for train_idx, val_idx in kf.split(X_train_balanced, y_train_balanced):\n",
    "        X_tr, X_val = X_train_balanced[train_idx], X_train_balanced[val_idx]\n",
    "        y_tr, y_val = y_train_balanced[train_idx], y_train_balanced[val_idx]\n",
    "        \n",
    "        train_data = lgb.Dataset(X_tr, label=y_tr)\n",
    "        val_data = lgb.Dataset(X_val, label=y_val, reference=train_data)\n",
    "        \n",
    "        model = lgb.train(params, train_data, valid_sets=[val_data])\n",
    "        preds = model.predict(X_val)\n",
    "        log_loss = -np.mean(y_val * np.log(preds) + (1 - y_val) * np.log(1 - preds))\n",
    "        scores.append(log_loss)\n",
    "    \n",
    "    return np.mean(scores)\n",
    "\n",
    "# Run Optuna to Find Best Hyperparameters\n",
    "study = optuna.create_study(direction='minimize')\n",
    "study.optimize(objective, n_trials=30)\n",
    "\n",
    "# Get Best Parameters\n",
    "best_params = study.best_params\n",
    "print(\"Best Parameters:\", best_params)\n"
   ]
  },
  {
   "cell_type": "code",
   "execution_count": 14,
   "metadata": {},
   "outputs": [
    {
     "name": "stdout",
     "output_type": "stream",
     "text": [
      "0:\tlearn: 0.6902778\ttotal: 231ms\tremaining: 3m 50s\n",
      "100:\tlearn: 0.5692601\ttotal: 22.9s\tremaining: 3m 23s\n",
      "200:\tlearn: 0.5520777\ttotal: 46s\tremaining: 3m 2s\n",
      "300:\tlearn: 0.5473462\ttotal: 1m 6s\tremaining: 2m 33s\n",
      "400:\tlearn: 0.5448753\ttotal: 1m 28s\tremaining: 2m 11s\n",
      "500:\tlearn: 0.5430828\ttotal: 1m 49s\tremaining: 1m 48s\n",
      "600:\tlearn: 0.5421686\ttotal: 2m 9s\tremaining: 1m 26s\n",
      "700:\tlearn: 0.5406604\ttotal: 2m 34s\tremaining: 1m 5s\n",
      "800:\tlearn: 0.5400093\ttotal: 2m 56s\tremaining: 43.9s\n",
      "900:\tlearn: 0.5391987\ttotal: 3m 20s\tremaining: 22s\n",
      "999:\tlearn: 0.5385795\ttotal: 3m 44s\tremaining: 0us\n"
     ]
    }
   ],
   "source": [
    "# Final Models with Best Params\n",
    "lgb_model = lgb.LGBMClassifier(**best_params)\n",
    "xgb_model = xgb.XGBClassifier(objective='binary:logistic', eval_metric='logloss', learning_rate=0.01, max_depth=6, n_estimators=1000)\n",
    "cat_model = CatBoostClassifier(iterations=1000, learning_rate=0.01, depth=6, loss_function='Logloss', verbose=100)\n",
    "\n",
    "# Train Models\n",
    "lgb_model.fit(X_train_balanced, y_train_balanced)\n",
    "xgb_model.fit(X_train_balanced, y_train_balanced)\n",
    "cat_model.fit(X_train_balanced, y_train_balanced)\n",
    "\n",
    "# Make Predictions\n",
    "lgb_preds = lgb_model.predict_proba(X_test)[:, 1]\n",
    "xgb_preds = xgb_model.predict_proba(X_test)[:, 1]\n",
    "cat_preds = cat_model.predict_proba(X_test)[:, 1]\n",
    "\n",
    "# Ensembling (Averaging Predictions)\n",
    "final_preds = (lgb_preds + xgb_preds + cat_preds) / 3\n"
   ]
  },
  {
   "cell_type": "code",
   "execution_count": 15,
   "metadata": {},
   "outputs": [],
   "source": [
    "submission = pd.DataFrame({'event_id': test_df['event_id'], 'label': final_preds})\n",
    "submission.to_csv('submission_ensemble2.csv', index=False)\n"
   ]
  },
  {
   "cell_type": "code",
   "execution_count": 16,
   "metadata": {},
   "outputs": [
    {
     "data": {
      "text/html": [
       "<div>\n",
       "<style scoped>\n",
       "    .dataframe tbody tr th:only-of-type {\n",
       "        vertical-align: middle;\n",
       "    }\n",
       "\n",
       "    .dataframe tbody tr th {\n",
       "        vertical-align: top;\n",
       "    }\n",
       "\n",
       "    .dataframe thead th {\n",
       "        text-align: right;\n",
       "    }\n",
       "</style>\n",
       "<table border=\"1\" class=\"dataframe\">\n",
       "  <thead>\n",
       "    <tr style=\"text-align: right;\">\n",
       "      <th></th>\n",
       "      <th>event_id</th>\n",
       "      <th>label</th>\n",
       "    </tr>\n",
       "  </thead>\n",
       "  <tbody>\n",
       "    <tr>\n",
       "      <th>0</th>\n",
       "      <td>id_j7b6sokflo4k_X_0</td>\n",
       "      <td>0.319678</td>\n",
       "    </tr>\n",
       "    <tr>\n",
       "      <th>1</th>\n",
       "      <td>id_j7b6sokflo4k_X_1</td>\n",
       "      <td>0.503323</td>\n",
       "    </tr>\n",
       "    <tr>\n",
       "      <th>2</th>\n",
       "      <td>id_j7b6sokflo4k_X_2</td>\n",
       "      <td>0.319678</td>\n",
       "    </tr>\n",
       "    <tr>\n",
       "      <th>3</th>\n",
       "      <td>id_j7b6sokflo4k_X_3</td>\n",
       "      <td>0.692240</td>\n",
       "    </tr>\n",
       "    <tr>\n",
       "      <th>4</th>\n",
       "      <td>id_j7b6sokflo4k_X_4</td>\n",
       "      <td>0.427484</td>\n",
       "    </tr>\n",
       "  </tbody>\n",
       "</table>\n",
       "</div>"
      ],
      "text/plain": [
       "              event_id     label\n",
       "0  id_j7b6sokflo4k_X_0  0.319678\n",
       "1  id_j7b6sokflo4k_X_1  0.503323\n",
       "2  id_j7b6sokflo4k_X_2  0.319678\n",
       "3  id_j7b6sokflo4k_X_3  0.692240\n",
       "4  id_j7b6sokflo4k_X_4  0.427484"
      ]
     },
     "execution_count": 16,
     "metadata": {},
     "output_type": "execute_result"
    }
   ],
   "source": [
    "submission.head()"
   ]
  },
  {
   "cell_type": "code",
   "execution_count": null,
   "metadata": {},
   "outputs": [],
   "source": []
  },
  {
   "cell_type": "code",
   "execution_count": null,
   "metadata": {},
   "outputs": [],
   "source": []
  },
  {
   "cell_type": "code",
   "execution_count": null,
   "metadata": {},
   "outputs": [],
   "source": []
  },
  {
   "cell_type": "code",
   "execution_count": null,
   "metadata": {},
   "outputs": [],
   "source": []
  },
  {
   "cell_type": "code",
   "execution_count": 28,
   "metadata": {},
   "outputs": [],
   "source": [
    "# Keep precipitation values row-wise (No aggregation)\n",
    "X_train = train_df[['precipitation', 'event_t']].values  # Keep both precipitation & time\n",
    "X_test = test_df[['precipitation', 'event_t']].values    # Same for test\n",
    "y_train = train_df['label'].values  # Keep row-wise labels\n"
   ]
  },
  {
   "cell_type": "code",
   "execution_count": 29,
   "metadata": {},
   "outputs": [],
   "source": [
    "# Normalize precipitation\n",
    "X_train[:, 0] = (X_train[:, 0] - np.mean(X_train[:, 0])) / np.std(X_train[:, 0])\n",
    "X_test[:, 0] = (X_test[:, 0] - np.mean(X_test[:, 0])) / np.std(X_test[:, 0])\n"
   ]
  },
  {
   "cell_type": "code",
   "execution_count": 30,
   "metadata": {},
   "outputs": [],
   "source": [
    "# Reshape for LSTM (samples, timesteps, features)\n",
    "X_train = X_train.reshape(X_train.shape[0], 1, 2)\n",
    "X_test = X_test.reshape(X_test.shape[0], 1, 2)"
   ]
  },
  {
   "cell_type": "code",
   "execution_count": 31,
   "metadata": {},
   "outputs": [],
   "source": [
    "# Train-validation split\n",
    "X_train, X_val, y_train, y_val = train_test_split(X_train, y_train, test_size=0.1, random_state=42)\n",
    "\n",
    "# Compute class weights for imbalance handling\n",
    "class_weights = compute_class_weight('balanced', classes=np.unique(y_train), y=y_train)\n",
    "class_weight_dict = {i: weight for i, weight in enumerate(class_weights)}\n"
   ]
  },
  {
   "cell_type": "code",
   "execution_count": 32,
   "metadata": {},
   "outputs": [],
   "source": [
    "# Define LSTM model\n",
    "input_precip = Input(shape=(1, 2))  # Single timestep with 2 features (precipitation, event_t)\n",
    "x = LSTM(32, return_sequences=True)(input_precip)\n",
    "x = LSTM(16)(x)\n",
    "x = Dropout(0.3)(x)\n",
    "x = Dense(8, activation='relu')(x)\n",
    "output = Dense(1, activation='sigmoid')(x)  # Binary classification\n",
    "\n",
    "model = Model(inputs=input_precip, outputs=output)\n",
    "model.compile(optimizer='adam', loss='binary_crossentropy', metrics=['accuracy'])\n"
   ]
  },
  {
   "cell_type": "code",
   "execution_count": 33,
   "metadata": {},
   "outputs": [],
   "source": [
    "# Early stopping callback\n",
    "early_stopping = EarlyStopping(monitor='val_loss', patience=3, restore_best_weights=True)"
   ]
  },
  {
   "cell_type": "code",
   "execution_count": 43,
   "metadata": {},
   "outputs": [
    {
     "name": "stdout",
     "output_type": "stream",
     "text": [
      "Epoch 1/100\n",
      "\u001b[1m13839/13839\u001b[0m \u001b[32m━━━━━━━━━━━━━━━━━━━━\u001b[0m\u001b[37m\u001b[0m \u001b[1m83s\u001b[0m 6ms/step - accuracy: 0.8653 - loss: 0.6063 - val_accuracy: 0.8525 - val_loss: 0.6273\n",
      "Epoch 2/100\n",
      "\u001b[1m13839/13839\u001b[0m \u001b[32m━━━━━━━━━━━━━━━━━━━━\u001b[0m\u001b[37m\u001b[0m \u001b[1m69s\u001b[0m 5ms/step - accuracy: 0.8576 - loss: 0.6001 - val_accuracy: 0.8620 - val_loss: 0.5457\n",
      "Epoch 3/100\n",
      "\u001b[1m13839/13839\u001b[0m \u001b[32m━━━━━━━━━━━━━━━━━━━━\u001b[0m\u001b[37m\u001b[0m \u001b[1m81s\u001b[0m 6ms/step - accuracy: 0.8613 - loss: 0.5562 - val_accuracy: 0.8518 - val_loss: 0.6881\n",
      "Epoch 4/100\n",
      "\u001b[1m13839/13839\u001b[0m \u001b[32m━━━━━━━━━━━━━━━━━━━━\u001b[0m\u001b[37m\u001b[0m \u001b[1m78s\u001b[0m 6ms/step - accuracy: 0.8596 - loss: 0.5919 - val_accuracy: 0.8692 - val_loss: 0.5338\n",
      "Epoch 5/100\n",
      "\u001b[1m13839/13839\u001b[0m \u001b[32m━━━━━━━━━━━━━━━━━━━━\u001b[0m\u001b[37m\u001b[0m \u001b[1m70s\u001b[0m 5ms/step - accuracy: 0.8659 - loss: 0.5730 - val_accuracy: 0.8887 - val_loss: 0.4022\n",
      "Epoch 6/100\n",
      "\u001b[1m13839/13839\u001b[0m \u001b[32m━━━━━━━━━━━━━━━━━━━━\u001b[0m\u001b[37m\u001b[0m \u001b[1m88s\u001b[0m 6ms/step - accuracy: 0.8717 - loss: 0.5688 - val_accuracy: 0.8530 - val_loss: 0.6020\n",
      "Epoch 7/100\n",
      "\u001b[1m13839/13839\u001b[0m \u001b[32m━━━━━━━━━━━━━━━━━━━━\u001b[0m\u001b[37m\u001b[0m \u001b[1m80s\u001b[0m 5ms/step - accuracy: 0.8391 - loss: 0.6031 - val_accuracy: 0.8752 - val_loss: 0.4790\n",
      "Epoch 8/100\n",
      "\u001b[1m13839/13839\u001b[0m \u001b[32m━━━━━━━━━━━━━━━━━━━━\u001b[0m\u001b[37m\u001b[0m \u001b[1m65s\u001b[0m 5ms/step - accuracy: 0.8748 - loss: 0.5446 - val_accuracy: 0.8779 - val_loss: 0.4906\n",
      "Epoch 9/100\n",
      "\u001b[1m13839/13839\u001b[0m \u001b[32m━━━━━━━━━━━━━━━━━━━━\u001b[0m\u001b[37m\u001b[0m \u001b[1m52s\u001b[0m 4ms/step - accuracy: 0.8841 - loss: 0.5416 - val_accuracy: 0.8532 - val_loss: 0.7005\n",
      "Epoch 10/100\n",
      "\u001b[1m13839/13839\u001b[0m \u001b[32m━━━━━━━━━━━━━━━━━━━━\u001b[0m\u001b[37m\u001b[0m \u001b[1m51s\u001b[0m 4ms/step - accuracy: 0.8658 - loss: 0.5946 - val_accuracy: 0.8795 - val_loss: 0.5379\n",
      "Epoch 11/100\n",
      "\u001b[1m13839/13839\u001b[0m \u001b[32m━━━━━━━━━━━━━━━━━━━━\u001b[0m\u001b[37m\u001b[0m \u001b[1m66s\u001b[0m 5ms/step - accuracy: 0.8743 - loss: 0.5971 - val_accuracy: 0.8691 - val_loss: 0.5302\n",
      "Epoch 12/100\n",
      "\u001b[1m13839/13839\u001b[0m \u001b[32m━━━━━━━━━━━━━━━━━━━━\u001b[0m\u001b[37m\u001b[0m \u001b[1m75s\u001b[0m 5ms/step - accuracy: 0.8716 - loss: 0.5858 - val_accuracy: 0.8664 - val_loss: 0.5516\n",
      "Epoch 13/100\n",
      "\u001b[1m13839/13839\u001b[0m \u001b[32m━━━━━━━━━━━━━━━━━━━━\u001b[0m\u001b[37m\u001b[0m \u001b[1m71s\u001b[0m 5ms/step - accuracy: 0.8634 - loss: 0.5682 - val_accuracy: 0.8584 - val_loss: 0.6710\n",
      "Epoch 14/100\n",
      "\u001b[1m13839/13839\u001b[0m \u001b[32m━━━━━━━━━━━━━━━━━━━━\u001b[0m\u001b[37m\u001b[0m \u001b[1m86s\u001b[0m 5ms/step - accuracy: 0.8604 - loss: 0.6181 - val_accuracy: 0.8741 - val_loss: 0.4706\n",
      "Epoch 15/100\n",
      "\u001b[1m13839/13839\u001b[0m \u001b[32m━━━━━━━━━━━━━━━━━━━━\u001b[0m\u001b[37m\u001b[0m \u001b[1m74s\u001b[0m 5ms/step - accuracy: 0.8718 - loss: 0.6198 - val_accuracy: 0.8649 - val_loss: 0.5499\n",
      "Epoch 16/100\n",
      "\u001b[1m13839/13839\u001b[0m \u001b[32m━━━━━━━━━━━━━━━━━━━━\u001b[0m\u001b[37m\u001b[0m \u001b[1m68s\u001b[0m 5ms/step - accuracy: 0.8717 - loss: 0.5748 - val_accuracy: 0.8658 - val_loss: 0.5816\n",
      "Epoch 17/100\n",
      "\u001b[1m13839/13839\u001b[0m \u001b[32m━━━━━━━━━━━━━━━━━━━━\u001b[0m\u001b[37m\u001b[0m \u001b[1m92s\u001b[0m 6ms/step - accuracy: 0.8747 - loss: 0.5511 - val_accuracy: 0.8620 - val_loss: 0.6058\n",
      "Epoch 18/100\n",
      "\u001b[1m13839/13839\u001b[0m \u001b[32m━━━━━━━━━━━━━━━━━━━━\u001b[0m\u001b[37m\u001b[0m \u001b[1m75s\u001b[0m 5ms/step - accuracy: 0.8650 - loss: 0.5725 - val_accuracy: 0.8542 - val_loss: 0.6600\n",
      "Epoch 19/100\n",
      "\u001b[1m13839/13839\u001b[0m \u001b[32m━━━━━━━━━━━━━━━━━━━━\u001b[0m\u001b[37m\u001b[0m \u001b[1m86s\u001b[0m 6ms/step - accuracy: 0.8686 - loss: 0.5854 - val_accuracy: 0.8828 - val_loss: 0.5047\n",
      "Epoch 20/100\n",
      "\u001b[1m13839/13839\u001b[0m \u001b[32m━━━━━━━━━━━━━━━━━━━━\u001b[0m\u001b[37m\u001b[0m \u001b[1m70s\u001b[0m 5ms/step - accuracy: 0.8850 - loss: 0.5621 - val_accuracy: 0.8375 - val_loss: 0.7172\n",
      "Epoch 21/100\n",
      "\u001b[1m13839/13839\u001b[0m \u001b[32m━━━━━━━━━━━━━━━━━━━━\u001b[0m\u001b[37m\u001b[0m \u001b[1m78s\u001b[0m 6ms/step - accuracy: 0.8611 - loss: 0.5803 - val_accuracy: 0.8515 - val_loss: 0.6143\n",
      "Epoch 22/100\n",
      "\u001b[1m13839/13839\u001b[0m \u001b[32m━━━━━━━━━━━━━━━━━━━━\u001b[0m\u001b[37m\u001b[0m \u001b[1m76s\u001b[0m 5ms/step - accuracy: 0.8589 - loss: 0.5719 - val_accuracy: 0.8593 - val_loss: 0.5469\n",
      "Epoch 23/100\n",
      "\u001b[1m13839/13839\u001b[0m \u001b[32m━━━━━━━━━━━━━━━━━━━━\u001b[0m\u001b[37m\u001b[0m \u001b[1m75s\u001b[0m 5ms/step - accuracy: 0.8642 - loss: 0.6126 - val_accuracy: 0.8757 - val_loss: 0.4093\n",
      "Epoch 24/100\n",
      "\u001b[1m13839/13839\u001b[0m \u001b[32m━━━━━━━━━━━━━━━━━━━━\u001b[0m\u001b[37m\u001b[0m \u001b[1m73s\u001b[0m 5ms/step - accuracy: 0.8653 - loss: 0.5678 - val_accuracy: 0.8538 - val_loss: 0.6244\n",
      "Epoch 25/100\n",
      "\u001b[1m13839/13839\u001b[0m \u001b[32m━━━━━━━━━━━━━━━━━━━━\u001b[0m\u001b[37m\u001b[0m \u001b[1m75s\u001b[0m 4ms/step - accuracy: 0.8630 - loss: 0.5970 - val_accuracy: 0.8795 - val_loss: 0.3770\n",
      "Epoch 26/100\n",
      "\u001b[1m13839/13839\u001b[0m \u001b[32m━━━━━━━━━━━━━━━━━━━━\u001b[0m\u001b[37m\u001b[0m \u001b[1m62s\u001b[0m 4ms/step - accuracy: 0.8619 - loss: 0.6151 - val_accuracy: 0.8832 - val_loss: 0.5026\n",
      "Epoch 27/100\n",
      "\u001b[1m13839/13839\u001b[0m \u001b[32m━━━━━━━━━━━━━━━━━━━━\u001b[0m\u001b[37m\u001b[0m \u001b[1m55s\u001b[0m 4ms/step - accuracy: 0.8702 - loss: 0.5805 - val_accuracy: 0.8609 - val_loss: 0.5662\n",
      "Epoch 28/100\n",
      "\u001b[1m13839/13839\u001b[0m \u001b[32m━━━━━━━━━━━━━━━━━━━━\u001b[0m\u001b[37m\u001b[0m \u001b[1m55s\u001b[0m 4ms/step - accuracy: 0.8632 - loss: 0.5611 - val_accuracy: 0.8547 - val_loss: 0.6308\n",
      "Epoch 29/100\n",
      "\u001b[1m13839/13839\u001b[0m \u001b[32m━━━━━━━━━━━━━━━━━━━━\u001b[0m\u001b[37m\u001b[0m \u001b[1m61s\u001b[0m 4ms/step - accuracy: 0.8481 - loss: 0.6091 - val_accuracy: 0.8542 - val_loss: 0.6647\n",
      "Epoch 30/100\n",
      "\u001b[1m13839/13839\u001b[0m \u001b[32m━━━━━━━━━━━━━━━━━━━━\u001b[0m\u001b[37m\u001b[0m \u001b[1m81s\u001b[0m 6ms/step - accuracy: 0.8658 - loss: 0.5757 - val_accuracy: 0.8699 - val_loss: 0.5451\n",
      "Epoch 31/100\n",
      "\u001b[1m13839/13839\u001b[0m \u001b[32m━━━━━━━━━━━━━━━━━━━━\u001b[0m\u001b[37m\u001b[0m \u001b[1m76s\u001b[0m 5ms/step - accuracy: 0.8696 - loss: 0.5639 - val_accuracy: 0.8525 - val_loss: 0.6302\n",
      "Epoch 32/100\n",
      "\u001b[1m13839/13839\u001b[0m \u001b[32m━━━━━━━━━━━━━━━━━━━━\u001b[0m\u001b[37m\u001b[0m \u001b[1m74s\u001b[0m 5ms/step - accuracy: 0.8594 - loss: 0.5674 - val_accuracy: 0.8625 - val_loss: 0.5409\n",
      "Epoch 33/100\n",
      "\u001b[1m13839/13839\u001b[0m \u001b[32m━━━━━━━━━━━━━━━━━━━━\u001b[0m\u001b[37m\u001b[0m \u001b[1m70s\u001b[0m 4ms/step - accuracy: 0.8619 - loss: 0.5667 - val_accuracy: 0.8618 - val_loss: 0.4935\n",
      "Epoch 34/100\n",
      "\u001b[1m13839/13839\u001b[0m \u001b[32m━━━━━━━━━━━━━━━━━━━━\u001b[0m\u001b[37m\u001b[0m \u001b[1m76s\u001b[0m 5ms/step - accuracy: 0.8586 - loss: 0.5781 - val_accuracy: 0.8585 - val_loss: 0.4386\n",
      "Epoch 35/100\n",
      "\u001b[1m13839/13839\u001b[0m \u001b[32m━━━━━━━━━━━━━━━━━━━━\u001b[0m\u001b[37m\u001b[0m \u001b[1m79s\u001b[0m 6ms/step - accuracy: 0.8448 - loss: 0.6159 - val_accuracy: 0.8648 - val_loss: 0.4216\n",
      "Epoch 36/100\n",
      "\u001b[1m13839/13839\u001b[0m \u001b[32m━━━━━━━━━━━━━━━━━━━━\u001b[0m\u001b[37m\u001b[0m \u001b[1m63s\u001b[0m 5ms/step - accuracy: 0.8488 - loss: 0.6199 - val_accuracy: 0.8668 - val_loss: 0.4323\n",
      "Epoch 37/100\n",
      "\u001b[1m13839/13839\u001b[0m \u001b[32m━━━━━━━━━━━━━━━━━━━━\u001b[0m\u001b[37m\u001b[0m \u001b[1m79s\u001b[0m 6ms/step - accuracy: 0.8557 - loss: 0.5863 - val_accuracy: 0.8658 - val_loss: 0.4950\n",
      "Epoch 38/100\n",
      "\u001b[1m13839/13839\u001b[0m \u001b[32m━━━━━━━━━━━━━━━━━━━━\u001b[0m\u001b[37m\u001b[0m \u001b[1m82s\u001b[0m 6ms/step - accuracy: 0.8590 - loss: 0.5776 - val_accuracy: 0.8479 - val_loss: 0.6405\n",
      "Epoch 39/100\n",
      "\u001b[1m13839/13839\u001b[0m \u001b[32m━━━━━━━━━━━━━━━━━━━━\u001b[0m\u001b[37m\u001b[0m \u001b[1m71s\u001b[0m 5ms/step - accuracy: 0.8218 - loss: 0.6020 - val_accuracy: 0.8759 - val_loss: 0.3885\n",
      "Epoch 40/100\n",
      "\u001b[1m13839/13839\u001b[0m \u001b[32m━━━━━━━━━━━━━━━━━━━━\u001b[0m\u001b[37m\u001b[0m \u001b[1m86s\u001b[0m 5ms/step - accuracy: 0.8519 - loss: 0.6078 - val_accuracy: 0.8633 - val_loss: 0.4696\n",
      "Epoch 41/100\n",
      "\u001b[1m13839/13839\u001b[0m \u001b[32m━━━━━━━━━━━━━━━━━━━━\u001b[0m\u001b[37m\u001b[0m \u001b[1m72s\u001b[0m 5ms/step - accuracy: 0.8502 - loss: 0.6110 - val_accuracy: 0.8566 - val_loss: 0.5330\n",
      "Epoch 42/100\n",
      "\u001b[1m13839/13839\u001b[0m \u001b[32m━━━━━━━━━━━━━━━━━━━━\u001b[0m\u001b[37m\u001b[0m \u001b[1m84s\u001b[0m 5ms/step - accuracy: 0.8459 - loss: 0.5915 - val_accuracy: 0.8441 - val_loss: 0.6419\n",
      "Epoch 43/100\n",
      "\u001b[1m13839/13839\u001b[0m \u001b[32m━━━━━━━━━━━━━━━━━━━━\u001b[0m\u001b[37m\u001b[0m \u001b[1m69s\u001b[0m 5ms/step - accuracy: 0.8415 - loss: 0.5906 - val_accuracy: 0.9016 - val_loss: 0.3696\n",
      "Epoch 44/100\n",
      "\u001b[1m13839/13839\u001b[0m \u001b[32m━━━━━━━━━━━━━━━━━━━━\u001b[0m\u001b[37m\u001b[0m \u001b[1m55s\u001b[0m 4ms/step - accuracy: 0.8482 - loss: 0.5925 - val_accuracy: 0.8549 - val_loss: 0.5545\n",
      "Epoch 45/100\n",
      "\u001b[1m13839/13839\u001b[0m \u001b[32m━━━━━━━━━━━━━━━━━━━━\u001b[0m\u001b[37m\u001b[0m \u001b[1m55s\u001b[0m 4ms/step - accuracy: 0.8309 - loss: 0.5615 - val_accuracy: 0.8554 - val_loss: 0.5390\n",
      "Epoch 46/100\n",
      "\u001b[1m13839/13839\u001b[0m \u001b[32m━━━━━━━━━━━━━━━━━━━━\u001b[0m\u001b[37m\u001b[0m \u001b[1m53s\u001b[0m 4ms/step - accuracy: 0.8492 - loss: 0.5703 - val_accuracy: 0.8551 - val_loss: 0.5433\n",
      "Epoch 47/100\n",
      "\u001b[1m13839/13839\u001b[0m \u001b[32m━━━━━━━━━━━━━━━━━━━━\u001b[0m\u001b[37m\u001b[0m \u001b[1m49s\u001b[0m 4ms/step - accuracy: 0.8383 - loss: 0.5949 - val_accuracy: 0.8935 - val_loss: 0.3775\n",
      "Epoch 48/100\n",
      "\u001b[1m13839/13839\u001b[0m \u001b[32m━━━━━━━━━━━━━━━━━━━━\u001b[0m\u001b[37m\u001b[0m \u001b[1m50s\u001b[0m 4ms/step - accuracy: 0.8330 - loss: 0.5917 - val_accuracy: 0.8643 - val_loss: 0.4340\n",
      "Epoch 49/100\n",
      "\u001b[1m13839/13839\u001b[0m \u001b[32m━━━━━━━━━━━━━━━━━━━━\u001b[0m\u001b[37m\u001b[0m \u001b[1m49s\u001b[0m 4ms/step - accuracy: 0.8505 - loss: 0.5538 - val_accuracy: 0.8424 - val_loss: 0.6326\n",
      "Epoch 50/100\n",
      "\u001b[1m13839/13839\u001b[0m \u001b[32m━━━━━━━━━━━━━━━━━━━━\u001b[0m\u001b[37m\u001b[0m \u001b[1m50s\u001b[0m 4ms/step - accuracy: 0.8422 - loss: 0.5525 - val_accuracy: 0.8338 - val_loss: 0.6986\n",
      "Epoch 51/100\n",
      "\u001b[1m13839/13839\u001b[0m \u001b[32m━━━━━━━━━━━━━━━━━━━━\u001b[0m\u001b[37m\u001b[0m \u001b[1m50s\u001b[0m 4ms/step - accuracy: 0.8368 - loss: 0.5767 - val_accuracy: 0.8488 - val_loss: 0.5606\n",
      "Epoch 52/100\n",
      "\u001b[1m13839/13839\u001b[0m \u001b[32m━━━━━━━━━━━━━━━━━━━━\u001b[0m\u001b[37m\u001b[0m \u001b[1m58s\u001b[0m 4ms/step - accuracy: 0.8455 - loss: 0.5568 - val_accuracy: 0.8599 - val_loss: 0.4547\n",
      "Epoch 53/100\n",
      "\u001b[1m13839/13839\u001b[0m \u001b[32m━━━━━━━━━━━━━━━━━━━━\u001b[0m\u001b[37m\u001b[0m \u001b[1m66s\u001b[0m 5ms/step - accuracy: 0.8222 - loss: 0.6012 - val_accuracy: 0.8584 - val_loss: 0.4709\n",
      "Epoch 54/100\n",
      "\u001b[1m13839/13839\u001b[0m \u001b[32m━━━━━━━━━━━━━━━━━━━━\u001b[0m\u001b[37m\u001b[0m \u001b[1m86s\u001b[0m 5ms/step - accuracy: 0.8490 - loss: 0.5659 - val_accuracy: 0.8456 - val_loss: 0.6078\n",
      "Epoch 55/100\n",
      "\u001b[1m13839/13839\u001b[0m \u001b[32m━━━━━━━━━━━━━━━━━━━━\u001b[0m\u001b[37m\u001b[0m \u001b[1m74s\u001b[0m 5ms/step - accuracy: 0.8412 - loss: 0.5838 - val_accuracy: 0.8688 - val_loss: 0.3738\n",
      "Epoch 56/100\n",
      "\u001b[1m13839/13839\u001b[0m \u001b[32m━━━━━━━━━━━━━━━━━━━━\u001b[0m\u001b[37m\u001b[0m \u001b[1m62s\u001b[0m 4ms/step - accuracy: 0.8527 - loss: 0.5415 - val_accuracy: 0.8471 - val_loss: 0.5956\n",
      "Epoch 57/100\n",
      "\u001b[1m13839/13839\u001b[0m \u001b[32m━━━━━━━━━━━━━━━━━━━━\u001b[0m\u001b[37m\u001b[0m \u001b[1m57s\u001b[0m 4ms/step - accuracy: 0.8463 - loss: 0.5595 - val_accuracy: 0.8411 - val_loss: 0.6448\n",
      "Epoch 58/100\n",
      "\u001b[1m13839/13839\u001b[0m \u001b[32m━━━━━━━━━━━━━━━━━━━━\u001b[0m\u001b[37m\u001b[0m \u001b[1m62s\u001b[0m 4ms/step - accuracy: 0.8466 - loss: 0.5586 - val_accuracy: 0.8414 - val_loss: 0.6395\n",
      "Epoch 59/100\n",
      "\u001b[1m13839/13839\u001b[0m \u001b[32m━━━━━━━━━━━━━━━━━━━━\u001b[0m\u001b[37m\u001b[0m \u001b[1m55s\u001b[0m 4ms/step - accuracy: 0.8359 - loss: 0.5727 - val_accuracy: 0.8606 - val_loss: 0.4748\n",
      "Epoch 60/100\n",
      "\u001b[1m13839/13839\u001b[0m \u001b[32m━━━━━━━━━━━━━━━━━━━━\u001b[0m\u001b[37m\u001b[0m \u001b[1m96s\u001b[0m 5ms/step - accuracy: 0.8477 - loss: 0.5990 - val_accuracy: 0.8408 - val_loss: 0.6049\n",
      "Epoch 61/100\n",
      "\u001b[1m13839/13839\u001b[0m \u001b[32m━━━━━━━━━━━━━━━━━━━━\u001b[0m\u001b[37m\u001b[0m \u001b[1m101s\u001b[0m 6ms/step - accuracy: 0.8299 - loss: 0.5940 - val_accuracy: 0.8334 - val_loss: 0.6557\n",
      "Epoch 62/100\n",
      "\u001b[1m13839/13839\u001b[0m \u001b[32m━━━━━━━━━━━━━━━━━━━━\u001b[0m\u001b[37m\u001b[0m \u001b[1m150s\u001b[0m 7ms/step - accuracy: 0.8329 - loss: 0.5923 - val_accuracy: 0.8509 - val_loss: 0.5243\n",
      "Epoch 63/100\n",
      "\u001b[1m13839/13839\u001b[0m \u001b[32m━━━━━━━━━━━━━━━━━━━━\u001b[0m\u001b[37m\u001b[0m \u001b[1m129s\u001b[0m 6ms/step - accuracy: 0.8289 - loss: 0.5964 - val_accuracy: 0.8744 - val_loss: 0.3604\n",
      "Epoch 64/100\n",
      "\u001b[1m13839/13839\u001b[0m \u001b[32m━━━━━━━━━━━━━━━━━━━━\u001b[0m\u001b[37m\u001b[0m \u001b[1m113s\u001b[0m 4ms/step - accuracy: 0.8441 - loss: 0.6001 - val_accuracy: 0.8385 - val_loss: 0.6423\n",
      "Epoch 65/100\n",
      "\u001b[1m13839/13839\u001b[0m \u001b[32m━━━━━━━━━━━━━━━━━━━━\u001b[0m\u001b[37m\u001b[0m \u001b[1m66s\u001b[0m 5ms/step - accuracy: 0.8318 - loss: 0.5766 - val_accuracy: 0.8447 - val_loss: 0.5978\n",
      "Epoch 66/100\n",
      "\u001b[1m13839/13839\u001b[0m \u001b[32m━━━━━━━━━━━━━━━━━━━━\u001b[0m\u001b[37m\u001b[0m \u001b[1m61s\u001b[0m 4ms/step - accuracy: 0.8469 - loss: 0.5653 - val_accuracy: 0.8485 - val_loss: 0.5710\n",
      "Epoch 67/100\n",
      "\u001b[1m13839/13839\u001b[0m \u001b[32m━━━━━━━━━━━━━━━━━━━━\u001b[0m\u001b[37m\u001b[0m \u001b[1m70s\u001b[0m 5ms/step - accuracy: 0.8527 - loss: 0.5303 - val_accuracy: 0.8368 - val_loss: 0.6186\n",
      "Epoch 68/100\n",
      "\u001b[1m13839/13839\u001b[0m \u001b[32m━━━━━━━━━━━━━━━━━━━━\u001b[0m\u001b[37m\u001b[0m \u001b[1m79s\u001b[0m 5ms/step - accuracy: 0.8350 - loss: 0.5932 - val_accuracy: 0.9251 - val_loss: 0.3994\n",
      "Epoch 69/100\n",
      "\u001b[1m13839/13839\u001b[0m \u001b[32m━━━━━━━━━━━━━━━━━━━━\u001b[0m\u001b[37m\u001b[0m \u001b[1m78s\u001b[0m 6ms/step - accuracy: 0.8240 - loss: 0.6366 - val_accuracy: 0.8370 - val_loss: 0.6275\n",
      "Epoch 70/100\n",
      "\u001b[1m13839/13839\u001b[0m \u001b[32m━━━━━━━━━━━━━━━━━━━━\u001b[0m\u001b[37m\u001b[0m \u001b[1m72s\u001b[0m 5ms/step - accuracy: 0.8248 - loss: 0.5798 - val_accuracy: 0.8818 - val_loss: 0.5313\n",
      "Epoch 71/100\n",
      "\u001b[1m13839/13839\u001b[0m \u001b[32m━━━━━━━━━━━━━━━━━━━━\u001b[0m\u001b[37m\u001b[0m \u001b[1m83s\u001b[0m 5ms/step - accuracy: 0.8522 - loss: 0.5801 - val_accuracy: 0.8437 - val_loss: 0.5677\n",
      "Epoch 72/100\n",
      "\u001b[1m13839/13839\u001b[0m \u001b[32m━━━━━━━━━━━━━━━━━━━━\u001b[0m\u001b[37m\u001b[0m \u001b[1m53s\u001b[0m 4ms/step - accuracy: 0.8403 - loss: 0.5627 - val_accuracy: 0.8465 - val_loss: 0.5136\n",
      "Epoch 73/100\n",
      "\u001b[1m13839/13839\u001b[0m \u001b[32m━━━━━━━━━━━━━━━━━━━━\u001b[0m\u001b[37m\u001b[0m \u001b[1m80s\u001b[0m 4ms/step - accuracy: 0.8238 - loss: 0.5904 - val_accuracy: 0.8445 - val_loss: 0.5594\n",
      "Epoch 74/100\n",
      "\u001b[1m13839/13839\u001b[0m \u001b[32m━━━━━━━━━━━━━━━━━━━━\u001b[0m\u001b[37m\u001b[0m \u001b[1m55s\u001b[0m 4ms/step - accuracy: 0.8280 - loss: 0.5968 - val_accuracy: 0.8352 - val_loss: 0.6742\n",
      "Epoch 75/100\n",
      "\u001b[1m13839/13839\u001b[0m \u001b[32m━━━━━━━━━━━━━━━━━━━━\u001b[0m\u001b[37m\u001b[0m \u001b[1m75s\u001b[0m 5ms/step - accuracy: 0.8299 - loss: 0.5569 - val_accuracy: 0.8396 - val_loss: 0.6047\n",
      "Epoch 76/100\n",
      "\u001b[1m13839/13839\u001b[0m \u001b[32m━━━━━━━━━━━━━━━━━━━━\u001b[0m\u001b[37m\u001b[0m \u001b[1m66s\u001b[0m 5ms/step - accuracy: 0.8274 - loss: 0.5743 - val_accuracy: 0.8431 - val_loss: 0.5984\n",
      "Epoch 77/100\n",
      "\u001b[1m13839/13839\u001b[0m \u001b[32m━━━━━━━━━━━━━━━━━━━━\u001b[0m\u001b[37m\u001b[0m \u001b[1m65s\u001b[0m 5ms/step - accuracy: 0.8699 - loss: 0.5457 - val_accuracy: 0.8355 - val_loss: 0.6592\n",
      "Epoch 78/100\n",
      "\u001b[1m13839/13839\u001b[0m \u001b[32m━━━━━━━━━━━━━━━━━━━━\u001b[0m\u001b[37m\u001b[0m \u001b[1m52s\u001b[0m 4ms/step - accuracy: 0.8356 - loss: 0.5879 - val_accuracy: 0.8531 - val_loss: 0.4639\n",
      "Epoch 79/100\n",
      "\u001b[1m13839/13839\u001b[0m \u001b[32m━━━━━━━━━━━━━━━━━━━━\u001b[0m\u001b[37m\u001b[0m \u001b[1m46s\u001b[0m 3ms/step - accuracy: 0.8273 - loss: 0.6157 - val_accuracy: 0.8472 - val_loss: 0.5437\n",
      "Epoch 80/100\n",
      "\u001b[1m13839/13839\u001b[0m \u001b[32m━━━━━━━━━━━━━━━━━━━━\u001b[0m\u001b[37m\u001b[0m \u001b[1m50s\u001b[0m 4ms/step - accuracy: 0.8213 - loss: 0.5933 - val_accuracy: 0.8414 - val_loss: 0.5830\n",
      "Epoch 81/100\n",
      "\u001b[1m13839/13839\u001b[0m \u001b[32m━━━━━━━━━━━━━━━━━━━━\u001b[0m\u001b[37m\u001b[0m \u001b[1m51s\u001b[0m 4ms/step - accuracy: 0.8292 - loss: 0.5683 - val_accuracy: 0.8396 - val_loss: 0.6261\n",
      "Epoch 82/100\n",
      "\u001b[1m13839/13839\u001b[0m \u001b[32m━━━━━━━━━━━━━━━━━━━━\u001b[0m\u001b[37m\u001b[0m \u001b[1m57s\u001b[0m 4ms/step - accuracy: 0.8189 - loss: 0.5795 - val_accuracy: 0.8286 - val_loss: 0.7252\n",
      "Epoch 83/100\n",
      "\u001b[1m13839/13839\u001b[0m \u001b[32m━━━━━━━━━━━━━━━━━━━━\u001b[0m\u001b[37m\u001b[0m \u001b[1m56s\u001b[0m 4ms/step - accuracy: 0.8216 - loss: 0.5653 - val_accuracy: 0.8454 - val_loss: 0.5616\n",
      "Epoch 84/100\n",
      "\u001b[1m13839/13839\u001b[0m \u001b[32m━━━━━━━━━━━━━━━━━━━━\u001b[0m\u001b[37m\u001b[0m \u001b[1m50s\u001b[0m 4ms/step - accuracy: 0.8034 - loss: 0.6202 - val_accuracy: 0.8560 - val_loss: 0.4241\n",
      "Epoch 85/100\n",
      "\u001b[1m13839/13839\u001b[0m \u001b[32m━━━━━━━━━━━━━━━━━━━━\u001b[0m\u001b[37m\u001b[0m \u001b[1m60s\u001b[0m 4ms/step - accuracy: 0.8429 - loss: 0.5679 - val_accuracy: 0.8458 - val_loss: 0.5662\n",
      "Epoch 86/100\n",
      "\u001b[1m13839/13839\u001b[0m \u001b[32m━━━━━━━━━━━━━━━━━━━━\u001b[0m\u001b[37m\u001b[0m \u001b[1m51s\u001b[0m 4ms/step - accuracy: 0.8310 - loss: 0.5726 - val_accuracy: 0.8419 - val_loss: 0.6692\n",
      "Epoch 87/100\n",
      "\u001b[1m13839/13839\u001b[0m \u001b[32m━━━━━━━━━━━━━━━━━━━━\u001b[0m\u001b[37m\u001b[0m \u001b[1m44s\u001b[0m 3ms/step - accuracy: 0.8033 - loss: 0.6137 - val_accuracy: 0.8467 - val_loss: 0.5314\n",
      "Epoch 88/100\n",
      "\u001b[1m13839/13839\u001b[0m \u001b[32m━━━━━━━━━━━━━━━━━━━━\u001b[0m\u001b[37m\u001b[0m \u001b[1m50s\u001b[0m 4ms/step - accuracy: 0.8142 - loss: 0.5868 - val_accuracy: 0.8432 - val_loss: 0.6240\n",
      "Epoch 89/100\n",
      "\u001b[1m13839/13839\u001b[0m \u001b[32m━━━━━━━━━━━━━━━━━━━━\u001b[0m\u001b[37m\u001b[0m \u001b[1m81s\u001b[0m 4ms/step - accuracy: 0.7838 - loss: 0.6202 - val_accuracy: 0.8720 - val_loss: 0.4989\n",
      "Epoch 90/100\n",
      "\u001b[1m13839/13839\u001b[0m \u001b[32m━━━━━━━━━━━━━━━━━━━━\u001b[0m\u001b[37m\u001b[0m \u001b[1m84s\u001b[0m 4ms/step - accuracy: 0.8430 - loss: 0.5606 - val_accuracy: 0.8485 - val_loss: 0.5625\n",
      "Epoch 91/100\n",
      "\u001b[1m13839/13839\u001b[0m \u001b[32m━━━━━━━━━━━━━━━━━━━━\u001b[0m\u001b[37m\u001b[0m \u001b[1m54s\u001b[0m 4ms/step - accuracy: 0.8010 - loss: 0.6067 - val_accuracy: 0.8450 - val_loss: 0.5087\n",
      "Epoch 92/100\n",
      "\u001b[1m13839/13839\u001b[0m \u001b[32m━━━━━━━━━━━━━━━━━━━━\u001b[0m\u001b[37m\u001b[0m \u001b[1m78s\u001b[0m 4ms/step - accuracy: 0.7854 - loss: 0.6193 - val_accuracy: 0.8545 - val_loss: 0.3960\n",
      "Epoch 93/100\n",
      "\u001b[1m13839/13839\u001b[0m \u001b[32m━━━━━━━━━━━━━━━━━━━━\u001b[0m\u001b[37m\u001b[0m \u001b[1m84s\u001b[0m 4ms/step - accuracy: 0.8227 - loss: 0.6001 - val_accuracy: 0.8447 - val_loss: 0.4891\n",
      "Epoch 94/100\n",
      "\u001b[1m13839/13839\u001b[0m \u001b[32m━━━━━━━━━━━━━━━━━━━━\u001b[0m\u001b[37m\u001b[0m \u001b[1m83s\u001b[0m 4ms/step - accuracy: 0.7611 - loss: 0.6314 - val_accuracy: 0.8419 - val_loss: 0.5514\n",
      "Epoch 95/100\n",
      "\u001b[1m13839/13839\u001b[0m \u001b[32m━━━━━━━━━━━━━━━━━━━━\u001b[0m\u001b[37m\u001b[0m \u001b[1m82s\u001b[0m 4ms/step - accuracy: 0.8078 - loss: 0.5623 - val_accuracy: 0.8363 - val_loss: 0.6220\n",
      "Epoch 96/100\n",
      "\u001b[1m13839/13839\u001b[0m \u001b[32m━━━━━━━━━━━━━━━━━━━━\u001b[0m\u001b[37m\u001b[0m \u001b[1m64s\u001b[0m 5ms/step - accuracy: 0.7841 - loss: 0.6007 - val_accuracy: 0.8356 - val_loss: 0.5942\n",
      "Epoch 97/100\n",
      "\u001b[1m13839/13839\u001b[0m \u001b[32m━━━━━━━━━━━━━━━━━━━━\u001b[0m\u001b[37m\u001b[0m \u001b[1m68s\u001b[0m 5ms/step - accuracy: 0.7578 - loss: 0.6010 - val_accuracy: 0.9232 - val_loss: 0.3959\n",
      "Epoch 98/100\n",
      "\u001b[1m13839/13839\u001b[0m \u001b[32m━━━━━━━━━━━━━━━━━━━━\u001b[0m\u001b[37m\u001b[0m \u001b[1m62s\u001b[0m 4ms/step - accuracy: 0.8108 - loss: 0.6079 - val_accuracy: 0.8464 - val_loss: 0.5808\n",
      "Epoch 99/100\n",
      "\u001b[1m13839/13839\u001b[0m \u001b[32m━━━━━━━━━━━━━━━━━━━━\u001b[0m\u001b[37m\u001b[0m \u001b[1m69s\u001b[0m 5ms/step - accuracy: 0.7932 - loss: 0.6203 - val_accuracy: 0.8244 - val_loss: 0.7378\n",
      "Epoch 100/100\n",
      "\u001b[1m13839/13839\u001b[0m \u001b[32m━━━━━━━━━━━━━━━━━━━━\u001b[0m\u001b[37m\u001b[0m \u001b[1m64s\u001b[0m 5ms/step - accuracy: 0.7928 - loss: 0.5829 - val_accuracy: 0.8788 - val_loss: 0.3557\n"
     ]
    },
    {
     "data": {
      "text/plain": [
       "<keras.src.callbacks.history.History at 0x2cf09649d60>"
      ]
     },
     "execution_count": 43,
     "metadata": {},
     "output_type": "execute_result"
    }
   ],
   "source": [
    "# Train the model\n",
    "model.fit(\n",
    "    X_train, y_train,\n",
    "    validation_data=(X_val, y_val),\n",
    "    epochs=100,\n",
    "    batch_size=32,\n",
    "    #callbacks=[early_stopping],\n",
    "    class_weight=class_weight_dict\n",
    ")\n"
   ]
  },
  {
   "cell_type": "code",
   "execution_count": 44,
   "metadata": {},
   "outputs": [
    {
     "name": "stdout",
     "output_type": "stream",
     "text": [
      "\u001b[1m5110/5110\u001b[0m \u001b[32m━━━━━━━━━━━━━━━━━━━━\u001b[0m\u001b[37m\u001b[0m \u001b[1m12s\u001b[0m 2ms/step\n"
     ]
    }
   ],
   "source": [
    "# Make predictions on the test set\n",
    "test_predictions = model.predict(X_test)"
   ]
  },
  {
   "cell_type": "code",
   "execution_count": 45,
   "metadata": {},
   "outputs": [
    {
     "data": {
      "text/plain": [
       "(163520, 1)"
      ]
     },
     "execution_count": 45,
     "metadata": {},
     "output_type": "execute_result"
    }
   ],
   "source": [
    "test_predictions.shape"
   ]
  },
  {
   "cell_type": "code",
   "execution_count": 47,
   "metadata": {},
   "outputs": [],
   "source": [
    "submission_df = pd.DataFrame({'event_id': test_df['event_id'], 'label': test_predictions.flatten()})\n"
   ]
  },
  {
   "cell_type": "code",
   "execution_count": 48,
   "metadata": {},
   "outputs": [],
   "source": [
    "submission_df.to_csv('predictions_four.csv', index=False)\n"
   ]
  },
  {
   "cell_type": "code",
   "execution_count": 21,
   "metadata": {},
   "outputs": [
    {
     "data": {
      "text/plain": [
       "(163520,)"
      ]
     },
     "execution_count": 21,
     "metadata": {},
     "output_type": "execute_result"
    }
   ],
   "source": [
    "X_test.shape"
   ]
  },
  {
   "cell_type": "code",
   "execution_count": 20,
   "metadata": {},
   "outputs": [
    {
     "data": {
      "text/plain": [
       "(163520, 2)"
      ]
     },
     "execution_count": 20,
     "metadata": {},
     "output_type": "execute_result"
    }
   ],
   "source": [
    "sample_submission = pd.read_csv('Test.csv')\n",
    "sample_submission.shape"
   ]
  },
  {
   "cell_type": "code",
   "execution_count": 17,
   "metadata": {},
   "outputs": [
    {
     "ename": "ValueError",
     "evalue": "Length of values (224) does not match length of index (163520)",
     "output_type": "error",
     "traceback": [
      "\u001b[1;31m---------------------------------------------------------------------------\u001b[0m",
      "\u001b[1;31mValueError\u001b[0m                                Traceback (most recent call last)",
      "Cell \u001b[1;32mIn[17], line 1\u001b[0m\n\u001b[1;32m----> 1\u001b[0m sample_submission[\u001b[38;5;124m'\u001b[39m\u001b[38;5;124mlabel\u001b[39m\u001b[38;5;124m'\u001b[39m] \u001b[38;5;241m=\u001b[39m test_predictions\u001b[38;5;241m.\u001b[39mflatten()\n\u001b[0;32m      2\u001b[0m sample_submission\u001b[38;5;241m.\u001b[39mhead()\n",
      "File \u001b[1;32mc:\\Users\\Reinhard\\anaconda3\\envs\\Datascience\\Lib\\site-packages\\pandas\\core\\frame.py:4311\u001b[0m, in \u001b[0;36mDataFrame.__setitem__\u001b[1;34m(self, key, value)\u001b[0m\n\u001b[0;32m   4308\u001b[0m     \u001b[38;5;28mself\u001b[39m\u001b[38;5;241m.\u001b[39m_setitem_array([key], value)\n\u001b[0;32m   4309\u001b[0m \u001b[38;5;28;01melse\u001b[39;00m:\n\u001b[0;32m   4310\u001b[0m     \u001b[38;5;66;03m# set column\u001b[39;00m\n\u001b[1;32m-> 4311\u001b[0m     \u001b[38;5;28mself\u001b[39m\u001b[38;5;241m.\u001b[39m_set_item(key, value)\n",
      "File \u001b[1;32mc:\\Users\\Reinhard\\anaconda3\\envs\\Datascience\\Lib\\site-packages\\pandas\\core\\frame.py:4524\u001b[0m, in \u001b[0;36mDataFrame._set_item\u001b[1;34m(self, key, value)\u001b[0m\n\u001b[0;32m   4514\u001b[0m \u001b[38;5;28;01mdef\u001b[39;00m \u001b[38;5;21m_set_item\u001b[39m(\u001b[38;5;28mself\u001b[39m, key, value) \u001b[38;5;241m-\u001b[39m\u001b[38;5;241m>\u001b[39m \u001b[38;5;28;01mNone\u001b[39;00m:\n\u001b[0;32m   4515\u001b[0m \u001b[38;5;250m    \u001b[39m\u001b[38;5;124;03m\"\"\"\u001b[39;00m\n\u001b[0;32m   4516\u001b[0m \u001b[38;5;124;03m    Add series to DataFrame in specified column.\u001b[39;00m\n\u001b[0;32m   4517\u001b[0m \n\u001b[1;32m   (...)\u001b[0m\n\u001b[0;32m   4522\u001b[0m \u001b[38;5;124;03m    ensure homogeneity.\u001b[39;00m\n\u001b[0;32m   4523\u001b[0m \u001b[38;5;124;03m    \"\"\"\u001b[39;00m\n\u001b[1;32m-> 4524\u001b[0m     value, refs \u001b[38;5;241m=\u001b[39m \u001b[38;5;28mself\u001b[39m\u001b[38;5;241m.\u001b[39m_sanitize_column(value)\n\u001b[0;32m   4526\u001b[0m     \u001b[38;5;28;01mif\u001b[39;00m (\n\u001b[0;32m   4527\u001b[0m         key \u001b[38;5;129;01min\u001b[39;00m \u001b[38;5;28mself\u001b[39m\u001b[38;5;241m.\u001b[39mcolumns\n\u001b[0;32m   4528\u001b[0m         \u001b[38;5;129;01mand\u001b[39;00m value\u001b[38;5;241m.\u001b[39mndim \u001b[38;5;241m==\u001b[39m \u001b[38;5;241m1\u001b[39m\n\u001b[0;32m   4529\u001b[0m         \u001b[38;5;129;01mand\u001b[39;00m \u001b[38;5;129;01mnot\u001b[39;00m \u001b[38;5;28misinstance\u001b[39m(value\u001b[38;5;241m.\u001b[39mdtype, ExtensionDtype)\n\u001b[0;32m   4530\u001b[0m     ):\n\u001b[0;32m   4531\u001b[0m         \u001b[38;5;66;03m# broadcast across multiple columns if necessary\u001b[39;00m\n\u001b[0;32m   4532\u001b[0m         \u001b[38;5;28;01mif\u001b[39;00m \u001b[38;5;129;01mnot\u001b[39;00m \u001b[38;5;28mself\u001b[39m\u001b[38;5;241m.\u001b[39mcolumns\u001b[38;5;241m.\u001b[39mis_unique \u001b[38;5;129;01mor\u001b[39;00m \u001b[38;5;28misinstance\u001b[39m(\u001b[38;5;28mself\u001b[39m\u001b[38;5;241m.\u001b[39mcolumns, MultiIndex):\n",
      "File \u001b[1;32mc:\\Users\\Reinhard\\anaconda3\\envs\\Datascience\\Lib\\site-packages\\pandas\\core\\frame.py:5266\u001b[0m, in \u001b[0;36mDataFrame._sanitize_column\u001b[1;34m(self, value)\u001b[0m\n\u001b[0;32m   5263\u001b[0m     \u001b[38;5;28;01mreturn\u001b[39;00m _reindex_for_setitem(value, \u001b[38;5;28mself\u001b[39m\u001b[38;5;241m.\u001b[39mindex)\n\u001b[0;32m   5265\u001b[0m \u001b[38;5;28;01mif\u001b[39;00m is_list_like(value):\n\u001b[1;32m-> 5266\u001b[0m     com\u001b[38;5;241m.\u001b[39mrequire_length_match(value, \u001b[38;5;28mself\u001b[39m\u001b[38;5;241m.\u001b[39mindex)\n\u001b[0;32m   5267\u001b[0m arr \u001b[38;5;241m=\u001b[39m sanitize_array(value, \u001b[38;5;28mself\u001b[39m\u001b[38;5;241m.\u001b[39mindex, copy\u001b[38;5;241m=\u001b[39m\u001b[38;5;28;01mTrue\u001b[39;00m, allow_2d\u001b[38;5;241m=\u001b[39m\u001b[38;5;28;01mTrue\u001b[39;00m)\n\u001b[0;32m   5268\u001b[0m \u001b[38;5;28;01mif\u001b[39;00m (\n\u001b[0;32m   5269\u001b[0m     \u001b[38;5;28misinstance\u001b[39m(value, Index)\n\u001b[0;32m   5270\u001b[0m     \u001b[38;5;129;01mand\u001b[39;00m value\u001b[38;5;241m.\u001b[39mdtype \u001b[38;5;241m==\u001b[39m \u001b[38;5;124m\"\u001b[39m\u001b[38;5;124mobject\u001b[39m\u001b[38;5;124m\"\u001b[39m\n\u001b[1;32m   (...)\u001b[0m\n\u001b[0;32m   5273\u001b[0m     \u001b[38;5;66;03m# TODO: Remove kludge in sanitize_array for string mode when enforcing\u001b[39;00m\n\u001b[0;32m   5274\u001b[0m     \u001b[38;5;66;03m# this deprecation\u001b[39;00m\n",
      "File \u001b[1;32mc:\\Users\\Reinhard\\anaconda3\\envs\\Datascience\\Lib\\site-packages\\pandas\\core\\common.py:573\u001b[0m, in \u001b[0;36mrequire_length_match\u001b[1;34m(data, index)\u001b[0m\n\u001b[0;32m    569\u001b[0m \u001b[38;5;250m\u001b[39m\u001b[38;5;124;03m\"\"\"\u001b[39;00m\n\u001b[0;32m    570\u001b[0m \u001b[38;5;124;03mCheck the length of data matches the length of the index.\u001b[39;00m\n\u001b[0;32m    571\u001b[0m \u001b[38;5;124;03m\"\"\"\u001b[39;00m\n\u001b[0;32m    572\u001b[0m \u001b[38;5;28;01mif\u001b[39;00m \u001b[38;5;28mlen\u001b[39m(data) \u001b[38;5;241m!=\u001b[39m \u001b[38;5;28mlen\u001b[39m(index):\n\u001b[1;32m--> 573\u001b[0m     \u001b[38;5;28;01mraise\u001b[39;00m \u001b[38;5;167;01mValueError\u001b[39;00m(\n\u001b[0;32m    574\u001b[0m         \u001b[38;5;124m\"\u001b[39m\u001b[38;5;124mLength of values \u001b[39m\u001b[38;5;124m\"\u001b[39m\n\u001b[0;32m    575\u001b[0m         \u001b[38;5;124mf\u001b[39m\u001b[38;5;124m\"\u001b[39m\u001b[38;5;124m(\u001b[39m\u001b[38;5;132;01m{\u001b[39;00m\u001b[38;5;28mlen\u001b[39m(data)\u001b[38;5;132;01m}\u001b[39;00m\u001b[38;5;124m) \u001b[39m\u001b[38;5;124m\"\u001b[39m\n\u001b[0;32m    576\u001b[0m         \u001b[38;5;124m\"\u001b[39m\u001b[38;5;124mdoes not match length of index \u001b[39m\u001b[38;5;124m\"\u001b[39m\n\u001b[0;32m    577\u001b[0m         \u001b[38;5;124mf\u001b[39m\u001b[38;5;124m\"\u001b[39m\u001b[38;5;124m(\u001b[39m\u001b[38;5;132;01m{\u001b[39;00m\u001b[38;5;28mlen\u001b[39m(index)\u001b[38;5;132;01m}\u001b[39;00m\u001b[38;5;124m)\u001b[39m\u001b[38;5;124m\"\u001b[39m\n\u001b[0;32m    578\u001b[0m     )\n",
      "\u001b[1;31mValueError\u001b[0m: Length of values (224) does not match length of index (163520)"
     ]
    }
   ],
   "source": [
    "sample_submission['label'] = test_predictions.flatten()\n",
    "sample_submission.head()"
   ]
  },
  {
   "cell_type": "code",
   "execution_count": 44,
   "metadata": {},
   "outputs": [
    {
     "data": {
      "text/plain": [
       "(163520,)"
      ]
     },
     "execution_count": 44,
     "metadata": {},
     "output_type": "execute_result"
    }
   ],
   "source": [
    "test_df['event_id'].shape"
   ]
  },
  {
   "cell_type": "code",
   "execution_count": 59,
   "metadata": {},
   "outputs": [],
   "source": [
    "# Ensure final_test_predictions has the correct length\n",
    "num_test_events = len(test_df['event_id'].unique())\n",
    "\n",
    "if len(test_predictions) != num_test_events:\n",
    "    print(f\"Warning: Expected {num_test_events} predictions, but got {len(test_predictions)}\")\n",
    "    test_predictions = test_predictions[:num_test_events]  # Trim if necessary\n"
   ]
  },
  {
   "cell_type": "code",
   "execution_count": null,
   "metadata": {},
   "outputs": [],
   "source": [
    "sample_submission = pd.read_csv('SampleSubmission (2).csv')\n",
    "sample_submission.head()"
   ]
  },
  {
   "cell_type": "code",
   "execution_count": 62,
   "metadata": {},
   "outputs": [
    {
     "ename": "ValueError",
     "evalue": "All arrays must be of the same length",
     "output_type": "error",
     "traceback": [
      "\u001b[1;31m---------------------------------------------------------------------------\u001b[0m",
      "\u001b[1;31mValueError\u001b[0m                                Traceback (most recent call last)",
      "Cell \u001b[1;32mIn[62], line 2\u001b[0m\n\u001b[0;32m      1\u001b[0m \u001b[38;5;66;03m# Save predictions\u001b[39;00m\n\u001b[1;32m----> 2\u001b[0m submission_df \u001b[38;5;241m=\u001b[39m pd\u001b[38;5;241m.\u001b[39mDataFrame({\u001b[38;5;124m'\u001b[39m\u001b[38;5;124mevent_id\u001b[39m\u001b[38;5;124m'\u001b[39m: sample_submission[\u001b[38;5;124m'\u001b[39m\u001b[38;5;124mevent_id\u001b[39m\u001b[38;5;124m'\u001b[39m]\u001b[38;5;241m.\u001b[39munique(), \u001b[38;5;124m'\u001b[39m\u001b[38;5;124mprediction\u001b[39m\u001b[38;5;124m'\u001b[39m: test_predictions\u001b[38;5;241m.\u001b[39mflatten()})\n\u001b[0;32m      3\u001b[0m submission_df\u001b[38;5;241m.\u001b[39mto_csv(\u001b[38;5;124m'\u001b[39m\u001b[38;5;124mpredictions.csv\u001b[39m\u001b[38;5;124m'\u001b[39m, index\u001b[38;5;241m=\u001b[39m\u001b[38;5;28;01mFalse\u001b[39;00m)\n\u001b[0;32m      5\u001b[0m \u001b[38;5;28mprint\u001b[39m(\u001b[38;5;124m\"\u001b[39m\u001b[38;5;124mPredictions saved to predictions.csv\u001b[39m\u001b[38;5;124m\"\u001b[39m)\n",
      "File \u001b[1;32mc:\\Users\\Reinhard\\anaconda3\\envs\\Datascience\\Lib\\site-packages\\pandas\\core\\frame.py:778\u001b[0m, in \u001b[0;36mDataFrame.__init__\u001b[1;34m(self, data, index, columns, dtype, copy)\u001b[0m\n\u001b[0;32m    772\u001b[0m     mgr \u001b[38;5;241m=\u001b[39m \u001b[38;5;28mself\u001b[39m\u001b[38;5;241m.\u001b[39m_init_mgr(\n\u001b[0;32m    773\u001b[0m         data, axes\u001b[38;5;241m=\u001b[39m{\u001b[38;5;124m\"\u001b[39m\u001b[38;5;124mindex\u001b[39m\u001b[38;5;124m\"\u001b[39m: index, \u001b[38;5;124m\"\u001b[39m\u001b[38;5;124mcolumns\u001b[39m\u001b[38;5;124m\"\u001b[39m: columns}, dtype\u001b[38;5;241m=\u001b[39mdtype, copy\u001b[38;5;241m=\u001b[39mcopy\n\u001b[0;32m    774\u001b[0m     )\n\u001b[0;32m    776\u001b[0m \u001b[38;5;28;01melif\u001b[39;00m \u001b[38;5;28misinstance\u001b[39m(data, \u001b[38;5;28mdict\u001b[39m):\n\u001b[0;32m    777\u001b[0m     \u001b[38;5;66;03m# GH#38939 de facto copy defaults to False only in non-dict cases\u001b[39;00m\n\u001b[1;32m--> 778\u001b[0m     mgr \u001b[38;5;241m=\u001b[39m dict_to_mgr(data, index, columns, dtype\u001b[38;5;241m=\u001b[39mdtype, copy\u001b[38;5;241m=\u001b[39mcopy, typ\u001b[38;5;241m=\u001b[39mmanager)\n\u001b[0;32m    779\u001b[0m \u001b[38;5;28;01melif\u001b[39;00m \u001b[38;5;28misinstance\u001b[39m(data, ma\u001b[38;5;241m.\u001b[39mMaskedArray):\n\u001b[0;32m    780\u001b[0m     \u001b[38;5;28;01mfrom\u001b[39;00m \u001b[38;5;21;01mnumpy\u001b[39;00m\u001b[38;5;21;01m.\u001b[39;00m\u001b[38;5;21;01mma\u001b[39;00m \u001b[38;5;28;01mimport\u001b[39;00m mrecords\n",
      "File \u001b[1;32mc:\\Users\\Reinhard\\anaconda3\\envs\\Datascience\\Lib\\site-packages\\pandas\\core\\internals\\construction.py:503\u001b[0m, in \u001b[0;36mdict_to_mgr\u001b[1;34m(data, index, columns, dtype, typ, copy)\u001b[0m\n\u001b[0;32m    499\u001b[0m     \u001b[38;5;28;01melse\u001b[39;00m:\n\u001b[0;32m    500\u001b[0m         \u001b[38;5;66;03m# dtype check to exclude e.g. range objects, scalars\u001b[39;00m\n\u001b[0;32m    501\u001b[0m         arrays \u001b[38;5;241m=\u001b[39m [x\u001b[38;5;241m.\u001b[39mcopy() \u001b[38;5;28;01mif\u001b[39;00m \u001b[38;5;28mhasattr\u001b[39m(x, \u001b[38;5;124m\"\u001b[39m\u001b[38;5;124mdtype\u001b[39m\u001b[38;5;124m\"\u001b[39m) \u001b[38;5;28;01melse\u001b[39;00m x \u001b[38;5;28;01mfor\u001b[39;00m x \u001b[38;5;129;01min\u001b[39;00m arrays]\n\u001b[1;32m--> 503\u001b[0m \u001b[38;5;28;01mreturn\u001b[39;00m arrays_to_mgr(arrays, columns, index, dtype\u001b[38;5;241m=\u001b[39mdtype, typ\u001b[38;5;241m=\u001b[39mtyp, consolidate\u001b[38;5;241m=\u001b[39mcopy)\n",
      "File \u001b[1;32mc:\\Users\\Reinhard\\anaconda3\\envs\\Datascience\\Lib\\site-packages\\pandas\\core\\internals\\construction.py:114\u001b[0m, in \u001b[0;36marrays_to_mgr\u001b[1;34m(arrays, columns, index, dtype, verify_integrity, typ, consolidate)\u001b[0m\n\u001b[0;32m    111\u001b[0m \u001b[38;5;28;01mif\u001b[39;00m verify_integrity:\n\u001b[0;32m    112\u001b[0m     \u001b[38;5;66;03m# figure out the index, if necessary\u001b[39;00m\n\u001b[0;32m    113\u001b[0m     \u001b[38;5;28;01mif\u001b[39;00m index \u001b[38;5;129;01mis\u001b[39;00m \u001b[38;5;28;01mNone\u001b[39;00m:\n\u001b[1;32m--> 114\u001b[0m         index \u001b[38;5;241m=\u001b[39m _extract_index(arrays)\n\u001b[0;32m    115\u001b[0m     \u001b[38;5;28;01melse\u001b[39;00m:\n\u001b[0;32m    116\u001b[0m         index \u001b[38;5;241m=\u001b[39m ensure_index(index)\n",
      "File \u001b[1;32mc:\\Users\\Reinhard\\anaconda3\\envs\\Datascience\\Lib\\site-packages\\pandas\\core\\internals\\construction.py:677\u001b[0m, in \u001b[0;36m_extract_index\u001b[1;34m(data)\u001b[0m\n\u001b[0;32m    675\u001b[0m lengths \u001b[38;5;241m=\u001b[39m \u001b[38;5;28mlist\u001b[39m(\u001b[38;5;28mset\u001b[39m(raw_lengths))\n\u001b[0;32m    676\u001b[0m \u001b[38;5;28;01mif\u001b[39;00m \u001b[38;5;28mlen\u001b[39m(lengths) \u001b[38;5;241m>\u001b[39m \u001b[38;5;241m1\u001b[39m:\n\u001b[1;32m--> 677\u001b[0m     \u001b[38;5;28;01mraise\u001b[39;00m \u001b[38;5;167;01mValueError\u001b[39;00m(\u001b[38;5;124m\"\u001b[39m\u001b[38;5;124mAll arrays must be of the same length\u001b[39m\u001b[38;5;124m\"\u001b[39m)\n\u001b[0;32m    679\u001b[0m \u001b[38;5;28;01mif\u001b[39;00m have_dicts:\n\u001b[0;32m    680\u001b[0m     \u001b[38;5;28;01mraise\u001b[39;00m \u001b[38;5;167;01mValueError\u001b[39;00m(\n\u001b[0;32m    681\u001b[0m         \u001b[38;5;124m\"\u001b[39m\u001b[38;5;124mMixing dicts with non-Series may lead to ambiguous ordering.\u001b[39m\u001b[38;5;124m\"\u001b[39m\n\u001b[0;32m    682\u001b[0m     )\n",
      "\u001b[1;31mValueError\u001b[0m: All arrays must be of the same length"
     ]
    }
   ],
   "source": [
    "# Save predictions\n",
    "submission_df = pd.DataFrame({'event_id': sample_submission['event_id'].unique(), 'prediction': test_predictions.flatten()})\n",
    "submission_df.to_csv('predictions.csv', index=False)\n",
    "\n",
    "print(\"Predictions saved to predictions.csv\")\n"
   ]
  },
  {
   "cell_type": "code",
   "execution_count": 18,
   "metadata": {},
   "outputs": [],
   "source": []
  },
  {
   "cell_type": "code",
   "execution_count": 19,
   "metadata": {},
   "outputs": [],
   "source": []
  },
  {
   "cell_type": "code",
   "execution_count": 20,
   "metadata": {},
   "outputs": [],
   "source": []
  },
  {
   "cell_type": "code",
   "execution_count": 21,
   "metadata": {},
   "outputs": [],
   "source": []
  },
  {
   "cell_type": "code",
   "execution_count": 22,
   "metadata": {},
   "outputs": [],
   "source": []
  },
  {
   "cell_type": "code",
   "execution_count": null,
   "metadata": {},
   "outputs": [],
   "source": []
  },
  {
   "cell_type": "code",
   "execution_count": null,
   "metadata": {},
   "outputs": [],
   "source": []
  },
  {
   "cell_type": "code",
   "execution_count": null,
   "metadata": {},
   "outputs": [],
   "source": []
  },
  {
   "cell_type": "code",
   "execution_count": 41,
   "metadata": {},
   "outputs": [],
   "source": []
  },
  {
   "cell_type": "code",
   "execution_count": 43,
   "metadata": {},
   "outputs": [],
   "source": []
  },
  {
   "cell_type": "code",
   "execution_count": null,
   "metadata": {},
   "outputs": [],
   "source": []
  },
  {
   "cell_type": "code",
   "execution_count": null,
   "metadata": {},
   "outputs": [],
   "source": []
  },
  {
   "cell_type": "code",
   "execution_count": null,
   "metadata": {},
   "outputs": [],
   "source": []
  },
  {
   "cell_type": "code",
   "execution_count": null,
   "metadata": {},
   "outputs": [],
   "source": []
  },
  {
   "cell_type": "code",
   "execution_count": null,
   "metadata": {},
   "outputs": [],
   "source": []
  },
  {
   "cell_type": "code",
   "execution_count": null,
   "metadata": {},
   "outputs": [],
   "source": []
  },
  {
   "cell_type": "code",
   "execution_count": null,
   "metadata": {},
   "outputs": [],
   "source": []
  },
  {
   "cell_type": "code",
   "execution_count": null,
   "metadata": {},
   "outputs": [],
   "source": []
  },
  {
   "cell_type": "code",
   "execution_count": null,
   "metadata": {},
   "outputs": [],
   "source": []
  },
  {
   "cell_type": "code",
   "execution_count": null,
   "metadata": {},
   "outputs": [],
   "source": []
  },
  {
   "cell_type": "code",
   "execution_count": null,
   "metadata": {},
   "outputs": [],
   "source": []
  },
  {
   "cell_type": "code",
   "execution_count": null,
   "metadata": {},
   "outputs": [],
   "source": []
  }
 ],
 "metadata": {
  "kernelspec": {
   "display_name": "Datascience",
   "language": "python",
   "name": "python3"
  },
  "language_info": {
   "codemirror_mode": {
    "name": "ipython",
    "version": 3
   },
   "file_extension": ".py",
   "mimetype": "text/x-python",
   "name": "python",
   "nbconvert_exporter": "python",
   "pygments_lexer": "ipython3",
   "version": "3.12.4"
  }
 },
 "nbformat": 4,
 "nbformat_minor": 2
}
