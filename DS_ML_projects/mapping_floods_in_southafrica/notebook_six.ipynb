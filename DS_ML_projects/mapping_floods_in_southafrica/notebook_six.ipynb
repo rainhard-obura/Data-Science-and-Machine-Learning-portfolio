{
 "cells": [
  {
   "cell_type": "code",
   "execution_count": 1,
   "metadata": {},
   "outputs": [],
   "source": [
    "import numpy as np\n",
    "import pandas as pd\n",
    "import matplotlib.pyplot as plt\n",
    "import tensorflow as tf\n",
    "from tensorflow.keras import layers, Model #type: ignore\n",
    "from tensorflow.keras.layers import Conv2D, MaxPooling2D, Flatten, Dropout, Dense, LSTM, Bidirectional, Input, RepeatVector, Concatenate # type: ignore\n",
    "from sklearn.model_selection import train_test_split # type: ignore\n",
    "from tensorflow.keras.preprocessing.image import ImageDataGenerator # type: ignore\n",
    "from sklearn.ensemble import RandomForestClassifier, GradientBoostingClassifier\n",
    "from sklearn.metrics import accuracy_score, classification_report\n",
    "from functools import partial\n",
    "from tqdm import tqdm   # type: ignore\n",
    "import math"
   ]
  },
  {
   "cell_type": "code",
   "execution_count": 2,
   "metadata": {},
   "outputs": [],
   "source": [
    "train_df = pd.read_csv('train.csv')\n",
    "test_df = pd.read_csv('test.csv')"
   ]
  },
  {
   "cell_type": "code",
   "execution_count": 3,
   "metadata": {},
   "outputs": [
    {
     "name": "stdout",
     "output_type": "stream",
     "text": [
      "          event_id  precipitation  label  event_idx  event_t\n",
      "0  id_spictby0jfsb       0.000000      0          0        0\n",
      "1  id_spictby0jfsb       0.095438      0          0        1\n",
      "2  id_spictby0jfsb       1.949560      0          0        2\n",
      "3  id_spictby0jfsb       3.232160      0          0        3\n",
      "4  id_spictby0jfsb       0.000000      0          0        4\n",
      "          event_id  precipitation  event_idx  event_t\n",
      "0  id_j7b6sokflo4k        0.00000          0        0\n",
      "1  id_j7b6sokflo4k        3.01864          0        1\n",
      "2  id_j7b6sokflo4k        0.00000          0        2\n",
      "3  id_j7b6sokflo4k       16.61520          0        3\n",
      "4  id_j7b6sokflo4k        2.56706          0        4\n"
     ]
    }
   ],
   "source": [
    "train_df['event_id'] = train_df['event_id'].apply(lambda x: '_'.join(x.split('_')[0:2]))\n",
    "train_df['event_idx'] = train_df.groupby('event_id', sort=False).ngroup()\n",
    "test_df['event_id'] = test_df['event_id'].apply(lambda x: '_'.join(x.split('_')[0:2]))\n",
    "test_df['event_idx'] = test_df.groupby('event_id', sort=False).ngroup()\n",
    "\n",
    "train_df['event_t'] = train_df.groupby('event_id').cumcount()\n",
    "test_df['event_t'] = test_df.groupby('event_id').cumcount()\n",
    "\n",
    "print(train_df.head())\n",
    "print(test_df.head())"
   ]
  },
  {
   "cell_type": "code",
   "execution_count": 4,
   "metadata": {},
   "outputs": [],
   "source": [
    "BAND_NAMES = ('B2', 'B3','B4', 'B8', 'B11', 'slope')\n",
    "H, W, NUM_CHANNELS = IMG_DIM= (128, 128, len(BAND_NAMES))\n",
    "_MAX_INT = np.iinfo(np.int16).max\n",
    "\n",
    "def decode_slope(X: np.ndarray) -> np.ndarray:\n",
    "    return (X / _MAX_INT * (math.pi / 2.0 )).astype(np.float32)\n",
    "\n",
    "def normalize(x: np.ndarray, mean: int, std: int) -> np.ndarray:\n",
    "    return (x - mean) / std\n",
    "rough_S2_normalize = partial(normalize, mean=1250, std=500)"
   ]
  },
  {
   "cell_type": "code",
   "execution_count": 5,
   "metadata": {},
   "outputs": [],
   "source": [
    "def preprocess_image(x: np.ndarray) -> np.ndarray:\n",
    "    return np.concatenate([\n",
    "        rough_S2_normalize(x[..., :-1].astype(np.float32)),\n",
    "        decode_slope(x[..., -1:]),\n",
    "    ], axis=-1, dtype=np.float32)\n",
    "composite_images = np.load('composite_images.npz')\n",
    "images_path = 'composite_images.npz'"
   ]
  },
  {
   "cell_type": "code",
   "execution_count": 6,
   "metadata": {},
   "outputs": [],
   "source": [
    "def preprocess_data_and_images(data_df, composite_images):\n",
    "    event_ids = data_df['event_id'].unique()\n",
    "\n",
    "    timeseries = []\n",
    "    labels = []\n",
    "    images = []\n",
    "\n",
    "    for event_id in tqdm(event_ids, desc=\"Processing data\"):\n",
    "        event_data = data_df[data_df['event_id'] == event_id]\n",
    "        timeseries.append(event_data['precipitation'].values)  # Shape: (730,)\n",
    "        if 'label' in event_data.columns:\n",
    "            labels.append(event_data['label'].values)  # Shape: (730,)\n",
    "        images.append(preprocess_image(composite_images[event_id]))  # Shape: (128, 128, 6)\n",
    "\n",
    "    timeseries = np.array(timeseries)\n",
    "    labels = np.array(labels) if labels else None\n",
    "    images = np.stack(images, axis=0)\n",
    "\n",
    "    return timeseries, labels, images"
   ]
  },
  {
   "cell_type": "code",
   "execution_count": 7,
   "metadata": {},
   "outputs": [
    {
     "name": "stderr",
     "output_type": "stream",
     "text": [
      "Processing data: 100%|██████████| 674/674 [00:50<00:00, 13.40it/s]\n"
     ]
    }
   ],
   "source": [
    "train_timeseries, train_labels, train_images = preprocess_data_and_images(train_df, composite_images)"
   ]
  },
  {
   "cell_type": "code",
   "execution_count": 8,
   "metadata": {},
   "outputs": [],
   "source": [
    "data_gen = ImageDataGenerator(\n",
    "    rotation_range =15,\n",
    "    width_shift_range = 0.1,\n",
    "    height_shift_range = 0.1,\n",
    "    shear_range = 0.1,\n",
    "    zoom_range = 0.1,\n",
    "    horizontal_flip = True,\n",
    "    fill_mode = 'nearest'\n",
    ")"
   ]
  },
  {
   "cell_type": "code",
   "execution_count": 9,
   "metadata": {},
   "outputs": [],
   "source": [
    "# Split into training and validation sets\n",
    "train_split, val_split = train_test_split(\n",
    "    np.arange(len(train_timeseries)), test_size=0.1, random_state=42\n",
    ")\n",
    "\n",
    "X_precip_train, X_precip_val = train_timeseries[train_split], train_timeseries[val_split]\n",
    "y_train, y_val = train_labels[train_split], train_labels[val_split]\n",
    "X_img_train, X_img_val = train_images[train_split], train_images[val_split]"
   ]
  },
  {
   "cell_type": "code",
   "execution_count": 10,
   "metadata": {},
   "outputs": [],
   "source": [
    "from sklearn.utils.class_weight import compute_class_weight # type: ignore\n",
    "# Compute class weights\n",
    "class_weights = compute_class_weight('balanced', classes=np.unique(y_train.argmax(axis=1)), y=y_train.argmax(axis=1))\n",
    "class_weight_dict = {i: weight for i, weight in enumerate(class_weights)}\n"
   ]
  },
  {
   "cell_type": "code",
   "execution_count": 21,
   "metadata": {},
   "outputs": [],
   "source": [
    "# Image encoder\n",
    "image_input = Input(shape=(128, 128, 6), name='image_input')\n",
    "precip_input = Input(shape=(730,), name='precip_input')"
   ]
  },
  {
   "cell_type": "code",
   "execution_count": 22,
   "metadata": {},
   "outputs": [],
   "source": [
    "# Hyperparameter tuning\n",
    "from keras_tuner import RandomSearch"
   ]
  },
  {
   "cell_type": "code",
   "execution_count": 23,
   "metadata": {},
   "outputs": [],
   "source": [
    "def build_model(hp):\n",
    "    hp_filters = hp.Int(\"filters\", min_value=32, max_value=128, step=16)\n",
    "    hp_lstm_units = hp.Int(\"lstm_units\", min_value=32, max_value=128, step=16)\n",
    "    \n",
    "    # Image encoder with hyperparameters\n",
    "    x = Conv2D(hp_filters, (3, 3), activation='relu', padding='same')(image_input)\n",
    "    x = MaxPooling2D((2, 2))(x)\n",
    "    x = Conv2D(hp_filters * 2, (3, 3), activation='relu', padding='same')(x)\n",
    "    x = MaxPooling2D((2, 2))(x)\n",
    "    x = Flatten()(x)\n",
    "    encoded_image = Dense(128, activation='relu')(x)\n",
    "\n",
    "    # Repeat vector and concatenate with precipitation data\n",
    "    repeated_image_vector = RepeatVector(730)(encoded_image)\n",
    "    expanded_precip_input = tf.expand_dims(precip_input, axis=-1)\n",
    "    concatenated = Concatenate(axis=-1)([repeated_image_vector, expanded_precip_input])\n",
    "\n",
    "    # LSTM layers\n",
    "    x = Bidirectional(LSTM(hp_lstm_units, return_sequences=True))(concatenated)\n",
    "    x = Dense(64, activation='relu')(x)\n",
    "    day_probabilities = Dense(1, activation='sigmoid')(x)\n",
    "\n",
    "    model = Model(inputs=[image_input, precip_input], outputs=day_probabilities)\n",
    "    model.compile(optimizer=\"adam\", loss=\"binary_crossentropy\", metrics=[\"accuracy\"])\n",
    "    return model\n"
   ]
  },
  {
   "cell_type": "code",
   "execution_count": 24,
   "metadata": {},
   "outputs": [
    {
     "name": "stdout",
     "output_type": "stream",
     "text": [
      "Reloading Tuner from hyperparam_tuning\\flood_prediction\\tuner0.json\n"
     ]
    }
   ],
   "source": [
    "tuner = RandomSearch(\n",
    "    build_model,\n",
    "    objective=\"val_accuracy\",\n",
    "    max_trials=5,\n",
    "    executions_per_trial=1,\n",
    "    directory=\"hyperparam_tuning\",\n",
    "    project_name=\"flood_prediction\"\n",
    ")"
   ]
  },
  {
   "cell_type": "code",
   "execution_count": 25,
   "metadata": {},
   "outputs": [],
   "source": [
    "tuner.search(\n",
    "    x=[X_img_train, X_precip_train],\n",
    "    y=y_train,\n",
    "    epochs=10,\n",
    "    validation_data=([X_img_val, X_precip_val], y_val),\n",
    "    class_weight=class_weight_dict\n",
    ")\n"
   ]
  },
  {
   "cell_type": "code",
   "execution_count": 26,
   "metadata": {},
   "outputs": [
    {
     "name": "stdout",
     "output_type": "stream",
     "text": [
      "Best Hyperparameters: {'filters': 112, 'lstm_units': 96}\n"
     ]
    }
   ],
   "source": [
    "best_hps = tuner.get_best_hyperparameters(num_trials=1)[0]\n",
    "print(\"Best Hyperparameters:\", best_hps.values)"
   ]
  },
  {
   "cell_type": "code",
   "execution_count": 27,
   "metadata": {},
   "outputs": [],
   "source": [
    "# Apply best hyperparameters to final model\n",
    "best_filters = best_hps.get(\"filters\")\n",
    "best_lstm_units = best_hps.get(\"lstm_units\")\n"
   ]
  },
  {
   "cell_type": "code",
   "execution_count": 29,
   "metadata": {},
   "outputs": [],
   "source": [
    "# Define final model with best hyperparameters\n",
    "x = Conv2D(best_filters, (3, 3), activation='relu', padding='same')(image_input)\n",
    "x = MaxPooling2D((2, 2))(x)\n",
    "x = Conv2D(best_filters * 2, (3, 3), activation='relu', padding='same')(x)\n",
    "x = MaxPooling2D((2, 2))(x)\n",
    "x = Flatten()(x)\n",
    "encoded_image = Dense(128, activation='relu')(x)\n",
    "\n",
    "repeated_image_vector = RepeatVector(730)(encoded_image)\n",
    "expanded_precip_input = tf.keras.layers.Lambda(lambda x: tf.expand_dims(x, axis=-1))(precip_input)\n",
    "concatenated = Concatenate(axis=-1)([repeated_image_vector, expanded_precip_input])\n",
    "\n",
    "x = Bidirectional(LSTM(best_lstm_units, return_sequences=True))(concatenated)\n",
    "x = Dense(64, activation='relu')(x)\n",
    "day_probabilities = Dense(1, activation='sigmoid')(x)\n",
    "\n",
    "model = Model(inputs=[image_input, precip_input], outputs=day_probabilities)\n",
    "model.compile(optimizer='adam', loss='binary_crossentropy', metrics=['accuracy'])"
   ]
  },
  {
   "cell_type": "code",
   "execution_count": 36,
   "metadata": {},
   "outputs": [],
   "source": [
    "# Early stopping callback\n",
    "early_stopping = tf.keras.callbacks.EarlyStopping(\n",
    "    monitor='val_loss', patience=3, restore_best_weights=True\n",
    ")\n",
    "\n",
    "# Augment the image training data\n",
    "train_generator = data_gen.flow(\n",
    "    X_img_train,\n",
    "    y_train,\n",
    "    batch_size=32,\n",
    "    shuffle=True\n",
    ")"
   ]
  },
  {
   "cell_type": "code",
   "execution_count": 38,
   "metadata": {},
   "outputs": [
    {
     "ename": "ValueError",
     "evalue": "Input 0 of layer \"global_average_pooling1d_1\" is incompatible with the layer: expected ndim=3, found ndim=2. Full shape received: (None, 64)",
     "output_type": "error",
     "traceback": [
      "\u001b[1;31m---------------------------------------------------------------------------\u001b[0m",
      "\u001b[1;31mValueError\u001b[0m                                Traceback (most recent call last)",
      "Cell \u001b[1;32mIn[38], line 23\u001b[0m\n\u001b[0;32m     13\u001b[0m combined_train_generator \u001b[38;5;241m=\u001b[39m tf\u001b[38;5;241m.\u001b[39mdata\u001b[38;5;241m.\u001b[39mDataset\u001b[38;5;241m.\u001b[39mfrom_generator(\n\u001b[0;32m     14\u001b[0m     \u001b[38;5;28;01mlambda\u001b[39;00m: combined_generator(train_generator, X_precip_train, y_train),\n\u001b[0;32m     15\u001b[0m     output_signature\u001b[38;5;241m=\u001b[39m(\n\u001b[1;32m   (...)\u001b[0m\n\u001b[0;32m     19\u001b[0m     )\n\u001b[0;32m     20\u001b[0m )\n\u001b[0;32m     22\u001b[0m \u001b[38;5;66;03m# Update the model's output layer\u001b[39;00m\n\u001b[1;32m---> 23\u001b[0m x \u001b[38;5;241m=\u001b[39m tf\u001b[38;5;241m.\u001b[39mkeras\u001b[38;5;241m.\u001b[39mlayers\u001b[38;5;241m.\u001b[39mGlobalAveragePooling1D()(x)\n\u001b[0;32m     24\u001b[0m day_probabilities \u001b[38;5;241m=\u001b[39m tf\u001b[38;5;241m.\u001b[39mkeras\u001b[38;5;241m.\u001b[39mlayers\u001b[38;5;241m.\u001b[39mDense(\u001b[38;5;241m1\u001b[39m, activation\u001b[38;5;241m=\u001b[39m\u001b[38;5;124m'\u001b[39m\u001b[38;5;124msigmoid\u001b[39m\u001b[38;5;124m'\u001b[39m)(x)\n\u001b[0;32m     26\u001b[0m \u001b[38;5;66;03m# Compile and train the model\u001b[39;00m\n",
      "File \u001b[1;32mc:\\Users\\Reinhard\\anaconda3\\envs\\Datascience\\Lib\\site-packages\\keras\\src\\utils\\traceback_utils.py:122\u001b[0m, in \u001b[0;36mfilter_traceback.<locals>.error_handler\u001b[1;34m(*args, **kwargs)\u001b[0m\n\u001b[0;32m    119\u001b[0m     filtered_tb \u001b[38;5;241m=\u001b[39m _process_traceback_frames(e\u001b[38;5;241m.\u001b[39m__traceback__)\n\u001b[0;32m    120\u001b[0m     \u001b[38;5;66;03m# To get the full stack trace, call:\u001b[39;00m\n\u001b[0;32m    121\u001b[0m     \u001b[38;5;66;03m# `keras.config.disable_traceback_filtering()`\u001b[39;00m\n\u001b[1;32m--> 122\u001b[0m     \u001b[38;5;28;01mraise\u001b[39;00m e\u001b[38;5;241m.\u001b[39mwith_traceback(filtered_tb) \u001b[38;5;28;01mfrom\u001b[39;00m \u001b[38;5;28;01mNone\u001b[39;00m\n\u001b[0;32m    123\u001b[0m \u001b[38;5;28;01mfinally\u001b[39;00m:\n\u001b[0;32m    124\u001b[0m     \u001b[38;5;28;01mdel\u001b[39;00m filtered_tb\n",
      "File \u001b[1;32mc:\\Users\\Reinhard\\anaconda3\\envs\\Datascience\\Lib\\site-packages\\keras\\src\\layers\\input_spec.py:186\u001b[0m, in \u001b[0;36massert_input_compatibility\u001b[1;34m(input_spec, inputs, layer_name)\u001b[0m\n\u001b[0;32m    184\u001b[0m \u001b[38;5;28;01mif\u001b[39;00m spec\u001b[38;5;241m.\u001b[39mndim \u001b[38;5;129;01mis\u001b[39;00m \u001b[38;5;129;01mnot\u001b[39;00m \u001b[38;5;28;01mNone\u001b[39;00m \u001b[38;5;129;01mand\u001b[39;00m \u001b[38;5;129;01mnot\u001b[39;00m spec\u001b[38;5;241m.\u001b[39mallow_last_axis_squeeze:\n\u001b[0;32m    185\u001b[0m     \u001b[38;5;28;01mif\u001b[39;00m ndim \u001b[38;5;241m!=\u001b[39m spec\u001b[38;5;241m.\u001b[39mndim:\n\u001b[1;32m--> 186\u001b[0m         \u001b[38;5;28;01mraise\u001b[39;00m \u001b[38;5;167;01mValueError\u001b[39;00m(\n\u001b[0;32m    187\u001b[0m             \u001b[38;5;124mf\u001b[39m\u001b[38;5;124m'\u001b[39m\u001b[38;5;124mInput \u001b[39m\u001b[38;5;132;01m{\u001b[39;00minput_index\u001b[38;5;132;01m}\u001b[39;00m\u001b[38;5;124m of layer \u001b[39m\u001b[38;5;124m\"\u001b[39m\u001b[38;5;132;01m{\u001b[39;00mlayer_name\u001b[38;5;132;01m}\u001b[39;00m\u001b[38;5;124m\"\u001b[39m\u001b[38;5;124m \u001b[39m\u001b[38;5;124m'\u001b[39m\n\u001b[0;32m    188\u001b[0m             \u001b[38;5;124m\"\u001b[39m\u001b[38;5;124mis incompatible with the layer: \u001b[39m\u001b[38;5;124m\"\u001b[39m\n\u001b[0;32m    189\u001b[0m             \u001b[38;5;124mf\u001b[39m\u001b[38;5;124m\"\u001b[39m\u001b[38;5;124mexpected ndim=\u001b[39m\u001b[38;5;132;01m{\u001b[39;00mspec\u001b[38;5;241m.\u001b[39mndim\u001b[38;5;132;01m}\u001b[39;00m\u001b[38;5;124m, found ndim=\u001b[39m\u001b[38;5;132;01m{\u001b[39;00mndim\u001b[38;5;132;01m}\u001b[39;00m\u001b[38;5;124m. \u001b[39m\u001b[38;5;124m\"\u001b[39m\n\u001b[0;32m    190\u001b[0m             \u001b[38;5;124mf\u001b[39m\u001b[38;5;124m\"\u001b[39m\u001b[38;5;124mFull shape received: \u001b[39m\u001b[38;5;132;01m{\u001b[39;00mshape\u001b[38;5;132;01m}\u001b[39;00m\u001b[38;5;124m\"\u001b[39m\n\u001b[0;32m    191\u001b[0m         )\n\u001b[0;32m    192\u001b[0m \u001b[38;5;28;01mif\u001b[39;00m spec\u001b[38;5;241m.\u001b[39mmax_ndim \u001b[38;5;129;01mis\u001b[39;00m \u001b[38;5;129;01mnot\u001b[39;00m \u001b[38;5;28;01mNone\u001b[39;00m:\n\u001b[0;32m    193\u001b[0m     \u001b[38;5;28;01mif\u001b[39;00m ndim \u001b[38;5;129;01mis\u001b[39;00m \u001b[38;5;129;01mnot\u001b[39;00m \u001b[38;5;28;01mNone\u001b[39;00m \u001b[38;5;129;01mand\u001b[39;00m ndim \u001b[38;5;241m>\u001b[39m spec\u001b[38;5;241m.\u001b[39mmax_ndim:\n",
      "\u001b[1;31mValueError\u001b[0m: Input 0 of layer \"global_average_pooling1d_1\" is incompatible with the layer: expected ndim=3, found ndim=2. Full shape received: (None, 64)"
     ]
    }
   ],
   "source": [
    "# Adjust the target labels\n",
    "y_train = y_train.reshape(-1, 1)\n",
    "y_val = y_val.reshape(-1, 1)\n",
    "\n",
    "# Modify the generator\n",
    "def combined_generator(image_gen, precip_data, labels):\n",
    "    while True:\n",
    "        img_batch, label_batch = next(image_gen)\n",
    "        precip_batch = precip_data[image_gen.index_array]\n",
    "        label_batch = label_batch.reshape(-1, 1)  # Match target shape\n",
    "        yield [img_batch, precip_batch], label_batch\n",
    "\n",
    "combined_train_generator = tf.data.Dataset.from_generator(\n",
    "    lambda: combined_generator(train_generator, X_precip_train, y_train),\n",
    "    output_signature=(\n",
    "        (tf.TensorSpec(shape=(None, 128, 128, 6), dtype=tf.float32), \n",
    "         tf.TensorSpec(shape=(None, 730), dtype=tf.float32)),\n",
    "        tf.TensorSpec(shape=(None, 1), dtype=tf.float32)\n",
    "    )\n",
    ")\n",
    "\n",
    "# Update the model's output layer\n",
    "x = tf.keras.layers.GlobalAveragePooling1D()(x)\n",
    "day_probabilities = tf.keras.layers.Dense(1, activation='sigmoid')(x)\n",
    "\n",
    "# Compile and train the model\n",
    "model.compile(optimizer='adam', loss='binary_crossentropy', metrics=['accuracy'])\n",
    "model.fit(\n",
    "    combined_train_generator,\n",
    "    steps_per_epoch=len(X_img_train) // 32,\n",
    "    validation_data=([X_img_val, X_precip_val], y_val),\n",
    "    epochs=50,\n",
    "    callbacks=[early_stopping]\n",
    ")\n"
   ]
  },
  {
   "cell_type": "code",
   "execution_count": 19,
   "metadata": {},
   "outputs": [],
   "source": [
    "# Preprocess test data\n",
    "test_timeseries, _, test_images = preprocess_data_and_images(test_df, composite_images)\n",
    "\n",
    "predictions = model.predict([test_images, test_timeseries])\n"
   ]
  },
  {
   "cell_type": "code",
   "execution_count": 20,
   "metadata": {},
   "outputs": [],
   "source": [
    "# Ensemble with Gradient Boosting and Random Forest\n",
    "# Flatten LSTM outputs for use in ensemble classifiers\n",
    "train_lstm_outputs = model.predict([X_img_train, X_precip_train]).reshape(len(X_img_train), -1)\n",
    "val_lstm_outputs = model.predict([X_img_val, X_precip_val]).reshape(len(X_img_val), -1)\n",
    "test_lstm_outputs = model.predict([test_images, test_timeseries]).reshape(len(test_images), -1)\n"
   ]
  },
  {
   "cell_type": "code",
   "execution_count": null,
   "metadata": {},
   "outputs": [],
   "source": [
    "# Gradient Boosting Classifier\n",
    "gb_clf = GradientBoostingClassifier()\n",
    "gb_clf.fit(train_lstm_outputs, y_train.argmax(axis=1))\n",
    "test_gb_preds = gb_clf.predict(test_lstm_outputs)"
   ]
  },
  {
   "cell_type": "code",
   "execution_count": null,
   "metadata": {},
   "outputs": [],
   "source": [
    "# Random Forest Classifier\n",
    "rf_clf = RandomForestClassifier()\n",
    "rf_clf.fit(train_lstm_outputs, y_train.argmax(axis=1))\n",
    "test_rf_preds = rf_clf.predict(test_lstm_outputs)\n"
   ]
  },
  {
   "cell_type": "code",
   "execution_count": null,
   "metadata": {},
   "outputs": [],
   "source": [
    "# Averaging ensemble\n",
    "final_preds = (test_gb_preds + test_rf_preds) / 2\n"
   ]
  },
  {
   "cell_type": "code",
   "execution_count": null,
   "metadata": {},
   "outputs": [],
   "source": []
  },
  {
   "cell_type": "code",
   "execution_count": null,
   "metadata": {},
   "outputs": [],
   "source": []
  },
  {
   "cell_type": "code",
   "execution_count": null,
   "metadata": {},
   "outputs": [],
   "source": []
  },
  {
   "cell_type": "code",
   "execution_count": null,
   "metadata": {},
   "outputs": [],
   "source": []
  },
  {
   "cell_type": "code",
   "execution_count": null,
   "metadata": {},
   "outputs": [],
   "source": []
  },
  {
   "cell_type": "code",
   "execution_count": null,
   "metadata": {},
   "outputs": [],
   "source": [
    "test_timeseries, _, test_images = preprocess_data_and_images(test_df, composite_images)\n",
    "\n",
    "predictions = model.predict([test_images, test_timeseries])"
   ]
  },
  {
   "cell_type": "code",
   "execution_count": null,
   "metadata": {},
   "outputs": [],
   "source": [
    "# Ensemble with Gradient Boosting and Random Forest\n",
    "# Flatten LSTM outputs for use in ensemble classifiers\n",
    "train_lstm_outputs = model.predict([X_img_train, X_precip_train]).reshape(len(X_img_train), -1)\n",
    "val_lstm_outputs = model.predict([X_img_val, X_precip_val]).reshape(len(X_img_val), -1)\n"
   ]
  },
  {
   "cell_type": "code",
   "execution_count": null,
   "metadata": {},
   "outputs": [],
   "source": [
    "# Gradient Boosting Classifier\n",
    "gb_clf = GradientBoostingClassifier()\n",
    "gb_clf.fit(train_lstm_outputs, y_train.argmax(axis=1))\n",
    "val_gb_preds = gb_clf.predict(val_lstm_outputs)\n",
    "print(\"Gradient Boosting Validation Accuracy:\", accuracy_score(y_val.argmax(axis=1), val_gb_preds))\n",
    "print(\"Gradient Boosting Classification Report:\\n\", classification_report(y_val.argmax(axis=1), val_gb_preds))"
   ]
  },
  {
   "cell_type": "code",
   "execution_count": null,
   "metadata": {},
   "outputs": [],
   "source": [
    "# Random Forest Classifier\n",
    "rf_clf = RandomForestClassifier()\n",
    "rf_clf.fit(train_lstm_outputs, y_train.argmax(axis=1))\n",
    "val_rf_preds = rf_clf.predict\n"
   ]
  },
  {
   "cell_type": "code",
   "execution_count": null,
   "metadata": {},
   "outputs": [],
   "source": [
    "# Prepare LSTM outputs for the test set\n",
    "test_lstm_outputs = model.predict([test_images, test_timeseries]).reshape(len(test_images), -1)\n",
    "\n",
    "# Gradient Boosting predictions on test set\n",
    "test_gb_preds = gb_clf.predict(test_lstm_outputs)\n",
    "\n",
    "# Random Forest predictions on test set\n",
    "test_rf_preds = rf_clf.predict(test_lstm_outputs)\n",
    "\n",
    "# Ensemble predictions using majority voting\n",
    "final_ensemble_preds = (test_gb_preds + test_rf_preds) >= 1  # Majority voting\n",
    "\n",
    "# Save the predictions\n",
    "test_df['predictions'] = final_ensemble_preds\n",
    "test_df[['event_id', 'predictions']].to_csv('test_predictions.csv', index=False)\n",
    "\n",
    "print(\"Ensemble predictions saved to 'test_predictions.csv'.\")\n"
   ]
  }
 ],
 "metadata": {
  "kernelspec": {
   "display_name": "Datascience",
   "language": "python",
   "name": "python3"
  },
  "language_info": {
   "codemirror_mode": {
    "name": "ipython",
    "version": 3
   },
   "file_extension": ".py",
   "mimetype": "text/x-python",
   "name": "python",
   "nbconvert_exporter": "python",
   "pygments_lexer": "ipython3",
   "version": "3.12.4"
  }
 },
 "nbformat": 4,
 "nbformat_minor": 2
}
