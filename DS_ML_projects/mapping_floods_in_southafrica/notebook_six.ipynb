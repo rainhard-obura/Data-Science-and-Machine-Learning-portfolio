{
 "cells": [
  {
   "cell_type": "code",
   "execution_count": 1,
   "metadata": {},
   "outputs": [],
   "source": [
    "import numpy as np\n",
    "import pandas as pd\n",
    "import matplotlib.pyplot as plt\n",
    "import tensorflow as tf\n",
    "from tensorflow.keras import layers, Model #type: ignore\n",
    "from tensorflow.keras.layers import Conv2D, MaxPooling2D, Flatten, Dropout, Dense, LSTM, Bidirectional, Input, RepeatVector, Concatenate # type: ignore\n",
    "from sklearn.model_selection import train_test_split # type: ignore\n",
    "from tensorflow.keras.preprocessing.image import ImageDataGenerator # type: ignore\n",
    "from sklearn.ensemble import RandomForestClassifier, GradientBoostingClassifier\n",
    "from sklearn.metrics import accuracy_score, classification_report\n",
    "from functools import partial\n",
    "from tqdm import tqdm   # type: ignore\n",
    "import math"
   ]
  },
  {
   "cell_type": "code",
   "execution_count": 2,
   "metadata": {},
   "outputs": [],
   "source": [
    "train_df = pd.read_csv('train.csv')\n",
    "test_df = pd.read_csv('test.csv')"
   ]
  },
  {
   "cell_type": "code",
   "execution_count": 3,
   "metadata": {},
   "outputs": [
    {
     "name": "stdout",
     "output_type": "stream",
     "text": [
      "          event_id  precipitation  label  event_idx  event_t\n",
      "0  id_spictby0jfsb       0.000000      0          0        0\n",
      "1  id_spictby0jfsb       0.095438      0          0        1\n",
      "2  id_spictby0jfsb       1.949560      0          0        2\n",
      "3  id_spictby0jfsb       3.232160      0          0        3\n",
      "4  id_spictby0jfsb       0.000000      0          0        4\n",
      "          event_id  precipitation  event_idx  event_t\n",
      "0  id_j7b6sokflo4k        0.00000          0        0\n",
      "1  id_j7b6sokflo4k        3.01864          0        1\n",
      "2  id_j7b6sokflo4k        0.00000          0        2\n",
      "3  id_j7b6sokflo4k       16.61520          0        3\n",
      "4  id_j7b6sokflo4k        2.56706          0        4\n"
     ]
    }
   ],
   "source": [
    "train_df['event_id'] = train_df['event_id'].apply(lambda x: '_'.join(x.split('_')[0:2]))\n",
    "train_df['event_idx'] = train_df.groupby('event_id', sort=False).ngroup()\n",
    "test_df['event_id'] = test_df['event_id'].apply(lambda x: '_'.join(x.split('_')[0:2]))\n",
    "test_df['event_idx'] = test_df.groupby('event_id', sort=False).ngroup()\n",
    "\n",
    "train_df['event_t'] = train_df.groupby('event_id').cumcount()\n",
    "test_df['event_t'] = test_df.groupby('event_id').cumcount()\n",
    "\n",
    "print(train_df.head())\n",
    "print(test_df.head())"
   ]
  },
  {
   "cell_type": "code",
   "execution_count": 4,
   "metadata": {},
   "outputs": [],
   "source": [
    "BAND_NAMES = ('B2', 'B3','B4', 'B8', 'B11', 'slope')\n",
    "H, W, NUM_CHANNELS = IMG_DIM= (128, 128, len(BAND_NAMES))\n",
    "_MAX_INT = np.iinfo(np.int16).max\n",
    "\n",
    "def decode_slope(X: np.ndarray) -> np.ndarray:\n",
    "    return (X / _MAX_INT * (math.pi / 2.0 )).astype(np.float32)\n",
    "\n",
    "def normalize(x: np.ndarray, mean: int, std: int) -> np.ndarray:\n",
    "    return (x - mean) / std\n",
    "rough_S2_normalize = partial(normalize, mean=1250, std=500)"
   ]
  },
  {
   "cell_type": "code",
   "execution_count": 5,
   "metadata": {},
   "outputs": [],
   "source": [
    "def preprocess_image(x: np.ndarray) -> np.ndarray:\n",
    "    return np.concatenate([\n",
    "        rough_S2_normalize(x[..., :-1].astype(np.float32)),\n",
    "        decode_slope(x[..., -1:]),\n",
    "    ], axis=-1, dtype=np.float32)\n",
    "composite_images = np.load('composite_images.npz')\n",
    "images_path = 'composite_images.npz'"
   ]
  },
  {
   "cell_type": "code",
   "execution_count": 6,
   "metadata": {},
   "outputs": [],
   "source": [
    "def preprocess_data_and_images(data_df, composite_images):\n",
    "    event_ids = data_df['event_id'].unique()\n",
    "\n",
    "    timeseries = []\n",
    "    labels = []\n",
    "    images = []\n",
    "\n",
    "    for event_id in tqdm(event_ids, desc=\"Processing data\"):\n",
    "        event_data = data_df[data_df['event_id'] == event_id]\n",
    "        timeseries.append(event_data['precipitation'].values)  # Shape: (730,)\n",
    "        if 'label' in event_data.columns:\n",
    "            labels.append(event_data['label'].values)  # Shape: (730,)\n",
    "        images.append(preprocess_image(composite_images[event_id]))  # Shape: (128, 128, 6)\n",
    "\n",
    "    timeseries = np.array(timeseries)\n",
    "    labels = np.array(labels) if labels else None\n",
    "    images = np.stack(images, axis=0)\n",
    "\n",
    "    return timeseries, labels, images"
   ]
  },
  {
   "cell_type": "code",
   "execution_count": 7,
   "metadata": {},
   "outputs": [
    {
     "name": "stderr",
     "output_type": "stream",
     "text": [
      "Processing data: 100%|██████████| 674/674 [00:50<00:00, 13.40it/s]\n"
     ]
    }
   ],
   "source": [
    "train_timeseries, train_labels, train_images = preprocess_data_and_images(train_df, composite_images)"
   ]
  },
  {
   "cell_type": "code",
   "execution_count": 8,
   "metadata": {},
   "outputs": [],
   "source": [
    "data_gen = ImageDataGenerator(\n",
    "    rotation_range =15,\n",
    "    width_shift_range = 0.1,\n",
    "    height_shift_range = 0.1,\n",
    "    shear_range = 0.1,\n",
    "    zoom_range = 0.1,\n",
    "    horizontal_flip = True,\n",
    "    fill_mode = 'nearest'\n",
    ")"
   ]
  },
  {
   "cell_type": "code",
   "execution_count": 9,
   "metadata": {},
   "outputs": [],
   "source": [
    "# Split into training and validation sets\n",
    "train_split, val_split = train_test_split(\n",
    "    np.arange(len(train_timeseries)), test_size=0.1, random_state=42\n",
    ")\n",
    "\n",
    "X_precip_train, X_precip_val = train_timeseries[train_split], train_timeseries[val_split]\n",
    "y_train, y_val = train_labels[train_split], train_labels[val_split]\n",
    "X_img_train, X_img_val = train_images[train_split], train_images[val_split]"
   ]
  },
  {
   "cell_type": "code",
   "execution_count": 10,
   "metadata": {},
   "outputs": [],
   "source": [
    "from sklearn.utils.class_weight import compute_class_weight # type: ignore\n",
    "# Compute class weights\n",
    "class_weights = compute_class_weight('balanced', classes=np.unique(y_train.argmax(axis=1)), y=y_train.argmax(axis=1))\n",
    "class_weight_dict = {i: weight for i, weight in enumerate(class_weights)}\n"
   ]
  },
  {
   "cell_type": "code",
   "execution_count": 11,
   "metadata": {},
   "outputs": [],
   "source": [
    "# Image encoder\n",
    "image_input = Input(shape=(128, 128, 6), name='image_input')\n",
    "x = Conv2D(32, (3, 3), activation='relu', padding='same')(image_input)\n",
    "x = MaxPooling2D((2, 2))(x)\n",
    "x = Dropout(0.2)(x)\n",
    "x = Conv2D(64, (3, 3), activation='relu', padding='same')(x)\n",
    "x = MaxPooling2D((2, 2))(x)\n",
    "x = Flatten()(x)\n",
    "encoded_image = Dense(128, activation='relu')(x)\n"
   ]
  },
  {
   "cell_type": "code",
   "execution_count": 12,
   "metadata": {},
   "outputs": [
    {
     "name": "stdout",
     "output_type": "stream",
     "text": [
      "WARNING:tensorflow:From c:\\Users\\Reinhard\\anaconda3\\envs\\Datascience\\Lib\\site-packages\\keras\\src\\backend\\tensorflow\\core.py:204: The name tf.placeholder is deprecated. Please use tf.compat.v1.placeholder instead.\n",
      "\n"
     ]
    }
   ],
   "source": [
    "# Time-series input\n",
    "precip_input = Input(shape=(730,), name='precip_input')\n",
    "\n",
    "# Custom layer to wrap tf.expand_dims\n",
    "class ExpandDimsLayer(layers.Layer):\n",
    "    def call(self, inputs):\n",
    "        return tf.expand_dims(inputs, axis=-1)\n",
    "\n",
    "# Repeat the image encoding vector 730 times and concatenate with precipitation data\n",
    "repeated_image_vector = RepeatVector(730)(encoded_image)\n",
    "expanded_precip_input = ExpandDimsLayer()(precip_input)\n",
    "concatenated = Concatenate(axis=-1)([repeated_image_vector, expanded_precip_input])\n",
    "\n",
    "# Bidirectional LSTM\n",
    "x = Bidirectional(LSTM(64, return_sequences=True))(concatenated)\n",
    "x = Dense(64, activation='relu')(x)\n",
    "day_probabilities = Dense(1, activation='sigmoid')(x)"
   ]
  },
  {
   "cell_type": "code",
   "execution_count": 13,
   "metadata": {},
   "outputs": [],
   "source": [
    "# Define the model\n",
    "model = Model(inputs=[image_input, precip_input], outputs=day_probabilities)"
   ]
  },
  {
   "cell_type": "code",
   "execution_count": 14,
   "metadata": {},
   "outputs": [],
   "source": [
    "from keras_tuner import RandomSearch"
   ]
  },
  {
   "cell_type": "code",
   "execution_count": 15,
   "metadata": {},
   "outputs": [],
   "source": [
    "def build_model (hp):\n",
    "    hp_filters = hp.Int('filters', min_value=32, max_value=128, step = 16)\n",
    "    hp_lstm_units = hp.Int('lstm_units', min_value =32, max_value = 128, step = 16)\n",
    "    x = Conv2D(hp_filters, (3, 3), activation='relu', padding='same')(image_input)\n",
    "    x = MaxPooling2D((2, 2))(x)\n",
    "    x = Conv2D(hp_filters * 2, (3, 3), activation='relu', padding='same')(x)\n",
    "    x = MaxPooling2D((2, 2))(x)\n",
    "    x = Flatten()(x)\n",
    "    encoded_image = Dense(128, activation='relu')(x)\n",
    "\n",
    "    repeated_image_vector = RepeatVector(730)(encoded_image)\n",
    "    expanded_precip_input = ExpandDimsLayer()(precip_input)\n",
    "    concatenated = Concatenate(axis=-1)([repeated_image_vector, expanded_precip_input])\n",
    "\n",
    "    x = Bidirectional(LSTM(hp_lstm_units, return_sequences=True))(concatenated)\n",
    "    x = Dense(64, activation='relu')(x)\n",
    "    day_probabilities = Dense(1, activation='sigmoid')(x)\n",
    "\n",
    "    model = Model(inputs=[image_input, precip_input], outputs=day_probabilities)\n",
    "    model.compile(optimizer=\"adam\", loss=\"binary_crossentropy\", metrics=[\"accuracy\"])\n",
    "    return model\n"
   ]
  },
  {
   "cell_type": "code",
   "execution_count": 16,
   "metadata": {},
   "outputs": [
    {
     "name": "stdout",
     "output_type": "stream",
     "text": [
      "Reloading Tuner from hyperparam_tuning\\flood_prediction\\tuner0.json\n"
     ]
    }
   ],
   "source": [
    "tuner = RandomSearch(\n",
    "    build_model,\n",
    "    objective=\"val_accuracy\",\n",
    "    max_trials=5,\n",
    "    executions_per_trial=1,\n",
    "    directory=\"hyperparam_tuning\",\n",
    "    project_name=\"flood_prediction\"\n",
    ")"
   ]
  },
  {
   "cell_type": "code",
   "execution_count": 17,
   "metadata": {},
   "outputs": [
    {
     "name": "stdout",
     "output_type": "stream",
     "text": [
      "Trial 5 Complete [00h 04m 04s]\n",
      "val_accuracy: 0.9994158148765564\n",
      "\n",
      "Best val_accuracy So Far: 0.9994158148765564\n",
      "Total elapsed time: 01h 00m 32s\n"
     ]
    }
   ],
   "source": [
    "tuner.search(\n",
    "    x=[X_img_train, X_precip_train],\n",
    "    y=y_train,\n",
    "    epochs=10,\n",
    "    validation_data=([X_img_val, X_precip_val], y_val),\n",
    "    class_weight=class_weight_dict\n",
    ")"
   ]
  },
  {
   "cell_type": "code",
   "execution_count": 18,
   "metadata": {},
   "outputs": [
    {
     "name": "stdout",
     "output_type": "stream",
     "text": [
      "Best Hyperparameters: {'filters': 112, 'lstm_units': 96}\n"
     ]
    }
   ],
   "source": [
    "best_hps = tuner.get_best_hyperparameters(num_trials=1)[0]\n",
    "print(\"Best Hyperparameters:\", best_hps.values)"
   ]
  },
  {
   "cell_type": "code",
   "execution_count": null,
   "metadata": {},
   "outputs": [],
   "source": []
  },
  {
   "cell_type": "code",
   "execution_count": null,
   "metadata": {},
   "outputs": [],
   "source": []
  },
  {
   "cell_type": "code",
   "execution_count": null,
   "metadata": {},
   "outputs": [],
   "source": []
  },
  {
   "cell_type": "code",
   "execution_count": null,
   "metadata": {},
   "outputs": [],
   "source": []
  },
  {
   "cell_type": "code",
   "execution_count": null,
   "metadata": {},
   "outputs": [],
   "source": []
  },
  {
   "cell_type": "code",
   "execution_count": null,
   "metadata": {},
   "outputs": [],
   "source": []
  }
 ],
 "metadata": {
  "kernelspec": {
   "display_name": "Datascience",
   "language": "python",
   "name": "python3"
  },
  "language_info": {
   "codemirror_mode": {
    "name": "ipython",
    "version": 3
   },
   "file_extension": ".py",
   "mimetype": "text/x-python",
   "name": "python",
   "nbconvert_exporter": "python",
   "pygments_lexer": "ipython3",
   "version": "3.12.4"
  }
 },
 "nbformat": 4,
 "nbformat_minor": 2
}
