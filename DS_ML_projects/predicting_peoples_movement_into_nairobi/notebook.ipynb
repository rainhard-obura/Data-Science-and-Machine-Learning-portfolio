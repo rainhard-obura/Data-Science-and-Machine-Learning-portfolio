{
 "cells": [
  {
   "cell_type": "code",
   "execution_count": 1,
   "metadata": {},
   "outputs": [],
   "source": [
    "import pandas as pd\n",
    "import numpy as np\n",
    "import matplotlib.pyplot as plt\n",
    "import seaborn as sns\n",
    "from sklearn.model_selection import TimeSeriesSplit\n",
    "from sklearn.ensemble import RandomForestRegressor\n",
    "from sklearn.metrics import mean_absolute_error\n",
    "from sklearn.preprocessing import OneHotEncoder\n",
    "from datetime import datetime"
   ]
  },
  {
   "cell_type": "code",
   "execution_count": 2,
   "metadata": {},
   "outputs": [],
   "source": [
    "train = pd.read_csv('train_revised.csv')\n",
    "test = pd.read_csv('test_questions.csv')"
   ]
  },
  {
   "cell_type": "code",
   "execution_count": 3,
   "metadata": {},
   "outputs": [
    {
     "data": {
      "text/html": [
       "<div>\n",
       "<style scoped>\n",
       "    .dataframe tbody tr th:only-of-type {\n",
       "        vertical-align: middle;\n",
       "    }\n",
       "\n",
       "    .dataframe tbody tr th {\n",
       "        vertical-align: top;\n",
       "    }\n",
       "\n",
       "    .dataframe thead th {\n",
       "        text-align: right;\n",
       "    }\n",
       "</style>\n",
       "<table border=\"1\" class=\"dataframe\">\n",
       "  <thead>\n",
       "    <tr style=\"text-align: right;\">\n",
       "      <th></th>\n",
       "      <th>ride_id</th>\n",
       "      <th>travel_date</th>\n",
       "      <th>travel_time</th>\n",
       "      <th>travel_from</th>\n",
       "      <th>travel_to</th>\n",
       "      <th>car_type</th>\n",
       "      <th>max_capacity</th>\n",
       "    </tr>\n",
       "  </thead>\n",
       "  <tbody>\n",
       "    <tr>\n",
       "      <th>0</th>\n",
       "      <td>247</td>\n",
       "      <td>2018-05-07</td>\n",
       "      <td>07:06</td>\n",
       "      <td>Kisii</td>\n",
       "      <td>Nairobi</td>\n",
       "      <td>Bus</td>\n",
       "      <td>49</td>\n",
       "    </tr>\n",
       "    <tr>\n",
       "      <th>1</th>\n",
       "      <td>256</td>\n",
       "      <td>2018-05-06</td>\n",
       "      <td>11:08</td>\n",
       "      <td>Kisii</td>\n",
       "      <td>Nairobi</td>\n",
       "      <td>shuttle</td>\n",
       "      <td>11</td>\n",
       "    </tr>\n",
       "    <tr>\n",
       "      <th>2</th>\n",
       "      <td>275</td>\n",
       "      <td>2018-05-04</td>\n",
       "      <td>05:00</td>\n",
       "      <td>Kisii</td>\n",
       "      <td>Nairobi</td>\n",
       "      <td>shuttle</td>\n",
       "      <td>11</td>\n",
       "    </tr>\n",
       "    <tr>\n",
       "      <th>3</th>\n",
       "      <td>285</td>\n",
       "      <td>2018-05-04</td>\n",
       "      <td>09:10</td>\n",
       "      <td>Kisii</td>\n",
       "      <td>Nairobi</td>\n",
       "      <td>shuttle</td>\n",
       "      <td>11</td>\n",
       "    </tr>\n",
       "    <tr>\n",
       "      <th>4</th>\n",
       "      <td>286</td>\n",
       "      <td>2018-05-04</td>\n",
       "      <td>09:20</td>\n",
       "      <td>Kisii</td>\n",
       "      <td>Nairobi</td>\n",
       "      <td>shuttle</td>\n",
       "      <td>11</td>\n",
       "    </tr>\n",
       "  </tbody>\n",
       "</table>\n",
       "</div>"
      ],
      "text/plain": [
       "   ride_id travel_date travel_time travel_from travel_to car_type  \\\n",
       "0      247  2018-05-07       07:06       Kisii   Nairobi      Bus   \n",
       "1      256  2018-05-06       11:08       Kisii   Nairobi  shuttle   \n",
       "2      275  2018-05-04       05:00       Kisii   Nairobi  shuttle   \n",
       "3      285  2018-05-04       09:10       Kisii   Nairobi  shuttle   \n",
       "4      286  2018-05-04       09:20       Kisii   Nairobi  shuttle   \n",
       "\n",
       "   max_capacity  \n",
       "0            49  \n",
       "1            11  \n",
       "2            11  \n",
       "3            11  \n",
       "4            11  "
      ]
     },
     "execution_count": 3,
     "metadata": {},
     "output_type": "execute_result"
    }
   ],
   "source": [
    "test.head()"
   ]
  },
  {
   "cell_type": "code",
   "execution_count": 4,
   "metadata": {},
   "outputs": [
    {
     "data": {
      "text/html": [
       "<div>\n",
       "<style scoped>\n",
       "    .dataframe tbody tr th:only-of-type {\n",
       "        vertical-align: middle;\n",
       "    }\n",
       "\n",
       "    .dataframe tbody tr th {\n",
       "        vertical-align: top;\n",
       "    }\n",
       "\n",
       "    .dataframe thead th {\n",
       "        text-align: right;\n",
       "    }\n",
       "</style>\n",
       "<table border=\"1\" class=\"dataframe\">\n",
       "  <thead>\n",
       "    <tr style=\"text-align: right;\">\n",
       "      <th></th>\n",
       "      <th>ride_id</th>\n",
       "      <th>seat_number</th>\n",
       "      <th>payment_method</th>\n",
       "      <th>payment_receipt</th>\n",
       "      <th>travel_date</th>\n",
       "      <th>travel_time</th>\n",
       "      <th>travel_from</th>\n",
       "      <th>travel_to</th>\n",
       "      <th>car_type</th>\n",
       "      <th>max_capacity</th>\n",
       "    </tr>\n",
       "  </thead>\n",
       "  <tbody>\n",
       "    <tr>\n",
       "      <th>0</th>\n",
       "      <td>1442</td>\n",
       "      <td>15A</td>\n",
       "      <td>Mpesa</td>\n",
       "      <td>UZUEHCBUSO</td>\n",
       "      <td>17-10-17</td>\n",
       "      <td>7:15</td>\n",
       "      <td>Migori</td>\n",
       "      <td>Nairobi</td>\n",
       "      <td>Bus</td>\n",
       "      <td>49</td>\n",
       "    </tr>\n",
       "    <tr>\n",
       "      <th>1</th>\n",
       "      <td>5437</td>\n",
       "      <td>14A</td>\n",
       "      <td>Mpesa</td>\n",
       "      <td>TIHLBUSGTE</td>\n",
       "      <td>19-11-17</td>\n",
       "      <td>7:12</td>\n",
       "      <td>Migori</td>\n",
       "      <td>Nairobi</td>\n",
       "      <td>Bus</td>\n",
       "      <td>49</td>\n",
       "    </tr>\n",
       "    <tr>\n",
       "      <th>2</th>\n",
       "      <td>5710</td>\n",
       "      <td>8B</td>\n",
       "      <td>Mpesa</td>\n",
       "      <td>EQX8Q5G19O</td>\n",
       "      <td>26-11-17</td>\n",
       "      <td>7:05</td>\n",
       "      <td>Keroka</td>\n",
       "      <td>Nairobi</td>\n",
       "      <td>Bus</td>\n",
       "      <td>49</td>\n",
       "    </tr>\n",
       "    <tr>\n",
       "      <th>3</th>\n",
       "      <td>5777</td>\n",
       "      <td>19A</td>\n",
       "      <td>Mpesa</td>\n",
       "      <td>SGP18CL0ME</td>\n",
       "      <td>27-11-17</td>\n",
       "      <td>7:10</td>\n",
       "      <td>Homa Bay</td>\n",
       "      <td>Nairobi</td>\n",
       "      <td>Bus</td>\n",
       "      <td>49</td>\n",
       "    </tr>\n",
       "    <tr>\n",
       "      <th>4</th>\n",
       "      <td>5778</td>\n",
       "      <td>11A</td>\n",
       "      <td>Mpesa</td>\n",
       "      <td>BM97HFRGL9</td>\n",
       "      <td>27-11-17</td>\n",
       "      <td>7:12</td>\n",
       "      <td>Migori</td>\n",
       "      <td>Nairobi</td>\n",
       "      <td>Bus</td>\n",
       "      <td>49</td>\n",
       "    </tr>\n",
       "  </tbody>\n",
       "</table>\n",
       "</div>"
      ],
      "text/plain": [
       "   ride_id seat_number payment_method payment_receipt travel_date travel_time  \\\n",
       "0     1442         15A          Mpesa      UZUEHCBUSO    17-10-17        7:15   \n",
       "1     5437         14A          Mpesa      TIHLBUSGTE    19-11-17        7:12   \n",
       "2     5710          8B          Mpesa      EQX8Q5G19O    26-11-17        7:05   \n",
       "3     5777         19A          Mpesa      SGP18CL0ME    27-11-17        7:10   \n",
       "4     5778         11A          Mpesa      BM97HFRGL9    27-11-17        7:12   \n",
       "\n",
       "  travel_from travel_to car_type  max_capacity  \n",
       "0      Migori   Nairobi      Bus            49  \n",
       "1      Migori   Nairobi      Bus            49  \n",
       "2      Keroka   Nairobi      Bus            49  \n",
       "3    Homa Bay   Nairobi      Bus            49  \n",
       "4      Migori   Nairobi      Bus            49  "
      ]
     },
     "execution_count": 4,
     "metadata": {},
     "output_type": "execute_result"
    }
   ],
   "source": [
    "train.head()"
   ]
  },
  {
   "cell_type": "code",
   "execution_count": 5,
   "metadata": {},
   "outputs": [
    {
     "name": "stdout",
     "output_type": "stream",
     "text": [
      "<class 'pandas.core.frame.DataFrame'>\n",
      "RangeIndex: 51645 entries, 0 to 51644\n",
      "Data columns (total 10 columns):\n",
      " #   Column           Non-Null Count  Dtype \n",
      "---  ------           --------------  ----- \n",
      " 0   ride_id          51645 non-null  int64 \n",
      " 1   seat_number      51645 non-null  object\n",
      " 2   payment_method   51645 non-null  object\n",
      " 3   payment_receipt  51645 non-null  object\n",
      " 4   travel_date      51645 non-null  object\n",
      " 5   travel_time      51645 non-null  object\n",
      " 6   travel_from      51645 non-null  object\n",
      " 7   travel_to        51645 non-null  object\n",
      " 8   car_type         51645 non-null  object\n",
      " 9   max_capacity     51645 non-null  int64 \n",
      "dtypes: int64(2), object(8)\n",
      "memory usage: 3.9+ MB\n"
     ]
    }
   ],
   "source": [
    "train.info()"
   ]
  },
  {
   "cell_type": "code",
   "execution_count": 6,
   "metadata": {},
   "outputs": [
    {
     "name": "stdout",
     "output_type": "stream",
     "text": [
      "<class 'pandas.core.frame.DataFrame'>\n",
      "RangeIndex: 1111 entries, 0 to 1110\n",
      "Data columns (total 7 columns):\n",
      " #   Column        Non-Null Count  Dtype \n",
      "---  ------        --------------  ----- \n",
      " 0   ride_id       1111 non-null   int64 \n",
      " 1   travel_date   1111 non-null   object\n",
      " 2   travel_time   1111 non-null   object\n",
      " 3   travel_from   1111 non-null   object\n",
      " 4   travel_to     1111 non-null   object\n",
      " 5   car_type      1111 non-null   object\n",
      " 6   max_capacity  1111 non-null   int64 \n",
      "dtypes: int64(2), object(5)\n",
      "memory usage: 60.9+ KB\n"
     ]
    }
   ],
   "source": [
    "test.info()"
   ]
  },
  {
   "cell_type": "code",
   "execution_count": 7,
   "metadata": {},
   "outputs": [],
   "source": [
    "def clean_data_train(df):\n",
    "    df['travel_date'] = pd.to_datetime(df['travel_date'], format='%d-%m-%y', errors='coerce')\n",
    "    df['travel_time'] = pd.to_datetime(df['travel_time'],format='%H:%M', errors='coerce').dt.time\n",
    "    return df"
   ]
  },
  {
   "cell_type": "code",
   "execution_count": 8,
   "metadata": {},
   "outputs": [],
   "source": [
    "train = clean_data_train(train)"
   ]
  },
  {
   "cell_type": "code",
   "execution_count": 9,
   "metadata": {},
   "outputs": [
    {
     "data": {
      "text/html": [
       "<div>\n",
       "<style scoped>\n",
       "    .dataframe tbody tr th:only-of-type {\n",
       "        vertical-align: middle;\n",
       "    }\n",
       "\n",
       "    .dataframe tbody tr th {\n",
       "        vertical-align: top;\n",
       "    }\n",
       "\n",
       "    .dataframe thead th {\n",
       "        text-align: right;\n",
       "    }\n",
       "</style>\n",
       "<table border=\"1\" class=\"dataframe\">\n",
       "  <thead>\n",
       "    <tr style=\"text-align: right;\">\n",
       "      <th></th>\n",
       "      <th>ride_id</th>\n",
       "      <th>seat_number</th>\n",
       "      <th>payment_method</th>\n",
       "      <th>payment_receipt</th>\n",
       "      <th>travel_date</th>\n",
       "      <th>travel_time</th>\n",
       "      <th>travel_from</th>\n",
       "      <th>travel_to</th>\n",
       "      <th>car_type</th>\n",
       "      <th>max_capacity</th>\n",
       "    </tr>\n",
       "  </thead>\n",
       "  <tbody>\n",
       "    <tr>\n",
       "      <th>0</th>\n",
       "      <td>1442</td>\n",
       "      <td>15A</td>\n",
       "      <td>Mpesa</td>\n",
       "      <td>UZUEHCBUSO</td>\n",
       "      <td>2017-10-17</td>\n",
       "      <td>07:15:00</td>\n",
       "      <td>Migori</td>\n",
       "      <td>Nairobi</td>\n",
       "      <td>Bus</td>\n",
       "      <td>49</td>\n",
       "    </tr>\n",
       "    <tr>\n",
       "      <th>1</th>\n",
       "      <td>5437</td>\n",
       "      <td>14A</td>\n",
       "      <td>Mpesa</td>\n",
       "      <td>TIHLBUSGTE</td>\n",
       "      <td>2017-11-19</td>\n",
       "      <td>07:12:00</td>\n",
       "      <td>Migori</td>\n",
       "      <td>Nairobi</td>\n",
       "      <td>Bus</td>\n",
       "      <td>49</td>\n",
       "    </tr>\n",
       "    <tr>\n",
       "      <th>2</th>\n",
       "      <td>5710</td>\n",
       "      <td>8B</td>\n",
       "      <td>Mpesa</td>\n",
       "      <td>EQX8Q5G19O</td>\n",
       "      <td>2017-11-26</td>\n",
       "      <td>07:05:00</td>\n",
       "      <td>Keroka</td>\n",
       "      <td>Nairobi</td>\n",
       "      <td>Bus</td>\n",
       "      <td>49</td>\n",
       "    </tr>\n",
       "    <tr>\n",
       "      <th>3</th>\n",
       "      <td>5777</td>\n",
       "      <td>19A</td>\n",
       "      <td>Mpesa</td>\n",
       "      <td>SGP18CL0ME</td>\n",
       "      <td>2017-11-27</td>\n",
       "      <td>07:10:00</td>\n",
       "      <td>Homa Bay</td>\n",
       "      <td>Nairobi</td>\n",
       "      <td>Bus</td>\n",
       "      <td>49</td>\n",
       "    </tr>\n",
       "    <tr>\n",
       "      <th>4</th>\n",
       "      <td>5778</td>\n",
       "      <td>11A</td>\n",
       "      <td>Mpesa</td>\n",
       "      <td>BM97HFRGL9</td>\n",
       "      <td>2017-11-27</td>\n",
       "      <td>07:12:00</td>\n",
       "      <td>Migori</td>\n",
       "      <td>Nairobi</td>\n",
       "      <td>Bus</td>\n",
       "      <td>49</td>\n",
       "    </tr>\n",
       "  </tbody>\n",
       "</table>\n",
       "</div>"
      ],
      "text/plain": [
       "   ride_id seat_number payment_method payment_receipt travel_date travel_time  \\\n",
       "0     1442         15A          Mpesa      UZUEHCBUSO  2017-10-17    07:15:00   \n",
       "1     5437         14A          Mpesa      TIHLBUSGTE  2017-11-19    07:12:00   \n",
       "2     5710          8B          Mpesa      EQX8Q5G19O  2017-11-26    07:05:00   \n",
       "3     5777         19A          Mpesa      SGP18CL0ME  2017-11-27    07:10:00   \n",
       "4     5778         11A          Mpesa      BM97HFRGL9  2017-11-27    07:12:00   \n",
       "\n",
       "  travel_from travel_to car_type  max_capacity  \n",
       "0      Migori   Nairobi      Bus            49  \n",
       "1      Migori   Nairobi      Bus            49  \n",
       "2      Keroka   Nairobi      Bus            49  \n",
       "3    Homa Bay   Nairobi      Bus            49  \n",
       "4      Migori   Nairobi      Bus            49  "
      ]
     },
     "execution_count": 9,
     "metadata": {},
     "output_type": "execute_result"
    }
   ],
   "source": [
    "train.head()"
   ]
  },
  {
   "cell_type": "code",
   "execution_count": 10,
   "metadata": {},
   "outputs": [
    {
     "name": "stdout",
     "output_type": "stream",
     "text": [
      "<class 'pandas.core.frame.DataFrame'>\n",
      "RangeIndex: 51645 entries, 0 to 51644\n",
      "Data columns (total 10 columns):\n",
      " #   Column           Non-Null Count  Dtype         \n",
      "---  ------           --------------  -----         \n",
      " 0   ride_id          51645 non-null  int64         \n",
      " 1   seat_number      51645 non-null  object        \n",
      " 2   payment_method   51645 non-null  object        \n",
      " 3   payment_receipt  51645 non-null  object        \n",
      " 4   travel_date      51645 non-null  datetime64[ns]\n",
      " 5   travel_time      51645 non-null  object        \n",
      " 6   travel_from      51645 non-null  object        \n",
      " 7   travel_to        51645 non-null  object        \n",
      " 8   car_type         51645 non-null  object        \n",
      " 9   max_capacity     51645 non-null  int64         \n",
      "dtypes: datetime64[ns](1), int64(2), object(7)\n",
      "memory usage: 3.9+ MB\n"
     ]
    }
   ],
   "source": [
    "train.info()"
   ]
  },
  {
   "cell_type": "code",
   "execution_count": 11,
   "metadata": {},
   "outputs": [],
   "source": [
    "def clean_data_test(df):\n",
    "    df['travel_date'] = pd.to_datetime(test['travel_date'], format='%Y-%m-%d', errors='coerce')\n",
    "    # Convert travel_time to a time object to remove the default date\n",
    "    df['travel_time'] = pd.to_datetime(df['travel_time'], format='%H:%M', errors='coerce').dt.time\n",
    "    return df\n"
   ]
  },
  {
   "cell_type": "code",
   "execution_count": 12,
   "metadata": {},
   "outputs": [],
   "source": [
    "test = clean_data_test(test)"
   ]
  },
  {
   "cell_type": "code",
   "execution_count": 13,
   "metadata": {},
   "outputs": [
    {
     "data": {
      "text/html": [
       "<div>\n",
       "<style scoped>\n",
       "    .dataframe tbody tr th:only-of-type {\n",
       "        vertical-align: middle;\n",
       "    }\n",
       "\n",
       "    .dataframe tbody tr th {\n",
       "        vertical-align: top;\n",
       "    }\n",
       "\n",
       "    .dataframe thead th {\n",
       "        text-align: right;\n",
       "    }\n",
       "</style>\n",
       "<table border=\"1\" class=\"dataframe\">\n",
       "  <thead>\n",
       "    <tr style=\"text-align: right;\">\n",
       "      <th></th>\n",
       "      <th>ride_id</th>\n",
       "      <th>travel_date</th>\n",
       "      <th>travel_time</th>\n",
       "      <th>travel_from</th>\n",
       "      <th>travel_to</th>\n",
       "      <th>car_type</th>\n",
       "      <th>max_capacity</th>\n",
       "    </tr>\n",
       "  </thead>\n",
       "  <tbody>\n",
       "    <tr>\n",
       "      <th>0</th>\n",
       "      <td>247</td>\n",
       "      <td>2018-05-07</td>\n",
       "      <td>07:06:00</td>\n",
       "      <td>Kisii</td>\n",
       "      <td>Nairobi</td>\n",
       "      <td>Bus</td>\n",
       "      <td>49</td>\n",
       "    </tr>\n",
       "    <tr>\n",
       "      <th>1</th>\n",
       "      <td>256</td>\n",
       "      <td>2018-05-06</td>\n",
       "      <td>11:08:00</td>\n",
       "      <td>Kisii</td>\n",
       "      <td>Nairobi</td>\n",
       "      <td>shuttle</td>\n",
       "      <td>11</td>\n",
       "    </tr>\n",
       "    <tr>\n",
       "      <th>2</th>\n",
       "      <td>275</td>\n",
       "      <td>2018-05-04</td>\n",
       "      <td>05:00:00</td>\n",
       "      <td>Kisii</td>\n",
       "      <td>Nairobi</td>\n",
       "      <td>shuttle</td>\n",
       "      <td>11</td>\n",
       "    </tr>\n",
       "    <tr>\n",
       "      <th>3</th>\n",
       "      <td>285</td>\n",
       "      <td>2018-05-04</td>\n",
       "      <td>09:10:00</td>\n",
       "      <td>Kisii</td>\n",
       "      <td>Nairobi</td>\n",
       "      <td>shuttle</td>\n",
       "      <td>11</td>\n",
       "    </tr>\n",
       "    <tr>\n",
       "      <th>4</th>\n",
       "      <td>286</td>\n",
       "      <td>2018-05-04</td>\n",
       "      <td>09:20:00</td>\n",
       "      <td>Kisii</td>\n",
       "      <td>Nairobi</td>\n",
       "      <td>shuttle</td>\n",
       "      <td>11</td>\n",
       "    </tr>\n",
       "  </tbody>\n",
       "</table>\n",
       "</div>"
      ],
      "text/plain": [
       "   ride_id travel_date travel_time travel_from travel_to car_type  \\\n",
       "0      247  2018-05-07    07:06:00       Kisii   Nairobi      Bus   \n",
       "1      256  2018-05-06    11:08:00       Kisii   Nairobi  shuttle   \n",
       "2      275  2018-05-04    05:00:00       Kisii   Nairobi  shuttle   \n",
       "3      285  2018-05-04    09:10:00       Kisii   Nairobi  shuttle   \n",
       "4      286  2018-05-04    09:20:00       Kisii   Nairobi  shuttle   \n",
       "\n",
       "   max_capacity  \n",
       "0            49  \n",
       "1            11  \n",
       "2            11  \n",
       "3            11  \n",
       "4            11  "
      ]
     },
     "execution_count": 13,
     "metadata": {},
     "output_type": "execute_result"
    }
   ],
   "source": [
    "test.head()"
   ]
  },
  {
   "cell_type": "code",
   "execution_count": 14,
   "metadata": {},
   "outputs": [
    {
     "name": "stdout",
     "output_type": "stream",
     "text": [
      "<class 'pandas.core.frame.DataFrame'>\n",
      "RangeIndex: 51645 entries, 0 to 51644\n",
      "Data columns (total 10 columns):\n",
      " #   Column           Non-Null Count  Dtype         \n",
      "---  ------           --------------  -----         \n",
      " 0   ride_id          51645 non-null  int64         \n",
      " 1   seat_number      51645 non-null  object        \n",
      " 2   payment_method   51645 non-null  object        \n",
      " 3   payment_receipt  51645 non-null  object        \n",
      " 4   travel_date      51645 non-null  datetime64[ns]\n",
      " 5   travel_time      51645 non-null  object        \n",
      " 6   travel_from      51645 non-null  object        \n",
      " 7   travel_to        51645 non-null  object        \n",
      " 8   car_type         51645 non-null  object        \n",
      " 9   max_capacity     51645 non-null  int64         \n",
      "dtypes: datetime64[ns](1), int64(2), object(7)\n",
      "memory usage: 3.9+ MB\n"
     ]
    }
   ],
   "source": [
    "train.info()"
   ]
  },
  {
   "cell_type": "code",
   "execution_count": 14,
   "metadata": {},
   "outputs": [
    {
     "data": {
      "image/png": "[encoded data removed]",
      "text/plain": [
       "<Figure size 1000x600 with 1 Axes>"
      ]
     },
     "metadata": {},
     "output_type": "display_data"
    }
   ],
   "source": [
    "plt.figure(figsize=(10, 6))\n",
    "sns.lineplot(data=train.groupby('travel_date').size(), marker='o')\n",
    "plt.title('Ticket sales over time')\n",
    "plt.xlabel('Date')\n",
    "plt.ylabel('Number of tickets sold')\n",
    "plt.show()"
   ]
  },
  {
   "cell_type": "code",
   "execution_count": null,
   "metadata": {},
   "outputs": [
    {
     "name": "stderr",
     "output_type": "stream",
     "text": [
      "C:\\Users\\Reinhard\\AppData\\Local\\Temp\\ipykernel_18756\\3935553231.py:9: FutureWarning: \n",
      "\n",
      "Passing `palette` without assigning `hue` is deprecated and will be removed in v0.14.0. Assign the `x` variable to `hue` and set `legend=False` for the same effect.\n",
      "\n",
      "  sns.barplot(x=hourly_ticket_counts.index, y=hourly_ticket_counts.values, palette='viridis')\n"
     ]
    },
    {
     "data": {
      "image/png": "[encoded data removed]",
      "text/plain": [
       "<Figure size 1000x600 with 1 Axes>"
      ]
     },
     "metadata": {},
     "output_type": "display_data"
    }
   ],
   "source": [
    "# Extract the hour from the travel_time column\n",
    "train['travel_hour'] = pd.to_datetime(train['travel_time'], format='%H:%M:%S').dt.hour\n",
    "\n",
    "# Group by hour and count the number of tickets sold\n",
    "hourly_ticket_counts = train.groupby('travel_time').size()\n",
    "\n",
    "# Plot the data\n",
    "plt.figure(figsize=(10, 6))\n",
    "sns.barplot(x=hourly_ticket_counts.index, y=hourly_ticket_counts.values, palette='viridis')\n",
    "plt.title('Tickets Sold by Hour of the Day', fontsize=16)\n",
    "plt.xlabel('Hour of the Day (24-hour format)', fontsize=14)\n",
    "plt.ylabel('Number of Tickets Sold', fontsize=14)\n",
    "plt.xticks(range(0, 24), fontsize=12)\n",
    "plt.yticks(fontsize=12)\n",
    "plt.grid(axis='y', linestyle='--', alpha=0.7)\n"
   ]
  },
  {
   "cell_type": "markdown",
   "metadata": {},
   "source": [
    "### Feature Engineering"
   ]
  },
  {
   "cell_type": "code",
   "execution_count": 15,
   "metadata": {},
   "outputs": [],
   "source": [
    "train['total_tickets'] = train.groupby('ride_id')['seat_number'].transform('count')"
   ]
  },
  {
   "cell_type": "code",
   "execution_count": 16,
   "metadata": {},
   "outputs": [],
   "source": [
    "def feature_engineering(df):\n",
    "    df['day_of_week'] =  df['travel_date'].dt.dayofweek\n",
    "    df['is_weekend'] = df['day_of_week'].apply(lambda x: 1 if x>=5 else 0)\n",
    "    df['departure_hour'] = pd.to_datetime(df['travel_time'], format='%H:%M:%S').dt.hour\n",
    "    df['month'] = df['travel_date'].dt.month\n",
    "\n",
    "    # Cyclical transformations\n",
    "    #df['hour_sin'] = np.sin(2 * np.pi * df['departure_hour'] / 24)\n",
    "    #df['hour_cos'] = np.cos(2 * np.pi * df['departure_hour'] / 24)\n",
    "    #df['day_sin'] = np.sin(2 * np.pi * df['day_of_week'] / 7)\n",
    "    #df['day_cos'] = np.cos(2 * np.pi * df['day_of_week'] / 7)\n",
    "    return df"
   ]
  },
  {
   "cell_type": "code",
   "execution_count": 17,
   "metadata": {},
   "outputs": [],
   "source": [
    "train = feature_engineering(train)\n",
    "test = feature_engineering(test)"
   ]
  },
  {
   "cell_type": "code",
   "execution_count": 18,
   "metadata": {},
   "outputs": [
    {
     "name": "stdout",
     "output_type": "stream",
     "text": [
      "<class 'pandas.core.frame.DataFrame'>\n",
      "RangeIndex: 51645 entries, 0 to 51644\n",
      "Data columns (total 15 columns):\n",
      " #   Column           Non-Null Count  Dtype         \n",
      "---  ------           --------------  -----         \n",
      " 0   ride_id          51645 non-null  int64         \n",
      " 1   seat_number      51645 non-null  object        \n",
      " 2   payment_method   51645 non-null  object        \n",
      " 3   payment_receipt  51645 non-null  object        \n",
      " 4   travel_date      51645 non-null  datetime64[ns]\n",
      " 5   travel_time      51645 non-null  object        \n",
      " 6   travel_from      51645 non-null  object        \n",
      " 7   travel_to        51645 non-null  object        \n",
      " 8   car_type         51645 non-null  object        \n",
      " 9   max_capacity     51645 non-null  int64         \n",
      " 10  total_tickets    51645 non-null  int64         \n",
      " 11  day_of_week      51645 non-null  int32         \n",
      " 12  is_weekend       51645 non-null  int64         \n",
      " 13  departure_hour   51645 non-null  int32         \n",
      " 14  month            51645 non-null  int32         \n",
      "dtypes: datetime64[ns](1), int32(3), int64(4), object(7)\n",
      "memory usage: 5.3+ MB\n"
     ]
    }
   ],
   "source": [
    "train.info()"
   ]
  },
  {
   "cell_type": "code",
   "execution_count": 19,
   "metadata": {},
   "outputs": [
    {
     "name": "stdout",
     "output_type": "stream",
     "text": [
      "<class 'pandas.core.frame.DataFrame'>\n",
      "RangeIndex: 1111 entries, 0 to 1110\n",
      "Data columns (total 11 columns):\n",
      " #   Column          Non-Null Count  Dtype         \n",
      "---  ------          --------------  -----         \n",
      " 0   ride_id         1111 non-null   int64         \n",
      " 1   travel_date     1111 non-null   datetime64[ns]\n",
      " 2   travel_time     1111 non-null   object        \n",
      " 3   travel_from     1111 non-null   object        \n",
      " 4   travel_to       1111 non-null   object        \n",
      " 5   car_type        1111 non-null   object        \n",
      " 6   max_capacity    1111 non-null   int64         \n",
      " 7   day_of_week     1111 non-null   int32         \n",
      " 8   is_weekend      1111 non-null   int64         \n",
      " 9   departure_hour  1111 non-null   int32         \n",
      " 10  month           1111 non-null   int32         \n",
      "dtypes: datetime64[ns](1), int32(3), int64(3), object(4)\n",
      "memory usage: 82.6+ KB\n"
     ]
    }
   ],
   "source": [
    "test.info()"
   ]
  },
  {
   "cell_type": "code",
   "execution_count": null,
   "metadata": {},
   "outputs": [],
   "source": [
    "def add_interaction_features(df):\n",
    "    # Interaction between travel_from and day_of_week\n",
    "    df['route_day_interaction'] = df['travel_from'] + '_' + df['day_of_week'].astype(str)\n",
    "\n",
    "    # Interaction between car_type and departure_hour\n",
    "    df['car_hour_interaction'] = df['car_type'] + '_' + df['departure_hour'].astype(str)\n",
    "\n",
    "    return df\n",
    "\n",
    "# Add interaction features\n",
    "train = add_interaction_features(train)\n",
    "test = add_interaction_features(test)\n",
    "\n",
    "# One-hot encode interaction features\n",
    "encoder = OneHotEncoder(sparse_output=False, handle_unknown='ignore')\n",
    "\n",
    "# Fit on training data and transform both datasets\n",
    "interaction_features = ['route_day_interaction', 'car_hour_interaction']\n",
    "encoded_train = encoder.fit_transform(train[interaction_features])\n",
    "encoded_test = encoder.transform(test[interaction_features])\n",
    "\n",
    "# Convert to DataFrame\n",
    "encoded_train_df = pd.DataFrame(encoded_train, columns=encoder.get_feature_names_out(interaction_features))\n",
    "encoded_test_df = pd.DataFrame(encoded_test, columns=encoder.get_feature_names_out(interaction_features))\n",
    "\n",
    "# Merge encoded interaction features with original datasets\n",
    "train = pd.concat([train.reset_index(drop=True), encoded_train_df], axis=1)\n",
    "test = pd.concat([test.reset_index(drop=True), encoded_test_df], axis=1)\n",
    "\n",
    "# Drop original interaction features\n",
    "train.drop(interaction_features, axis=1, inplace=True)\n",
    "test.drop(interaction_features, axis=1, inplace=True)"
   ]
  },
  {
   "cell_type": "code",
   "execution_count": null,
   "metadata": {},
   "outputs": [],
   "source": []
  },
  {
   "cell_type": "code",
   "execution_count": 48,
   "metadata": {},
   "outputs": [
    {
     "name": "stdout",
     "output_type": "stream",
     "text": [
      "<class 'pandas.core.frame.DataFrame'>\n",
      "RangeIndex: 51645 entries, 0 to 51644\n",
      "Columns: 140 entries, ride_id to car_hour_interaction_shuttle_9\n",
      "dtypes: datetime64[ns](1), float64(125), int32(3), int64(4), object(7)\n",
      "memory usage: 54.6+ MB\n"
     ]
    }
   ],
   "source": [
    "train.info()"
   ]
  },
  {
   "cell_type": "code",
   "execution_count": 20,
   "metadata": {},
   "outputs": [],
   "source": [
    "## Encoding categorical features\n",
    "encoder = OneHotEncoder(sparse_output=False, handle_unknown='ignore')\n",
    "encoded_features = encoder.fit_transform(train[['travel_from','car_type']])\n",
    "categories = encoder.get_feature_names_out(['travel_from', 'car_type'])\n",
    "encoded_df = pd.DataFrame(encoded_features, columns=categories)\n",
    "train = pd.concat([train.reset_index(drop=True), encoded_df], axis=1)"
   ]
  },
  {
   "cell_type": "code",
   "execution_count": 21,
   "metadata": {},
   "outputs": [],
   "source": [
    "encoded_test_features = encoder.transform(test[['travel_from', 'car_type']])\n",
    "encoded_test_df = pd.DataFrame(encoded_test_features, columns= categories)\n",
    "test = pd.concat([test.reset_index(drop=True), encoded_test_df], axis =1)"
   ]
  },
  {
   "cell_type": "code",
   "execution_count": 22,
   "metadata": {},
   "outputs": [
    {
     "name": "stdout",
     "output_type": "stream",
     "text": [
      "<class 'pandas.core.frame.DataFrame'>\n",
      "RangeIndex: 51645 entries, 0 to 51644\n",
      "Data columns (total 34 columns):\n",
      " #   Column                 Non-Null Count  Dtype         \n",
      "---  ------                 --------------  -----         \n",
      " 0   ride_id                51645 non-null  int64         \n",
      " 1   seat_number            51645 non-null  object        \n",
      " 2   payment_method         51645 non-null  object        \n",
      " 3   payment_receipt        51645 non-null  object        \n",
      " 4   travel_date            51645 non-null  datetime64[ns]\n",
      " 5   travel_time            51645 non-null  object        \n",
      " 6   travel_from            51645 non-null  object        \n",
      " 7   travel_to              51645 non-null  object        \n",
      " 8   car_type               51645 non-null  object        \n",
      " 9   max_capacity           51645 non-null  int64         \n",
      " 10  total_tickets          51645 non-null  int64         \n",
      " 11  day_of_week            51645 non-null  int32         \n",
      " 12  is_weekend             51645 non-null  int64         \n",
      " 13  departure_hour         51645 non-null  int32         \n",
      " 14  month                  51645 non-null  int32         \n",
      " 15  travel_from_Awendo     51645 non-null  float64       \n",
      " 16  travel_from_Homa Bay   51645 non-null  float64       \n",
      " 17  travel_from_Kehancha   51645 non-null  float64       \n",
      " 18  travel_from_Kendu Bay  51645 non-null  float64       \n",
      " 19  travel_from_Keroka     51645 non-null  float64       \n",
      " 20  travel_from_Keumbu     51645 non-null  float64       \n",
      " 21  travel_from_Kijauri    51645 non-null  float64       \n",
      " 22  travel_from_Kisii      51645 non-null  float64       \n",
      " 23  travel_from_Mbita      51645 non-null  float64       \n",
      " 24  travel_from_Migori     51645 non-null  float64       \n",
      " 25  travel_from_Ndhiwa     51645 non-null  float64       \n",
      " 26  travel_from_Nyachenge  51645 non-null  float64       \n",
      " 27  travel_from_Oyugis     51645 non-null  float64       \n",
      " 28  travel_from_Rodi       51645 non-null  float64       \n",
      " 29  travel_from_Rongo      51645 non-null  float64       \n",
      " 30  travel_from_Sirare     51645 non-null  float64       \n",
      " 31  travel_from_Sori       51645 non-null  float64       \n",
      " 32  car_type_Bus           51645 non-null  float64       \n",
      " 33  car_type_shuttle       51645 non-null  float64       \n",
      "dtypes: datetime64[ns](1), float64(19), int32(3), int64(4), object(7)\n",
      "memory usage: 12.8+ MB\n"
     ]
    }
   ],
   "source": [
    "train.info()"
   ]
  },
  {
   "cell_type": "code",
   "execution_count": 23,
   "metadata": {},
   "outputs": [
    {
     "name": "stdout",
     "output_type": "stream",
     "text": [
      "<class 'pandas.core.frame.DataFrame'>\n",
      "RangeIndex: 1111 entries, 0 to 1110\n",
      "Data columns (total 30 columns):\n",
      " #   Column                 Non-Null Count  Dtype         \n",
      "---  ------                 --------------  -----         \n",
      " 0   ride_id                1111 non-null   int64         \n",
      " 1   travel_date            1111 non-null   datetime64[ns]\n",
      " 2   travel_time            1111 non-null   object        \n",
      " 3   travel_from            1111 non-null   object        \n",
      " 4   travel_to              1111 non-null   object        \n",
      " 5   car_type               1111 non-null   object        \n",
      " 6   max_capacity           1111 non-null   int64         \n",
      " 7   day_of_week            1111 non-null   int32         \n",
      " 8   is_weekend             1111 non-null   int64         \n",
      " 9   departure_hour         1111 non-null   int32         \n",
      " 10  month                  1111 non-null   int32         \n",
      " 11  travel_from_Awendo     1111 non-null   float64       \n",
      " 12  travel_from_Homa Bay   1111 non-null   float64       \n",
      " 13  travel_from_Kehancha   1111 non-null   float64       \n",
      " 14  travel_from_Kendu Bay  1111 non-null   float64       \n",
      " 15  travel_from_Keroka     1111 non-null   float64       \n",
      " 16  travel_from_Keumbu     1111 non-null   float64       \n",
      " 17  travel_from_Kijauri    1111 non-null   float64       \n",
      " 18  travel_from_Kisii      1111 non-null   float64       \n",
      " 19  travel_from_Mbita      1111 non-null   float64       \n",
      " 20  travel_from_Migori     1111 non-null   float64       \n",
      " 21  travel_from_Ndhiwa     1111 non-null   float64       \n",
      " 22  travel_from_Nyachenge  1111 non-null   float64       \n",
      " 23  travel_from_Oyugis     1111 non-null   float64       \n",
      " 24  travel_from_Rodi       1111 non-null   float64       \n",
      " 25  travel_from_Rongo      1111 non-null   float64       \n",
      " 26  travel_from_Sirare     1111 non-null   float64       \n",
      " 27  travel_from_Sori       1111 non-null   float64       \n",
      " 28  car_type_Bus           1111 non-null   float64       \n",
      " 29  car_type_shuttle       1111 non-null   float64       \n",
      "dtypes: datetime64[ns](1), float64(19), int32(3), int64(3), object(4)\n",
      "memory usage: 247.5+ KB\n"
     ]
    }
   ],
   "source": [
    "test.info()"
   ]
  },
  {
   "cell_type": "code",
   "execution_count": 24,
   "metadata": {},
   "outputs": [],
   "source": [
    "train.drop(['ride_id','travel_date','travel_time', 'travel_to','seat_number', 'payment_method', 'payment_receipt', 'travel_from', 'car_type'], axis=1, inplace=True)\n",
    "test.drop(['travel_from', 'car_type', 'travel_to'], axis=1, inplace=True)\n"
   ]
  },
  {
   "cell_type": "code",
   "execution_count": 26,
   "metadata": {},
   "outputs": [],
   "source": [
    "X = train.drop(['total_tickets'], axis=1)\n",
    "y = train['total_tickets'].reset_index(drop=True)  # Ensure y is a pandas Series\n"
   ]
  },
  {
   "cell_type": "markdown",
   "metadata": {},
   "source": [
    "## Time-based Cross-validation"
   ]
  },
  {
   "cell_type": "code",
   "execution_count": 30,
   "metadata": {},
   "outputs": [
    {
     "name": "stdout",
     "output_type": "stream",
     "text": [
      "Mean Absolute Error across folds: 9.375390343817148\n",
      "Submission saved!\n"
     ]
    }
   ],
   "source": [
    "import xgboost as xgb\n",
    "from sklearn.model_selection import TimeSeriesSplit\n",
    "from sklearn.metrics import mean_absolute_error\n",
    "from sklearn.preprocessing import StandardScaler\n",
    "\n",
    "# Prepare the data\n",
    "X = train.drop(['total_tickets'], axis=1)\n",
    "y = train['total_tickets']\n",
    "\n",
    "# Normalize numerical features\n",
    "scaler = StandardScaler()\n",
    "X_scaled = scaler.fit_transform(X)\n",
    "\n",
    "# XGBoost does not require feature scaling, so we use the original features for XGBoost\n",
    "X_original = train.drop(['total_tickets'], axis=1)\n",
    "\n",
    "# TimeSeriesSplit for cross-validation\n",
    "ts_split = TimeSeriesSplit(n_splits=5)\n",
    "mae_scores = []\n",
    "\n",
    "for train_idx, val_idx in ts_split.split(X_original):\n",
    "    X_train, X_val = X_original.iloc[train_idx], X_original.iloc[val_idx]\n",
    "    y_train, y_val = y.iloc[train_idx], y.iloc[val_idx]\n",
    "\n",
    "    # Define and fit the XGBoost model\n",
    "    xgb_model = xgb.XGBRegressor(\n",
    "        n_estimators=500,\n",
    "        learning_rate=0.05,\n",
    "        max_depth=6,\n",
    "        subsample=0.8,\n",
    "        colsample_bytree=0.8,\n",
    "        random_state=42\n",
    "    )\n",
    "    xgb_model.fit(X_train, y_train, eval_set=[(X_val, y_val)], verbose=False)\n",
    "\n",
    "    # Predict and calculate MAE\n",
    "    predictions = xgb_model.predict(X_val)\n",
    "    mae = mean_absolute_error(y_val, predictions)\n",
    "    mae_scores.append(mae)\n",
    "\n",
    "print(\"Mean Absolute Error across folds:\", np.mean(mae_scores))\n",
    "\n",
    "# Fit on the entire training set\n",
    "xgb_model.fit(X_original, y)\n",
    "\n",
    "# Prepare test data\n",
    "X_test = test.drop(['ride_id', 'travel_date', 'travel_time'], axis=1)\n",
    "\n",
    "# Predict on test data\n",
    "test['number_of_tickets'] = xgb_model.predict(X_test)\n",
    "\n",
    "# Save submission\n",
    "submission = test[['ride_id', 'number_of_tickets']]\n",
    "submission.to_csv('submission4.csv', index=False)\n",
    "print(\"Submission saved!\")\n"
   ]
  }
 ],
 "metadata": {
  "kernelspec": {
   "display_name": "Datascience",
   "language": "python",
   "name": "python3"
  },
  "language_info": {
   "codemirror_mode": {
    "name": "ipython",
    "version": 3
   },
   "file_extension": ".py",
   "mimetype": "text/x-python",
   "name": "python",
   "nbconvert_exporter": "python",
   "pygments_lexer": "ipython3",
   "version": "3.12.4"
  }
 },
 "nbformat": 4,
 "nbformat_minor": 2
}
